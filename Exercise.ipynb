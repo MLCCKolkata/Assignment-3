{
  "nbformat": 4,
  "nbformat_minor": 0,
  "metadata": {
    "colab": {
      "name": "Pandas_Exercise.ipynb",
      "version": "0.3.2",
      "provenance": [],
      "collapsed_sections": [],
      "toc_visible": true,
      "include_colab_link": true
    },
    "kernelspec": {
      "name": "python3",
      "display_name": "Python 3"
    }
  },
  "cells": [
    {
      "cell_type": "markdown",
      "metadata": {
        "id": "view-in-github",
        "colab_type": "text"
      },
      "source": [
        "[View in Colaboratory](https://colab.research.google.com/github/nabhoneel/Assignment-3/blob/nabhoneel/Exercise.ipynb)"
      ]
    },
    {
      "metadata": {
        "id": "2LTtpUJEibjg",
        "colab_type": "text"
      },
      "cell_type": "markdown",
      "source": [
        "# Pandas Exercise :\n",
        "\n",
        "\n",
        "#### import necessary modules"
      ]
    },
    {
      "metadata": {
        "id": "c3_UBbMRhiKx",
        "colab_type": "code",
        "colab": {}
      },
      "cell_type": "code",
      "source": [
        "import numpy as np\n",
        "import pandas as pd"
      ],
      "execution_count": 0,
      "outputs": []
    },
    {
      "metadata": {
        "id": "tp-cTCyWi8mR",
        "colab_type": "text"
      },
      "cell_type": "markdown",
      "source": [
        "#### Load url = \"https://archive.ics.uci.edu/ml/machine-learning-databases/wine/wine.data\" to a dataframe named wine_df\n",
        "\n",
        "This is a wine dataset\n",
        "\n"
      ]
    },
    {
      "metadata": {
        "id": "DMojQY3thrRi",
        "colab_type": "code",
        "colab": {}
      },
      "cell_type": "code",
      "source": [
        "wine_df = pd.read_csv('https://archive.ics.uci.edu/ml/machine-learning-databases/wine/wine.data')"
      ],
      "execution_count": 0,
      "outputs": []
    },
    {
      "metadata": {
        "id": "BF9MMjoZjSlg",
        "colab_type": "text"
      },
      "cell_type": "markdown",
      "source": [
        "#### print first five rows"
      ]
    },
    {
      "metadata": {
        "id": "1vSMQdnHjYNU",
        "colab_type": "code",
        "colab": {
          "base_uri": "https://localhost:8080/",
          "height": 197
        },
        "outputId": "5eea423c-0b02-4060-989a-39be46481f00"
      },
      "cell_type": "code",
      "source": [
        "wine_df.head()"
      ],
      "execution_count": 3,
      "outputs": [
        {
          "output_type": "execute_result",
          "data": {
            "text/html": [
              "<div>\n",
              "<style scoped>\n",
              "    .dataframe tbody tr th:only-of-type {\n",
              "        vertical-align: middle;\n",
              "    }\n",
              "\n",
              "    .dataframe tbody tr th {\n",
              "        vertical-align: top;\n",
              "    }\n",
              "\n",
              "    .dataframe thead th {\n",
              "        text-align: right;\n",
              "    }\n",
              "</style>\n",
              "<table border=\"1\" class=\"dataframe\">\n",
              "  <thead>\n",
              "    <tr style=\"text-align: right;\">\n",
              "      <th></th>\n",
              "      <th>1</th>\n",
              "      <th>14.23</th>\n",
              "      <th>1.71</th>\n",
              "      <th>2.43</th>\n",
              "      <th>15.6</th>\n",
              "      <th>127</th>\n",
              "      <th>2.8</th>\n",
              "      <th>3.06</th>\n",
              "      <th>.28</th>\n",
              "      <th>2.29</th>\n",
              "      <th>5.64</th>\n",
              "      <th>1.04</th>\n",
              "      <th>3.92</th>\n",
              "      <th>1065</th>\n",
              "    </tr>\n",
              "  </thead>\n",
              "  <tbody>\n",
              "    <tr>\n",
              "      <th>0</th>\n",
              "      <td>1</td>\n",
              "      <td>13.20</td>\n",
              "      <td>1.78</td>\n",
              "      <td>2.14</td>\n",
              "      <td>11.2</td>\n",
              "      <td>100</td>\n",
              "      <td>2.65</td>\n",
              "      <td>2.76</td>\n",
              "      <td>0.26</td>\n",
              "      <td>1.28</td>\n",
              "      <td>4.38</td>\n",
              "      <td>1.05</td>\n",
              "      <td>3.40</td>\n",
              "      <td>1050</td>\n",
              "    </tr>\n",
              "    <tr>\n",
              "      <th>1</th>\n",
              "      <td>1</td>\n",
              "      <td>13.16</td>\n",
              "      <td>2.36</td>\n",
              "      <td>2.67</td>\n",
              "      <td>18.6</td>\n",
              "      <td>101</td>\n",
              "      <td>2.80</td>\n",
              "      <td>3.24</td>\n",
              "      <td>0.30</td>\n",
              "      <td>2.81</td>\n",
              "      <td>5.68</td>\n",
              "      <td>1.03</td>\n",
              "      <td>3.17</td>\n",
              "      <td>1185</td>\n",
              "    </tr>\n",
              "    <tr>\n",
              "      <th>2</th>\n",
              "      <td>1</td>\n",
              "      <td>14.37</td>\n",
              "      <td>1.95</td>\n",
              "      <td>2.50</td>\n",
              "      <td>16.8</td>\n",
              "      <td>113</td>\n",
              "      <td>3.85</td>\n",
              "      <td>3.49</td>\n",
              "      <td>0.24</td>\n",
              "      <td>2.18</td>\n",
              "      <td>7.80</td>\n",
              "      <td>0.86</td>\n",
              "      <td>3.45</td>\n",
              "      <td>1480</td>\n",
              "    </tr>\n",
              "    <tr>\n",
              "      <th>3</th>\n",
              "      <td>1</td>\n",
              "      <td>13.24</td>\n",
              "      <td>2.59</td>\n",
              "      <td>2.87</td>\n",
              "      <td>21.0</td>\n",
              "      <td>118</td>\n",
              "      <td>2.80</td>\n",
              "      <td>2.69</td>\n",
              "      <td>0.39</td>\n",
              "      <td>1.82</td>\n",
              "      <td>4.32</td>\n",
              "      <td>1.04</td>\n",
              "      <td>2.93</td>\n",
              "      <td>735</td>\n",
              "    </tr>\n",
              "    <tr>\n",
              "      <th>4</th>\n",
              "      <td>1</td>\n",
              "      <td>14.20</td>\n",
              "      <td>1.76</td>\n",
              "      <td>2.45</td>\n",
              "      <td>15.2</td>\n",
              "      <td>112</td>\n",
              "      <td>3.27</td>\n",
              "      <td>3.39</td>\n",
              "      <td>0.34</td>\n",
              "      <td>1.97</td>\n",
              "      <td>6.75</td>\n",
              "      <td>1.05</td>\n",
              "      <td>2.85</td>\n",
              "      <td>1450</td>\n",
              "    </tr>\n",
              "  </tbody>\n",
              "</table>\n",
              "</div>"
            ],
            "text/plain": [
              "   1  14.23  1.71  2.43  15.6  127   2.8  3.06   .28  2.29  5.64  1.04  3.92  \\\n",
              "0  1  13.20  1.78  2.14  11.2  100  2.65  2.76  0.26  1.28  4.38  1.05  3.40   \n",
              "1  1  13.16  2.36  2.67  18.6  101  2.80  3.24  0.30  2.81  5.68  1.03  3.17   \n",
              "2  1  14.37  1.95  2.50  16.8  113  3.85  3.49  0.24  2.18  7.80  0.86  3.45   \n",
              "3  1  13.24  2.59  2.87  21.0  118  2.80  2.69  0.39  1.82  4.32  1.04  2.93   \n",
              "4  1  14.20  1.76  2.45  15.2  112  3.27  3.39  0.34  1.97  6.75  1.05  2.85   \n",
              "\n",
              "   1065  \n",
              "0  1050  \n",
              "1  1185  \n",
              "2  1480  \n",
              "3   735  \n",
              "4  1450  "
            ]
          },
          "metadata": {
            "tags": []
          },
          "execution_count": 3
        }
      ]
    },
    {
      "metadata": {
        "id": "Tet6P2DvjY3T",
        "colab_type": "text"
      },
      "cell_type": "markdown",
      "source": [
        "#### assign wine_df to a different variable wine_df_copy and then delete all odd rows of wine_df_copy\n",
        "\n",
        "[Hint](https://pandas.pydata.org/pandas-docs/stable/generated/pandas.DataFrame.drop.html)"
      ]
    },
    {
      "metadata": {
        "id": "CMj3qSdJjx0u",
        "colab_type": "code",
        "colab": {
          "base_uri": "https://localhost:8080/",
          "height": 434
        },
        "outputId": "60ebb022-3d6c-4e11-cf7f-50d98b110984"
      },
      "cell_type": "code",
      "source": [
        "wine_df_copy = wine_df # copied\n",
        "\n",
        "# deleting odd rows:\n",
        "wine_df_copy = wine_df_copy.drop(\n",
        "    list(\n",
        "        filter(\n",
        "            lambda x : x%2 != 0, \n",
        "            np.arange(0, len(wine_df_copy))\n",
        "        )\n",
        "    )\n",
        ")\n",
        "\n",
        "print(wine_df_copy.head(10))"
      ],
      "execution_count": 4,
      "outputs": [
        {
          "output_type": "stream",
          "text": [
            "    1  14.23  1.71  2.43  15.6  127   2.8  3.06   .28  2.29  5.64  1.04  3.92  \\\n",
            "0   1  13.20  1.78  2.14  11.2  100  2.65  2.76  0.26  1.28  4.38  1.05  3.40   \n",
            "2   1  14.37  1.95  2.50  16.8  113  3.85  3.49  0.24  2.18  7.80  0.86  3.45   \n",
            "4   1  14.20  1.76  2.45  15.2  112  3.27  3.39  0.34  1.97  6.75  1.05  2.85   \n",
            "6   1  14.06  2.15  2.61  17.6  121  2.60  2.51  0.31  1.25  5.05  1.06  3.58   \n",
            "8   1  13.86  1.35  2.27  16.0   98  2.98  3.15  0.22  1.85  7.22  1.01  3.55   \n",
            "10  1  14.12  1.48  2.32  16.8   95  2.20  2.43  0.26  1.57  5.00  1.17  2.82   \n",
            "12  1  14.75  1.73  2.39  11.4   91  3.10  3.69  0.43  2.81  5.40  1.25  2.73   \n",
            "14  1  13.63  1.81  2.70  17.2  112  2.85  2.91  0.30  1.46  7.30  1.28  2.88   \n",
            "16  1  13.83  1.57  2.62  20.0  115  2.95  3.40  0.40  1.72  6.60  1.13  2.57   \n",
            "18  1  13.64  3.10  2.56  15.2  116  2.70  3.03  0.17  1.66  5.10  0.96  3.36   \n",
            "\n",
            "    1065  \n",
            "0   1050  \n",
            "2   1480  \n",
            "4   1450  \n",
            "6   1295  \n",
            "8   1045  \n",
            "10  1280  \n",
            "12  1150  \n",
            "14  1310  \n",
            "16  1130  \n",
            "18   845  \n"
          ],
          "name": "stdout"
        }
      ]
    },
    {
      "metadata": {
        "id": "o6Cs6T1Rjz71",
        "colab_type": "text"
      },
      "cell_type": "markdown",
      "source": [
        "#### Assign the columns as below:\n",
        "\n",
        "The attributes are (dontated by Riccardo Leardi, riclea '@' anchem.unige.it):  \n",
        "1) Alcohol  \n",
        "2) Malic acid  \n",
        "3) Ash  \n",
        "4) Alcalinity of ash  \n",
        "5) Magnesium  \n",
        "6) Total phenols  \n",
        "7) Flavanoids  \n",
        "8) Nonflavanoid phenols  \n",
        "9) Proanthocyanins  \n",
        "10)Color intensity  \n",
        "11)Hue  \n",
        "12)OD280/OD315 of diluted wines  \n",
        "13)Proline "
      ]
    },
    {
      "metadata": {
        "id": "my8HB4V4j779",
        "colab_type": "code",
        "colab": {
          "base_uri": "https://localhost:8080/",
          "height": 379
        },
        "outputId": "02a5e7ff-2d6f-4ec9-8769-3a4fc39e80bf"
      },
      "cell_type": "code",
      "source": [
        "wine_df.columns = ['1', \n",
        "                   'Alcohol', \n",
        "                   'Malic acid', \n",
        "                   'Ash', \n",
        "                   'Alcalinity of Ash',\n",
        "                   'Magnesium',\n",
        "                   'Total phenols',\n",
        "                   'Flavanoids',\n",
        "                   'Nonflavanoid phenols',\n",
        "                   'Proanthocyanins',\n",
        "                   'Color intensity',          \n",
        "                   'Hue',\n",
        "                   'OD280/OD315 of diluted wines',\n",
        "                   'Proline']\n",
        "\n",
        "print(wine_df.head())"
      ],
      "execution_count": 6,
      "outputs": [
        {
          "output_type": "stream",
          "text": [
            "   1  Alcohol  Malic acid   Ash  Alcalinity of Ash  Magnesium  Total phenols  \\\n",
            "0  1    13.20        1.78  2.14               11.2        100           2.65   \n",
            "1  1    13.16        2.36  2.67               18.6        101           2.80   \n",
            "2  1    14.37        1.95  2.50               16.8        113           3.85   \n",
            "3  1    13.24        2.59  2.87               21.0        118           2.80   \n",
            "4  1    14.20        1.76  2.45               15.2        112           3.27   \n",
            "\n",
            "   Flavanoids  Nonflavanoid phenols  Proanthocyanins  Color intensity   Hue  \\\n",
            "0        2.76                  0.26             1.28             4.38  1.05   \n",
            "1        3.24                  0.30             2.81             5.68  1.03   \n",
            "2        3.49                  0.24             2.18             7.80  0.86   \n",
            "3        2.69                  0.39             1.82             4.32  1.04   \n",
            "4        3.39                  0.34             1.97             6.75  1.05   \n",
            "\n",
            "   OD280/OD315 of diluted wines  Proline  \n",
            "0                          3.40     1050  \n",
            "1                          3.17     1185  \n",
            "2                          3.45     1480  \n",
            "3                          2.93      735  \n",
            "4                          2.85     1450  \n"
          ],
          "name": "stdout"
        }
      ]
    },
    {
      "metadata": {
        "id": "Zqi7hwWpkNbH",
        "colab_type": "text"
      },
      "cell_type": "markdown",
      "source": [
        "#### Set the values of the first 3 rows from alcohol as NaN\n",
        "\n",
        "Hint- Use iloc to select 3 rows of wine_df"
      ]
    },
    {
      "metadata": {
        "id": "buyT4vX4kPMl",
        "colab_type": "code",
        "colab": {
          "base_uri": "https://localhost:8080/",
          "height": 379
        },
        "outputId": "08aee1be-a214-4f04-e00d-09a953472111"
      },
      "cell_type": "code",
      "source": [
        "wine_df.iloc[:3, wine_df.columns.get_loc('Alcohol')] = np.nan\n",
        "\n",
        "print(wine_df.head())"
      ],
      "execution_count": 28,
      "outputs": [
        {
          "output_type": "stream",
          "text": [
            "   1 Alcohol  Malic acid   Ash  Alcalinity of Ash  Magnesium  Total phenols  \\\n",
            "0  1     NaN        1.78  2.14               11.2        100           2.65   \n",
            "1  1     NaN        2.36  2.67               18.6        101           2.80   \n",
            "2  1     NaN        1.95  2.50               16.8        113           3.85   \n",
            "3  1   13.24        2.59  2.87               21.0        118           2.80   \n",
            "4  1    14.2        1.76  2.45               15.2        112           3.27   \n",
            "\n",
            "   Flavanoids  Nonflavanoid phenols  Proanthocyanins  Color intensity   Hue  \\\n",
            "0        2.76                  0.26             1.28             4.38  1.05   \n",
            "1        3.24                  0.30             2.81             5.68  1.03   \n",
            "2        3.49                  0.24             2.18             7.80  0.86   \n",
            "3        2.69                  0.39             1.82             4.32  1.04   \n",
            "4        3.39                  0.34             1.97             6.75  1.05   \n",
            "\n",
            "   OD280/OD315 of diluted wines  Proline  \n",
            "0                          3.40     1050  \n",
            "1                          3.17     1185  \n",
            "2                          3.45     1480  \n",
            "3                          2.93      735  \n",
            "4                          2.85     1450  \n"
          ],
          "name": "stdout"
        }
      ]
    },
    {
      "metadata": {
        "id": "RQMNI2UHkP3o",
        "colab_type": "text"
      },
      "cell_type": "markdown",
      "source": [
        "#### Create an array of 10 random numbers uptill 10 and assign it to a  variable named `random`"
      ]
    },
    {
      "metadata": {
        "id": "xunmCjaEmDwZ",
        "colab_type": "code",
        "colab": {
          "base_uri": "https://localhost:8080/",
          "height": 35
        },
        "outputId": "69413c70-7783-48f3-bc30-5fd49ad2464f"
      },
      "cell_type": "code",
      "source": [
        "random = np.random.randint(10, size=10)\n",
        "print(random)"
      ],
      "execution_count": 29,
      "outputs": [
        {
          "output_type": "stream",
          "text": [
            "[5 9 6 6 4 5 8 9 6 1]\n"
          ],
          "name": "stdout"
        }
      ]
    },
    {
      "metadata": {
        "id": "hELUakyXmFSu",
        "colab_type": "text"
      },
      "cell_type": "markdown",
      "source": [
        "#### Use random numbers you generated as an index and assign NaN value to each of cell of the column alcohol"
      ]
    },
    {
      "metadata": {
        "id": "zMgaNnNHmP01",
        "colab_type": "code",
        "colab": {
          "base_uri": "https://localhost:8080/",
          "height": 651
        },
        "outputId": "21a2bd33-4c6f-469e-dcea-656ae8376f1b"
      },
      "cell_type": "code",
      "source": [
        "wine_df.iloc[lambda x : random, wine_df.columns.get_loc('Alcohol')] = np.nan\n",
        "\n",
        "print(wine_df.head(10))"
      ],
      "execution_count": 30,
      "outputs": [
        {
          "output_type": "stream",
          "text": [
            "   1 Alcohol  Malic acid   Ash  Alcalinity of Ash  Magnesium  Total phenols  \\\n",
            "0  1     NaN        1.78  2.14               11.2        100           2.65   \n",
            "1  1     NaN        2.36  2.67               18.6        101           2.80   \n",
            "2  1     NaN        1.95  2.50               16.8        113           3.85   \n",
            "3  1   13.24        2.59  2.87               21.0        118           2.80   \n",
            "4  1     NaN        1.76  2.45               15.2        112           3.27   \n",
            "5  1     NaN        1.87  2.45               14.6         96           2.50   \n",
            "6  1     NaN        2.15  2.61               17.6        121           2.60   \n",
            "7  1     NaN        1.64  2.17               14.0         97           2.80   \n",
            "8  1     NaN        1.35  2.27               16.0         98           2.98   \n",
            "9  1     NaN        2.16  2.30               18.0        105           2.95   \n",
            "\n",
            "   Flavanoids  Nonflavanoid phenols  Proanthocyanins  Color intensity   Hue  \\\n",
            "0        2.76                  0.26             1.28             4.38  1.05   \n",
            "1        3.24                  0.30             2.81             5.68  1.03   \n",
            "2        3.49                  0.24             2.18             7.80  0.86   \n",
            "3        2.69                  0.39             1.82             4.32  1.04   \n",
            "4        3.39                  0.34             1.97             6.75  1.05   \n",
            "5        2.52                  0.30             1.98             5.25  1.02   \n",
            "6        2.51                  0.31             1.25             5.05  1.06   \n",
            "7        2.98                  0.29             1.98             5.20  1.08   \n",
            "8        3.15                  0.22             1.85             7.22  1.01   \n",
            "9        3.32                  0.22             2.38             5.75  1.25   \n",
            "\n",
            "   OD280/OD315 of diluted wines  Proline  \n",
            "0                          3.40     1050  \n",
            "1                          3.17     1185  \n",
            "2                          3.45     1480  \n",
            "3                          2.93      735  \n",
            "4                          2.85     1450  \n",
            "5                          3.58     1290  \n",
            "6                          3.58     1295  \n",
            "7                          2.85     1045  \n",
            "8                          3.55     1045  \n",
            "9                          3.17     1510  \n"
          ],
          "name": "stdout"
        }
      ]
    },
    {
      "metadata": {
        "id": "PHyK_vRsmRwV",
        "colab_type": "text"
      },
      "cell_type": "markdown",
      "source": [
        "####  How many missing values do we have? \n",
        "\n",
        "Hint: you can use isnull() and sum()"
      ]
    },
    {
      "metadata": {
        "id": "EnOYhmEqmfKp",
        "colab_type": "code",
        "colab": {
          "base_uri": "https://localhost:8080/",
          "height": 289
        },
        "outputId": "74279cd5-3a97-4b60-ff4e-400320a0edba"
      },
      "cell_type": "code",
      "source": [
        "wine_df.isnull().sum()"
      ],
      "execution_count": 33,
      "outputs": [
        {
          "output_type": "execute_result",
          "data": {
            "text/plain": [
              "1                               0\n",
              "Alcohol                         9\n",
              "Malic acid                      0\n",
              "Ash                             0\n",
              "Alcalinity of Ash               0\n",
              "Magnesium                       0\n",
              "Total phenols                   0\n",
              "Flavanoids                      0\n",
              "Nonflavanoid phenols            0\n",
              "Proanthocyanins                 0\n",
              "Color intensity                 0\n",
              "Hue                             0\n",
              "OD280/OD315 of diluted wines    0\n",
              "Proline                         0\n",
              "dtype: int64"
            ]
          },
          "metadata": {
            "tags": []
          },
          "execution_count": 33
        }
      ]
    },
    {
      "metadata": {
        "id": "-Fd4WBklmf1_",
        "colab_type": "text"
      },
      "cell_type": "markdown",
      "source": [
        "#### Delete the rows that contain missing values "
      ]
    },
    {
      "metadata": {
        "id": "As7IC6Ktms8-",
        "colab_type": "code",
        "colab": {}
      },
      "cell_type": "code",
      "source": [
        ""
      ],
      "execution_count": 0,
      "outputs": []
    },
    {
      "metadata": {
        "id": "DlpG8drhmz7W",
        "colab_type": "text"
      },
      "cell_type": "markdown",
      "source": [
        "### BONUS: Play with the data set below"
      ]
    },
    {
      "metadata": {
        "id": "mD40T0Cnm5SA",
        "colab_type": "code",
        "colab": {}
      },
      "cell_type": "code",
      "source": [
        ""
      ],
      "execution_count": 0,
      "outputs": []
    }
  ]
}