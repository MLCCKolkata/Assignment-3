{
  "nbformat": 4,
  "nbformat_minor": 0,
  "metadata": {
    "colab": {
      "name": "VicktorKrum.ipynb",
      "version": "0.3.2",
      "provenance": []
    },
    "kernelspec": {
      "display_name": "Python 3",
      "language": "python",
      "name": "python3"
    }
  },
  "cells": [
    {
      "metadata": {
        "id": "dFtMe0863qR0",
        "colab_type": "text"
      },
      "cell_type": "markdown",
      "source": [
        "**PANDAS EXERCISE:**\n",
        "\n",
        "1) Import necessary modules:-"
      ]
    },
    {
      "metadata": {
        "id": "rbPXtHYN34lq",
        "colab_type": "code",
        "colab": {}
      },
      "cell_type": "code",
      "source": [
        "import numpy as np\n",
        "import pandas as pd"
      ],
      "execution_count": 0,
      "outputs": []
    },
    {
      "metadata": {
        "id": "Zp3YP6bx3_hv",
        "colab_type": "text"
      },
      "cell_type": "markdown",
      "source": [
        "2) Load url = \"https://archive.ics.uci.edu/ml/machine-learning-databases/wine/wine.data\" to a dataframe named wine_df\n",
        "This is a wine dataset"
      ]
    },
    {
      "metadata": {
        "id": "WbKHbokT4FW5",
        "colab_type": "code",
        "colab": {}
      },
      "cell_type": "code",
      "source": [
        "wine_df =  pd.read_csv('https://archive.ics.uci.edu/ml/machine-learning-databases/wine/wine.data')"
      ],
      "execution_count": 0,
      "outputs": []
    },
    {
      "metadata": {
        "id": "JRi2audv4YDD",
        "colab_type": "text"
      },
      "cell_type": "markdown",
      "source": [
        "3) Print first five rows:"
      ]
    },
    {
      "metadata": {
        "id": "igX8FhZo4fPS",
        "colab_type": "code",
        "colab": {
          "base_uri": "https://localhost:8080/",
          "height": 425
        },
        "outputId": "fedad980-ecbc-4467-f45e-83d47461594d"
      },
      "cell_type": "code",
      "source": [
        "print(wine_df.head())\n",
        "\n",
        "wine_df.head(5)"
      ],
      "execution_count": 7,
      "outputs": [
        {
          "output_type": "stream",
          "text": [
            "   1  14.23  1.71  2.43  15.6  127   2.8  3.06   .28  2.29  5.64  1.04  3.92  \\\n",
            "0  1  13.20  1.78  2.14  11.2  100  2.65  2.76  0.26  1.28  4.38  1.05  3.40   \n",
            "1  1  13.16  2.36  2.67  18.6  101  2.80  3.24  0.30  2.81  5.68  1.03  3.17   \n",
            "2  1  14.37  1.95  2.50  16.8  113  3.85  3.49  0.24  2.18  7.80  0.86  3.45   \n",
            "3  1  13.24  2.59  2.87  21.0  118  2.80  2.69  0.39  1.82  4.32  1.04  2.93   \n",
            "4  1  14.20  1.76  2.45  15.2  112  3.27  3.39  0.34  1.97  6.75  1.05  2.85   \n",
            "\n",
            "   1065  \n",
            "0  1050  \n",
            "1  1185  \n",
            "2  1480  \n",
            "3   735  \n",
            "4  1450  \n"
          ],
          "name": "stdout"
        },
        {
          "output_type": "execute_result",
          "data": {
            "text/html": [
              "<div>\n",
              "<style scoped>\n",
              "    .dataframe tbody tr th:only-of-type {\n",
              "        vertical-align: middle;\n",
              "    }\n",
              "\n",
              "    .dataframe tbody tr th {\n",
              "        vertical-align: top;\n",
              "    }\n",
              "\n",
              "    .dataframe thead th {\n",
              "        text-align: right;\n",
              "    }\n",
              "</style>\n",
              "<table border=\"1\" class=\"dataframe\">\n",
              "  <thead>\n",
              "    <tr style=\"text-align: right;\">\n",
              "      <th></th>\n",
              "      <th>1</th>\n",
              "      <th>14.23</th>\n",
              "      <th>1.71</th>\n",
              "      <th>2.43</th>\n",
              "      <th>15.6</th>\n",
              "      <th>127</th>\n",
              "      <th>2.8</th>\n",
              "      <th>3.06</th>\n",
              "      <th>.28</th>\n",
              "      <th>2.29</th>\n",
              "      <th>5.64</th>\n",
              "      <th>1.04</th>\n",
              "      <th>3.92</th>\n",
              "      <th>1065</th>\n",
              "    </tr>\n",
              "  </thead>\n",
              "  <tbody>\n",
              "    <tr>\n",
              "      <th>0</th>\n",
              "      <td>1</td>\n",
              "      <td>13.20</td>\n",
              "      <td>1.78</td>\n",
              "      <td>2.14</td>\n",
              "      <td>11.2</td>\n",
              "      <td>100</td>\n",
              "      <td>2.65</td>\n",
              "      <td>2.76</td>\n",
              "      <td>0.26</td>\n",
              "      <td>1.28</td>\n",
              "      <td>4.38</td>\n",
              "      <td>1.05</td>\n",
              "      <td>3.40</td>\n",
              "      <td>1050</td>\n",
              "    </tr>\n",
              "    <tr>\n",
              "      <th>1</th>\n",
              "      <td>1</td>\n",
              "      <td>13.16</td>\n",
              "      <td>2.36</td>\n",
              "      <td>2.67</td>\n",
              "      <td>18.6</td>\n",
              "      <td>101</td>\n",
              "      <td>2.80</td>\n",
              "      <td>3.24</td>\n",
              "      <td>0.30</td>\n",
              "      <td>2.81</td>\n",
              "      <td>5.68</td>\n",
              "      <td>1.03</td>\n",
              "      <td>3.17</td>\n",
              "      <td>1185</td>\n",
              "    </tr>\n",
              "    <tr>\n",
              "      <th>2</th>\n",
              "      <td>1</td>\n",
              "      <td>14.37</td>\n",
              "      <td>1.95</td>\n",
              "      <td>2.50</td>\n",
              "      <td>16.8</td>\n",
              "      <td>113</td>\n",
              "      <td>3.85</td>\n",
              "      <td>3.49</td>\n",
              "      <td>0.24</td>\n",
              "      <td>2.18</td>\n",
              "      <td>7.80</td>\n",
              "      <td>0.86</td>\n",
              "      <td>3.45</td>\n",
              "      <td>1480</td>\n",
              "    </tr>\n",
              "    <tr>\n",
              "      <th>3</th>\n",
              "      <td>1</td>\n",
              "      <td>13.24</td>\n",
              "      <td>2.59</td>\n",
              "      <td>2.87</td>\n",
              "      <td>21.0</td>\n",
              "      <td>118</td>\n",
              "      <td>2.80</td>\n",
              "      <td>2.69</td>\n",
              "      <td>0.39</td>\n",
              "      <td>1.82</td>\n",
              "      <td>4.32</td>\n",
              "      <td>1.04</td>\n",
              "      <td>2.93</td>\n",
              "      <td>735</td>\n",
              "    </tr>\n",
              "    <tr>\n",
              "      <th>4</th>\n",
              "      <td>1</td>\n",
              "      <td>14.20</td>\n",
              "      <td>1.76</td>\n",
              "      <td>2.45</td>\n",
              "      <td>15.2</td>\n",
              "      <td>112</td>\n",
              "      <td>3.27</td>\n",
              "      <td>3.39</td>\n",
              "      <td>0.34</td>\n",
              "      <td>1.97</td>\n",
              "      <td>6.75</td>\n",
              "      <td>1.05</td>\n",
              "      <td>2.85</td>\n",
              "      <td>1450</td>\n",
              "    </tr>\n",
              "  </tbody>\n",
              "</table>\n",
              "</div>"
            ],
            "text/plain": [
              "   1  14.23  1.71  2.43  15.6  127   2.8  3.06   .28  2.29  5.64  1.04  3.92  \\\n",
              "0  1  13.20  1.78  2.14  11.2  100  2.65  2.76  0.26  1.28  4.38  1.05  3.40   \n",
              "1  1  13.16  2.36  2.67  18.6  101  2.80  3.24  0.30  2.81  5.68  1.03  3.17   \n",
              "2  1  14.37  1.95  2.50  16.8  113  3.85  3.49  0.24  2.18  7.80  0.86  3.45   \n",
              "3  1  13.24  2.59  2.87  21.0  118  2.80  2.69  0.39  1.82  4.32  1.04  2.93   \n",
              "4  1  14.20  1.76  2.45  15.2  112  3.27  3.39  0.34  1.97  6.75  1.05  2.85   \n",
              "\n",
              "   1065  \n",
              "0  1050  \n",
              "1  1185  \n",
              "2  1480  \n",
              "3   735  \n",
              "4  1450  "
            ]
          },
          "metadata": {
            "tags": []
          },
          "execution_count": 7
        }
      ]
    },
    {
      "metadata": {
        "id": "wGfevgFx4lMc",
        "colab_type": "text"
      },
      "cell_type": "markdown",
      "source": [
        "4) Assign wine_df to a different variable wine_df_copy and then delete all odd rows of wine_df_copy"
      ]
    },
    {
      "metadata": {
        "id": "1Fz8q6scNRh3",
        "colab_type": "code",
        "colab": {
          "base_uri": "https://localhost:8080/",
          "height": 317
        },
        "outputId": "da51a913-354d-4fb1-b030-b74d34498420"
      },
      "cell_type": "code",
      "source": [
        "wine_df.describe()"
      ],
      "execution_count": 23,
      "outputs": [
        {
          "output_type": "execute_result",
          "data": {
            "text/html": [
              "<div>\n",
              "<style scoped>\n",
              "    .dataframe tbody tr th:only-of-type {\n",
              "        vertical-align: middle;\n",
              "    }\n",
              "\n",
              "    .dataframe tbody tr th {\n",
              "        vertical-align: top;\n",
              "    }\n",
              "\n",
              "    .dataframe thead th {\n",
              "        text-align: right;\n",
              "    }\n",
              "</style>\n",
              "<table border=\"1\" class=\"dataframe\">\n",
              "  <thead>\n",
              "    <tr style=\"text-align: right;\">\n",
              "      <th></th>\n",
              "      <th>1</th>\n",
              "      <th>14.23</th>\n",
              "      <th>1.71</th>\n",
              "      <th>2.43</th>\n",
              "      <th>15.6</th>\n",
              "      <th>127</th>\n",
              "      <th>2.8</th>\n",
              "      <th>3.06</th>\n",
              "      <th>.28</th>\n",
              "      <th>2.29</th>\n",
              "      <th>5.64</th>\n",
              "      <th>1.04</th>\n",
              "      <th>3.92</th>\n",
              "      <th>1065</th>\n",
              "    </tr>\n",
              "  </thead>\n",
              "  <tbody>\n",
              "    <tr>\n",
              "      <th>count</th>\n",
              "      <td>177.000000</td>\n",
              "      <td>177.000000</td>\n",
              "      <td>177.000000</td>\n",
              "      <td>177.000000</td>\n",
              "      <td>177.000000</td>\n",
              "      <td>177.000000</td>\n",
              "      <td>177.000000</td>\n",
              "      <td>177.000000</td>\n",
              "      <td>177.000000</td>\n",
              "      <td>177.000000</td>\n",
              "      <td>177.000000</td>\n",
              "      <td>177.000000</td>\n",
              "      <td>177.000000</td>\n",
              "      <td>177.000000</td>\n",
              "    </tr>\n",
              "    <tr>\n",
              "      <th>mean</th>\n",
              "      <td>1.943503</td>\n",
              "      <td>12.993672</td>\n",
              "      <td>2.339887</td>\n",
              "      <td>2.366158</td>\n",
              "      <td>19.516949</td>\n",
              "      <td>99.587571</td>\n",
              "      <td>2.292260</td>\n",
              "      <td>2.023446</td>\n",
              "      <td>0.362316</td>\n",
              "      <td>1.586949</td>\n",
              "      <td>5.054802</td>\n",
              "      <td>0.956983</td>\n",
              "      <td>2.604294</td>\n",
              "      <td>745.096045</td>\n",
              "    </tr>\n",
              "    <tr>\n",
              "      <th>std</th>\n",
              "      <td>0.773991</td>\n",
              "      <td>0.808808</td>\n",
              "      <td>1.119314</td>\n",
              "      <td>0.275080</td>\n",
              "      <td>3.336071</td>\n",
              "      <td>14.174018</td>\n",
              "      <td>0.626465</td>\n",
              "      <td>0.998658</td>\n",
              "      <td>0.124653</td>\n",
              "      <td>0.571545</td>\n",
              "      <td>2.324446</td>\n",
              "      <td>0.229135</td>\n",
              "      <td>0.705103</td>\n",
              "      <td>314.884046</td>\n",
              "    </tr>\n",
              "    <tr>\n",
              "      <th>min</th>\n",
              "      <td>1.000000</td>\n",
              "      <td>11.030000</td>\n",
              "      <td>0.740000</td>\n",
              "      <td>1.360000</td>\n",
              "      <td>10.600000</td>\n",
              "      <td>70.000000</td>\n",
              "      <td>0.980000</td>\n",
              "      <td>0.340000</td>\n",
              "      <td>0.130000</td>\n",
              "      <td>0.410000</td>\n",
              "      <td>1.280000</td>\n",
              "      <td>0.480000</td>\n",
              "      <td>1.270000</td>\n",
              "      <td>278.000000</td>\n",
              "    </tr>\n",
              "    <tr>\n",
              "      <th>25%</th>\n",
              "      <td>1.000000</td>\n",
              "      <td>12.360000</td>\n",
              "      <td>1.600000</td>\n",
              "      <td>2.210000</td>\n",
              "      <td>17.200000</td>\n",
              "      <td>88.000000</td>\n",
              "      <td>1.740000</td>\n",
              "      <td>1.200000</td>\n",
              "      <td>0.270000</td>\n",
              "      <td>1.250000</td>\n",
              "      <td>3.210000</td>\n",
              "      <td>0.780000</td>\n",
              "      <td>1.930000</td>\n",
              "      <td>500.000000</td>\n",
              "    </tr>\n",
              "    <tr>\n",
              "      <th>50%</th>\n",
              "      <td>2.000000</td>\n",
              "      <td>13.050000</td>\n",
              "      <td>1.870000</td>\n",
              "      <td>2.360000</td>\n",
              "      <td>19.500000</td>\n",
              "      <td>98.000000</td>\n",
              "      <td>2.350000</td>\n",
              "      <td>2.130000</td>\n",
              "      <td>0.340000</td>\n",
              "      <td>1.550000</td>\n",
              "      <td>4.680000</td>\n",
              "      <td>0.960000</td>\n",
              "      <td>2.780000</td>\n",
              "      <td>672.000000</td>\n",
              "    </tr>\n",
              "    <tr>\n",
              "      <th>75%</th>\n",
              "      <td>3.000000</td>\n",
              "      <td>13.670000</td>\n",
              "      <td>3.100000</td>\n",
              "      <td>2.560000</td>\n",
              "      <td>21.500000</td>\n",
              "      <td>107.000000</td>\n",
              "      <td>2.800000</td>\n",
              "      <td>2.860000</td>\n",
              "      <td>0.440000</td>\n",
              "      <td>1.950000</td>\n",
              "      <td>6.200000</td>\n",
              "      <td>1.120000</td>\n",
              "      <td>3.170000</td>\n",
              "      <td>985.000000</td>\n",
              "    </tr>\n",
              "    <tr>\n",
              "      <th>max</th>\n",
              "      <td>3.000000</td>\n",
              "      <td>14.830000</td>\n",
              "      <td>5.800000</td>\n",
              "      <td>3.230000</td>\n",
              "      <td>30.000000</td>\n",
              "      <td>162.000000</td>\n",
              "      <td>3.880000</td>\n",
              "      <td>5.080000</td>\n",
              "      <td>0.660000</td>\n",
              "      <td>3.580000</td>\n",
              "      <td>13.000000</td>\n",
              "      <td>1.710000</td>\n",
              "      <td>4.000000</td>\n",
              "      <td>1680.000000</td>\n",
              "    </tr>\n",
              "  </tbody>\n",
              "</table>\n",
              "</div>"
            ],
            "text/plain": [
              "                1       14.23        1.71        2.43        15.6         127  \\\n",
              "count  177.000000  177.000000  177.000000  177.000000  177.000000  177.000000   \n",
              "mean     1.943503   12.993672    2.339887    2.366158   19.516949   99.587571   \n",
              "std      0.773991    0.808808    1.119314    0.275080    3.336071   14.174018   \n",
              "min      1.000000   11.030000    0.740000    1.360000   10.600000   70.000000   \n",
              "25%      1.000000   12.360000    1.600000    2.210000   17.200000   88.000000   \n",
              "50%      2.000000   13.050000    1.870000    2.360000   19.500000   98.000000   \n",
              "75%      3.000000   13.670000    3.100000    2.560000   21.500000  107.000000   \n",
              "max      3.000000   14.830000    5.800000    3.230000   30.000000  162.000000   \n",
              "\n",
              "              2.8        3.06         .28        2.29        5.64        1.04  \\\n",
              "count  177.000000  177.000000  177.000000  177.000000  177.000000  177.000000   \n",
              "mean     2.292260    2.023446    0.362316    1.586949    5.054802    0.956983   \n",
              "std      0.626465    0.998658    0.124653    0.571545    2.324446    0.229135   \n",
              "min      0.980000    0.340000    0.130000    0.410000    1.280000    0.480000   \n",
              "25%      1.740000    1.200000    0.270000    1.250000    3.210000    0.780000   \n",
              "50%      2.350000    2.130000    0.340000    1.550000    4.680000    0.960000   \n",
              "75%      2.800000    2.860000    0.440000    1.950000    6.200000    1.120000   \n",
              "max      3.880000    5.080000    0.660000    3.580000   13.000000    1.710000   \n",
              "\n",
              "             3.92         1065  \n",
              "count  177.000000   177.000000  \n",
              "mean     2.604294   745.096045  \n",
              "std      0.705103   314.884046  \n",
              "min      1.270000   278.000000  \n",
              "25%      1.930000   500.000000  \n",
              "50%      2.780000   672.000000  \n",
              "75%      3.170000   985.000000  \n",
              "max      4.000000  1680.000000  "
            ]
          },
          "metadata": {
            "tags": []
          },
          "execution_count": 23
        }
      ]
    },
    {
      "metadata": {
        "id": "KFF1anSx50eQ",
        "colab_type": "code",
        "colab": {
          "base_uri": "https://localhost:8080/",
          "height": 1207
        },
        "outputId": "b863c6ec-a63c-43a3-83e2-12692bd1aba3"
      },
      "cell_type": "code",
      "source": [
        "import pandas\n",
        "wine_df_copy = wine_df\n",
        "print(wine_df_copy.head()) #to check if earlier assignment operation worked\n",
        "#for i in range(0,180):\n",
        " # if (i%2!=0):\n",
        "  #  wine_df_copy.drop(wine_df_copy.index[i],axis=1)\n",
        "#print(wine_df_copy)    \n",
        "print(wine_df_copy.iloc[::2])\n",
        "#wine_df_copy.drop((0,1))\n",
        "    #wine_df_copy.drop(i,axis=0)\n",
        "#wine_df_copy"
      ],
      "execution_count": 32,
      "outputs": [
        {
          "output_type": "stream",
          "text": [
            "    1  14.23  1.71  2.43  15.6  127   2.8  3.06   .28  2.29  5.64  1.04  3.92  \\\n",
            "0   1  13.20  1.78  2.14  11.2  100  2.65  2.76  0.26  1.28  4.38  1.05  3.40   \n",
            "5   1  14.39  1.87  2.45  14.6   96  2.50  2.52  0.30  1.98  5.25  1.02  3.58   \n",
            "8   1  13.86  1.35  2.27  16.0   98  2.98  3.15  0.22  1.85  7.22  1.01  3.55   \n",
            "12  1  14.75  1.73  2.39  11.4   91  3.10  3.69  0.43  2.81  5.40  1.25  2.73   \n",
            "14  1  13.63  1.81  2.70  17.2  112  2.85  2.91  0.30  1.46  7.30  1.28  2.88   \n",
            "\n",
            "    1065  \n",
            "0   1050  \n",
            "5   1290  \n",
            "8   1045  \n",
            "12  1150  \n",
            "14  1310  \n",
            "     1  14.23  1.71  2.43  15.6  127   2.8  3.06   .28  2.29      5.64  1.04  \\\n",
            "0    1  13.20  1.78  2.14  11.2  100  2.65  2.76  0.26  1.28  4.380000  1.05   \n",
            "8    1  13.86  1.35  2.27  16.0   98  2.98  3.15  0.22  1.85  7.220000  1.01   \n",
            "14   1  13.63  1.81  2.70  17.2  112  2.85  2.91  0.30  1.46  7.300000  1.28   \n",
            "21   1  13.71  1.86  2.36  16.6  101  2.61  2.88  0.27  1.69  3.800000  1.11   \n",
            "27   1  13.87  1.90  2.80  19.4  107  2.95  2.97  0.37  1.76  4.500000  1.25   \n",
            "35   1  13.28  1.64  2.84  15.5  110  2.60  2.68  0.34  1.36  4.600000  1.09   \n",
            "41   1  13.88  1.89  2.59  15.0  101  3.25  3.56  0.17  1.70  5.430000  0.88   \n",
            "48   1  13.94  1.73  2.27  17.4  108  2.88  3.54  0.32  2.08  8.900000  1.12   \n",
            "54   1  13.56  1.73  2.46  20.5  116  2.96  2.78  0.20  2.45  6.250000  0.98   \n",
            "62   2  12.37  1.13  2.16  19.0   87  3.50  3.10  0.19  1.87  4.450000  1.22   \n",
            "68   2  12.21  1.19  1.75  16.8  151  1.85  1.28  0.14  2.50  2.850000  1.28   \n",
            "75   2  13.03  0.90  1.71  16.0   86  1.95  2.03  0.24  1.46  4.600000  1.19   \n",
            "81   2  12.08  1.13  2.51  24.0   78  2.00  1.58  0.40  1.40  2.200000  1.31   \n",
            "89   2  12.08  1.83  2.32  18.5   81  1.60  1.50  0.52  1.64  2.400000  1.08   \n",
            "95   2  11.81  2.12  2.74  21.5  134  1.60  0.99  0.14  1.56  2.500000  0.95   \n",
            "102  2  11.82  1.72  1.88  19.5   86  2.50  1.64  0.37  1.42  2.060000  0.94   \n",
            "108  2  11.61  1.35  2.70  20.0   94  2.74  2.92  0.29  2.49  2.650000  0.96   \n",
            "116  2  12.42  1.61  2.19  22.5  108  2.00  2.09  0.34  1.61  2.060000  1.06   \n",
            "122  2  13.05  5.80  2.13  21.5   86  2.62  2.65  0.30  2.01  2.600000  0.73   \n",
            "129  3  12.86  1.35  2.32  18.0  122  1.51  1.25  0.21  0.94  4.100000  0.76   \n",
            "135  3  12.25  4.72  2.54  21.0   89  1.38  0.47  0.53  0.80  3.850000  0.75   \n",
            "143  3  12.25  3.88  2.20  18.5  112  1.38  0.78  0.29  1.14  8.210000  0.65   \n",
            "149  3  13.50  3.12  2.62  24.0  123  1.40  1.57  0.22  1.25  8.600000  0.59   \n",
            "156  3  12.45  3.03  2.64  27.0   97  1.90  0.58  0.63  1.14  7.500000  0.67   \n",
            "162  3  12.96  3.45  2.35  18.5  106  1.39  0.70  0.40  0.94  5.280000  0.68   \n",
            "170  3  12.77  2.39  2.28  19.5   86  1.39  0.51  0.48  0.64  9.899999  0.57   \n",
            "176  3  14.13  4.10  2.74  24.5   96  2.05  0.76  0.56  1.35  9.200000  0.61   \n",
            "\n",
            "     3.92  1065  \n",
            "0    3.40  1050  \n",
            "8    3.55  1045  \n",
            "14   2.88  1310  \n",
            "21   4.00  1035  \n",
            "27   3.40   915  \n",
            "35   2.78   880  \n",
            "41   3.56  1095  \n",
            "48   3.10  1260  \n",
            "54   3.03  1120  \n",
            "62   2.87   420  \n",
            "68   3.07   718  \n",
            "75   2.48   392  \n",
            "81   2.72   630  \n",
            "89   2.27   480  \n",
            "95   2.26   625  \n",
            "102  2.44   415  \n",
            "108  3.26   680  \n",
            "116  2.96   345  \n",
            "122  3.10   380  \n",
            "129  1.29   630  \n",
            "135  1.27   720  \n",
            "143  2.00   855  \n",
            "149  1.30   500  \n",
            "156  1.73   880  \n",
            "162  1.75   675  \n",
            "170  1.63   470  \n",
            "176  1.60   560  \n"
          ],
          "name": "stdout"
        }
      ]
    },
    {
      "metadata": {
        "id": "-jD3yUaqREOt",
        "colab_type": "code",
        "colab": {
          "base_uri": "https://localhost:8080/",
          "height": 180
        },
        "outputId": "770927de-0bbe-44af-f2f2-34552005a0ad"
      },
      "cell_type": "code",
      "source": [
        "#iris_df[(iris_df['sepal_width']>3.3)\n",
        "wine_df_copy.index.name='m' #this is working\n",
        "wine_df_copy[(wine_df_copy[m])%2!=0] #please help with this"
      ],
      "execution_count": 36,
      "outputs": [
        {
          "output_type": "error",
          "ename": "NameError",
          "evalue": "ignored",
          "traceback": [
            "\u001b[0;31m---------------------------------------------------------------------------\u001b[0m",
            "\u001b[0;31mNameError\u001b[0m                                 Traceback (most recent call last)",
            "\u001b[0;32m<ipython-input-36-28e95823cc80>\u001b[0m in \u001b[0;36m<module>\u001b[0;34m()\u001b[0m\n\u001b[1;32m      1\u001b[0m \u001b[0mwine_df_copy\u001b[0m\u001b[0;34m.\u001b[0m\u001b[0mindex\u001b[0m\u001b[0;34m.\u001b[0m\u001b[0mname\u001b[0m\u001b[0;34m=\u001b[0m\u001b[0;34m'm'\u001b[0m\u001b[0;34m\u001b[0m\u001b[0m\n\u001b[0;32m----> 2\u001b[0;31m \u001b[0mwine_df_copy\u001b[0m\u001b[0;34m[\u001b[0m\u001b[0;34m(\u001b[0m\u001b[0mwine_df_copy\u001b[0m\u001b[0;34m[\u001b[0m\u001b[0mm\u001b[0m\u001b[0;34m]\u001b[0m\u001b[0;34m)\u001b[0m\u001b[0;34m%\u001b[0m\u001b[0;36m2\u001b[0m\u001b[0;34m!=\u001b[0m\u001b[0;36m0\u001b[0m\u001b[0;34m]\u001b[0m\u001b[0;34m\u001b[0m\u001b[0m\n\u001b[0m",
            "\u001b[0;31mNameError\u001b[0m: name 'm' is not defined"
          ]
        }
      ]
    },
    {
      "metadata": {
        "id": "tKICJ_EOQnZV",
        "colab_type": "text"
      },
      "cell_type": "markdown",
      "source": [
        "5) Assign the columns as below:\n",
        "The attributes are (dontated by Riccardo Leardi, riclea '@' anchem.unige.it):\n",
        "1) Alcohol\n",
        "2) Malic acid\n",
        "3) Ash\n",
        "4) Alcalinity of ash\n",
        "5) Magnesium\n",
        "6) Total phenols\n",
        "7) Flavanoids\n",
        "8) Nonflavanoid phenols\n",
        "9) Proanthocyanins\n",
        "10)Color intensity\n",
        "11)Hue\n",
        "12)OD280/OD315 of diluted wines\n",
        "13)Proline"
      ]
    },
    {
      "metadata": {
        "id": "l8BbKWnCQxmo",
        "colab_type": "code",
        "colab": {}
      },
      "cell_type": "code",
      "source": [
        "wine_df = wine_df.rename(columns={'14.23':'Alcohol',\t'1.71':'MAlic Acid',\t'2.43':'Ash',\t'15.6':'Alcalinity of Ash',\t'127':'MAgnesium',\t'2.8':'Total phenols',\t'3.06':'Flavanoids',\t'.28':'NF phenols',\t'2.29':'Proanthocyanin',\t'5.64':'Color intensity',\t'1.04':'Hue',\t'3.92':'code',\t'1065':'Proline'})"
      ],
      "execution_count": 0,
      "outputs": []
    },
    {
      "metadata": {
        "id": "JdaN3hvpT1-q",
        "colab_type": "text"
      },
      "cell_type": "markdown",
      "source": [
        "6)Set the values of the first 3 rows from alcohol as NaN\n",
        "Hint- Use iloc to select 3 rows of wine_df"
      ]
    },
    {
      "metadata": {
        "id": "_bn0ZqqBT7hN",
        "colab_type": "code",
        "colab": {
          "base_uri": "https://localhost:8080/",
          "height": 102
        },
        "outputId": "7d27e41f-f6e9-4d19-c3b8-d10f90c25494"
      },
      "cell_type": "code",
      "source": [
        "wine_df.Alcohol.iloc[[1,2,3]] = 'NaN'"
      ],
      "execution_count": 42,
      "outputs": [
        {
          "output_type": "stream",
          "text": [
            "/usr/local/lib/python3.6/dist-packages/pandas/core/indexing.py:194: SettingWithCopyWarning: \n",
            "A value is trying to be set on a copy of a slice from a DataFrame\n",
            "\n",
            "See the caveats in the documentation: http://pandas.pydata.org/pandas-docs/stable/indexing.html#indexing-view-versus-copy\n",
            "  self._setitem_with_indexer(indexer, value)\n"
          ],
          "name": "stderr"
        }
      ]
    },
    {
      "metadata": {
        "id": "0PbSpmTbU0cD",
        "colab_type": "text"
      },
      "cell_type": "markdown",
      "source": [
        "7)Create an array of 10 random numbers uptill 10 and assign it to a variable named random"
      ]
    },
    {
      "metadata": {
        "id": "dBjhRfasU-t4",
        "colab_type": "code",
        "colab": {
          "base_uri": "https://localhost:8080/",
          "height": 51
        },
        "outputId": "a4d42539-2332-4eec-a60c-9a1d5dd525cd"
      },
      "cell_type": "code",
      "source": [
        "random=np.arange(11)\n",
        "print(random)\n",
        "x = [i for i in range(10)]\n",
        "print(x)"
      ],
      "execution_count": 51,
      "outputs": [
        {
          "output_type": "stream",
          "text": [
            "[ 0  1  2  3  4  5  6  7  8  9 10]\n",
            "[0, 1, 2, 3, 4, 5, 6, 7, 8, 9]\n"
          ],
          "name": "stdout"
        }
      ]
    },
    {
      "metadata": {
        "id": "hTekB-USV3ua",
        "colab_type": "text"
      },
      "cell_type": "markdown",
      "source": [
        "INCOMPLETE\n",
        "\n",
        "```\n",
        "#INCOMPLETE\n",
        "```\n",
        "\n"
      ]
    },
    {
      "metadata": {
        "id": "xr7Tl4yFVsXv",
        "colab_type": "text"
      },
      "cell_type": "markdown",
      "source": [
        ""
      ]
    }
  ]
}