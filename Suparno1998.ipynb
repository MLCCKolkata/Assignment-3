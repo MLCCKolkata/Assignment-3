{
  "nbformat": 4,
  "nbformat_minor": 0,
  "metadata": {
    "colab": {
      "name": "Suparno1998.ipynb",
      "version": "0.3.2",
      "provenance": [],
      "include_colab_link": true
    },
    "kernelspec": {
      "display_name": "Python 3",
      "language": "python",
      "name": "python3"
    }
  },
  "cells": [
    {
      "cell_type": "markdown",
      "metadata": {
        "id": "view-in-github",
        "colab_type": "text"
      },
      "source": [
        "[View in Colaboratory](https://colab.research.google.com/github/Suparno1998/Assignment-3/blob/Suparno1998/Suparno1998.ipynb)"
      ]
    },
    {
      "metadata": {
        "id": "FGbkFmZVOlCY",
        "colab_type": "text"
      },
      "cell_type": "markdown",
      "source": [
        "## **Exercises.ipynb**"
      ]
    },
    {
      "metadata": {
        "id": "2mR5DtosCrER",
        "colab_type": "code",
        "colab": {
          "base_uri": "https://localhost:8080/",
          "height": 34
        },
        "outputId": "7d30b68f-33a0-4034-c2ac-e50549972b28"
      },
      "cell_type": "code",
      "source": [
        "import pandas as pd\n",
        "import numpy as np\n",
        "import io\n",
        "import requests\n",
        "print(\"imported\")"
      ],
      "execution_count": 3,
      "outputs": [
        {
          "output_type": "stream",
          "text": [
            "imported\n"
          ],
          "name": "stdout"
        }
      ]
    },
    {
      "metadata": {
        "id": "dIgQg57eDUxp",
        "colab_type": "text"
      },
      "cell_type": "markdown",
      "source": [
        "Load url = \"https://archive.ics.uci.edu/ml/machine-learning-databases/wine/wine.data\" to a dataframe named wine_df\n",
        "This is a wine dataset\n",
        "Print first five rows"
      ]
    },
    {
      "metadata": {
        "id": "lkZfPrfyDZ5p",
        "colab_type": "code",
        "colab": {
          "base_uri": "https://localhost:8080/",
          "height": 238
        },
        "outputId": "a16d0328-9ee9-4d7d-c38e-0c50f10cfa08"
      },
      "cell_type": "code",
      "source": [
        "url = \"https://archive.ics.uci.edu/ml/machine-learning-databases/wine/wine.data\"\n",
        "s= requests.get(url).content\n",
        "wine_df=pd.read_csv(io.StringIO(s.decode('utf-8')))\n",
        "wine_df.drop(wine_df.columns[0],axis = 1)\n",
        "print(wine_df.head())"
      ],
      "execution_count": 4,
      "outputs": [
        {
          "output_type": "stream",
          "text": [
            "   1  14.23  1.71  2.43  15.6  127   2.8  3.06   .28  2.29  5.64  1.04  3.92  \\\n",
            "0  1  13.20  1.78  2.14  11.2  100  2.65  2.76  0.26  1.28  4.38  1.05  3.40   \n",
            "1  1  13.16  2.36  2.67  18.6  101  2.80  3.24  0.30  2.81  5.68  1.03  3.17   \n",
            "2  1  14.37  1.95  2.50  16.8  113  3.85  3.49  0.24  2.18  7.80  0.86  3.45   \n",
            "3  1  13.24  2.59  2.87  21.0  118  2.80  2.69  0.39  1.82  4.32  1.04  2.93   \n",
            "4  1  14.20  1.76  2.45  15.2  112  3.27  3.39  0.34  1.97  6.75  1.05  2.85   \n",
            "\n",
            "   1065  \n",
            "0  1050  \n",
            "1  1185  \n",
            "2  1480  \n",
            "3   735  \n",
            "4  1450  \n"
          ],
          "name": "stdout"
        }
      ]
    },
    {
      "metadata": {
        "id": "GU9PlWy4FHQH",
        "colab_type": "text"
      },
      "cell_type": "markdown",
      "source": [
        "assign wine_df to a different variable wine_df_copy and then delete all odd rows of wine_df_copy"
      ]
    },
    {
      "metadata": {
        "id": "BFJLqtIBFHr2",
        "colab_type": "code",
        "colab": {
          "base_uri": "https://localhost:8080/",
          "height": 238
        },
        "outputId": "ee1f6a83-5cc6-4845-cebf-995fd036d755"
      },
      "cell_type": "code",
      "source": [
        "wine_df_copy = wine_df\n",
        "for index,row in wine_df_copy.iterrows():\n",
        "    if index % 2 == 0:\n",
        "        wine_df_copy = wine_df_copy.drop(index=index)\n",
        "print(wine_df_copy.head())"
      ],
      "execution_count": 5,
      "outputs": [
        {
          "output_type": "stream",
          "text": [
            "   1  14.23  1.71  2.43  15.6  127   2.8  3.06   .28  2.29  5.64  1.04  3.92  \\\n",
            "1  1  13.16  2.36  2.67  18.6  101  2.80  3.24  0.30  2.81  5.68  1.03  3.17   \n",
            "3  1  13.24  2.59  2.87  21.0  118  2.80  2.69  0.39  1.82  4.32  1.04  2.93   \n",
            "5  1  14.39  1.87  2.45  14.6   96  2.50  2.52  0.30  1.98  5.25  1.02  3.58   \n",
            "7  1  14.83  1.64  2.17  14.0   97  2.80  2.98  0.29  1.98  5.20  1.08  2.85   \n",
            "9  1  14.10  2.16  2.30  18.0  105  2.95  3.32  0.22  2.38  5.75  1.25  3.17   \n",
            "\n",
            "   1065  \n",
            "1  1185  \n",
            "3   735  \n",
            "5  1290  \n",
            "7  1045  \n",
            "9  1510  \n"
          ],
          "name": "stdout"
        }
      ]
    },
    {
      "metadata": {
        "id": "8H3lLrsjFgkJ",
        "colab_type": "text"
      },
      "cell_type": "markdown",
      "source": [
        "The attributes are (dontated by Riccardo Leardi, riclea '@' anchem.unige.it):\n",
        "\n",
        "\n",
        "1.   Alcohol\n",
        "2.   Malic Acid\n",
        "3.   Ash\n",
        "4.   Alcalinity of ash\n",
        "5.   Magnesium\n",
        "6.   Total phenols\n",
        "7.   Flavanoids\n",
        "8.   Nonflavanoid phenols\n",
        "9.   Proanthocyanins\n",
        "10.   Color intensity\n",
        "11.   Hue\n",
        "12.   OD280/OD315 of diluted wines\n",
        "13.   Proline\n",
        "\n",
        "\n",
        "\n",
        "\n"
      ]
    },
    {
      "metadata": {
        "id": "5KWHPmsyFrwU",
        "colab_type": "code",
        "colab": {
          "base_uri": "https://localhost:8080/",
          "height": 357
        },
        "outputId": "8b9a4716-be9f-4e65-cd85-0e63a6bdfad5"
      },
      "cell_type": "code",
      "source": [
        "indices = [\"Alcohol\",\"Malic acid\",\"Ash\",\"Alcalinity of ash\",\"Magnesium\",\"Total phenols\",\"Flavanoids\",\"Nonflavanoid phenols\",\"Proanthocyanins\",\"Color intensity\",\"Hue\",\"OD280/OD315 of diluted wines\",\"Proline\",\"\"]\n",
        "wine_df.columns = indices\n",
        "print(wine_df.head())"
      ],
      "execution_count": 6,
      "outputs": [
        {
          "output_type": "stream",
          "text": [
            "   Alcohol  Malic acid   Ash  Alcalinity of ash  Magnesium  Total phenols  \\\n",
            "0        1       13.20  1.78               2.14       11.2            100   \n",
            "1        1       13.16  2.36               2.67       18.6            101   \n",
            "2        1       14.37  1.95               2.50       16.8            113   \n",
            "3        1       13.24  2.59               2.87       21.0            118   \n",
            "4        1       14.20  1.76               2.45       15.2            112   \n",
            "\n",
            "   Flavanoids  Nonflavanoid phenols  Proanthocyanins  Color intensity   Hue  \\\n",
            "0        2.65                  2.76             0.26             1.28  4.38   \n",
            "1        2.80                  3.24             0.30             2.81  5.68   \n",
            "2        3.85                  3.49             0.24             2.18  7.80   \n",
            "3        2.80                  2.69             0.39             1.82  4.32   \n",
            "4        3.27                  3.39             0.34             1.97  6.75   \n",
            "\n",
            "   OD280/OD315 of diluted wines  Proline        \n",
            "0                          1.05     3.40  1050  \n",
            "1                          1.03     3.17  1185  \n",
            "2                          0.86     3.45  1480  \n",
            "3                          1.04     2.93   735  \n",
            "4                          1.05     2.85  1450  \n"
          ],
          "name": "stdout"
        }
      ]
    },
    {
      "metadata": {
        "id": "w9alJFL7Ikqq",
        "colab_type": "text"
      },
      "cell_type": "markdown",
      "source": [
        "Set the values of the first 3 rows from alcohol as NaN\n",
        "Hint- Use iloc to select 3 rows of wine_df"
      ]
    },
    {
      "metadata": {
        "id": "5myShfxPIpFt",
        "colab_type": "code",
        "colab": {
          "base_uri": "https://localhost:8080/",
          "height": 357
        },
        "outputId": "e8194aa1-2b5d-414b-f5e0-7b9740a47328"
      },
      "cell_type": "code",
      "source": [
        "for i in range(0,3):\n",
        "  wine_df.iloc[i,0] = np.nan\n",
        "print(wine_df.head())"
      ],
      "execution_count": 7,
      "outputs": [
        {
          "output_type": "stream",
          "text": [
            "   Alcohol  Malic acid   Ash  Alcalinity of ash  Magnesium  Total phenols  \\\n",
            "0      NaN       13.20  1.78               2.14       11.2            100   \n",
            "1      NaN       13.16  2.36               2.67       18.6            101   \n",
            "2      NaN       14.37  1.95               2.50       16.8            113   \n",
            "3      1.0       13.24  2.59               2.87       21.0            118   \n",
            "4      1.0       14.20  1.76               2.45       15.2            112   \n",
            "\n",
            "   Flavanoids  Nonflavanoid phenols  Proanthocyanins  Color intensity   Hue  \\\n",
            "0        2.65                  2.76             0.26             1.28  4.38   \n",
            "1        2.80                  3.24             0.30             2.81  5.68   \n",
            "2        3.85                  3.49             0.24             2.18  7.80   \n",
            "3        2.80                  2.69             0.39             1.82  4.32   \n",
            "4        3.27                  3.39             0.34             1.97  6.75   \n",
            "\n",
            "   OD280/OD315 of diluted wines  Proline        \n",
            "0                          1.05     3.40  1050  \n",
            "1                          1.03     3.17  1185  \n",
            "2                          0.86     3.45  1480  \n",
            "3                          1.04     2.93   735  \n",
            "4                          1.05     2.85  1450  \n"
          ],
          "name": "stdout"
        }
      ]
    },
    {
      "metadata": {
        "id": "0F5PzoBEJpLk",
        "colab_type": "text"
      },
      "cell_type": "markdown",
      "source": [
        "Create an array of 10 random numbers uptill 10 and assign it to a variable named random"
      ]
    },
    {
      "metadata": {
        "id": "lUGoFSPwJpoh",
        "colab_type": "code",
        "colab": {
          "base_uri": "https://localhost:8080/",
          "height": 34
        },
        "outputId": "5d17b419-fc17-4942-d9aa-2780300e7a1c"
      },
      "cell_type": "code",
      "source": [
        "import random\n",
        "random = random.sample(range(0,11),10)\n",
        "print(random)"
      ],
      "execution_count": 8,
      "outputs": [
        {
          "output_type": "stream",
          "text": [
            "[0, 3, 8, 5, 10, 4, 2, 9, 7, 6]\n"
          ],
          "name": "stdout"
        }
      ]
    },
    {
      "metadata": {
        "id": "V59H9sRQLl5S",
        "colab_type": "text"
      },
      "cell_type": "markdown",
      "source": [
        "Use random numbers you generated as an index and assign NaN value to each of cell of the column alcohol"
      ]
    },
    {
      "metadata": {
        "id": "vDqYrRz_Lmgk",
        "colab_type": "code",
        "colab": {
          "base_uri": "https://localhost:8080/",
          "height": 612
        },
        "outputId": "568e6f90-3251-4ff0-b604-26c772a74ee0"
      },
      "cell_type": "code",
      "source": [
        "for i in range(len(random)):\n",
        "  wine_df.iloc[i,0] = np.nan\n",
        "print(wine_df.head(10))"
      ],
      "execution_count": 9,
      "outputs": [
        {
          "output_type": "stream",
          "text": [
            "   Alcohol  Malic acid   Ash  Alcalinity of ash  Magnesium  Total phenols  \\\n",
            "0      NaN       13.20  1.78               2.14       11.2            100   \n",
            "1      NaN       13.16  2.36               2.67       18.6            101   \n",
            "2      NaN       14.37  1.95               2.50       16.8            113   \n",
            "3      NaN       13.24  2.59               2.87       21.0            118   \n",
            "4      NaN       14.20  1.76               2.45       15.2            112   \n",
            "5      NaN       14.39  1.87               2.45       14.6             96   \n",
            "6      NaN       14.06  2.15               2.61       17.6            121   \n",
            "7      NaN       14.83  1.64               2.17       14.0             97   \n",
            "8      NaN       13.86  1.35               2.27       16.0             98   \n",
            "9      NaN       14.10  2.16               2.30       18.0            105   \n",
            "\n",
            "   Flavanoids  Nonflavanoid phenols  Proanthocyanins  Color intensity   Hue  \\\n",
            "0        2.65                  2.76             0.26             1.28  4.38   \n",
            "1        2.80                  3.24             0.30             2.81  5.68   \n",
            "2        3.85                  3.49             0.24             2.18  7.80   \n",
            "3        2.80                  2.69             0.39             1.82  4.32   \n",
            "4        3.27                  3.39             0.34             1.97  6.75   \n",
            "5        2.50                  2.52             0.30             1.98  5.25   \n",
            "6        2.60                  2.51             0.31             1.25  5.05   \n",
            "7        2.80                  2.98             0.29             1.98  5.20   \n",
            "8        2.98                  3.15             0.22             1.85  7.22   \n",
            "9        2.95                  3.32             0.22             2.38  5.75   \n",
            "\n",
            "   OD280/OD315 of diluted wines  Proline        \n",
            "0                          1.05     3.40  1050  \n",
            "1                          1.03     3.17  1185  \n",
            "2                          0.86     3.45  1480  \n",
            "3                          1.04     2.93   735  \n",
            "4                          1.05     2.85  1450  \n",
            "5                          1.02     3.58  1290  \n",
            "6                          1.06     3.58  1295  \n",
            "7                          1.08     2.85  1045  \n",
            "8                          1.01     3.55  1045  \n",
            "9                          1.25     3.17  1510  \n"
          ],
          "name": "stdout"
        }
      ]
    },
    {
      "metadata": {
        "id": "L0x1NKUCL9J3",
        "colab_type": "text"
      },
      "cell_type": "markdown",
      "source": [
        "How many missing values do we have?"
      ]
    },
    {
      "metadata": {
        "id": "ytGu2UEdL9iu",
        "colab_type": "code",
        "colab": {
          "base_uri": "https://localhost:8080/",
          "height": 34
        },
        "outputId": "930cdf52-a6ce-43d1-8dab-9d979933bbd0"
      },
      "cell_type": "code",
      "source": [
        "print(wine_df.isnull().sum().sum())"
      ],
      "execution_count": 10,
      "outputs": [
        {
          "output_type": "stream",
          "text": [
            "10\n"
          ],
          "name": "stdout"
        }
      ]
    },
    {
      "metadata": {
        "id": "6tqa01MBMdAa",
        "colab_type": "text"
      },
      "cell_type": "markdown",
      "source": [
        "Delete the rows that contain missing values\n"
      ]
    },
    {
      "metadata": {
        "id": "W3OKw-BDMdiz",
        "colab_type": "code",
        "colab": {
          "base_uri": "https://localhost:8080/",
          "height": 357
        },
        "outputId": "af2e8f2d-232e-429d-e3fb-6f6b1ffd19f3"
      },
      "cell_type": "code",
      "source": [
        "wine_df = wine_df[np.isfinite(wine_df['Alcohol'])]\n",
        "print(wine_df.head())"
      ],
      "execution_count": 11,
      "outputs": [
        {
          "output_type": "stream",
          "text": [
            "    Alcohol  Malic acid   Ash  Alcalinity of ash  Magnesium  Total phenols  \\\n",
            "10      1.0       14.12  1.48               2.32       16.8             95   \n",
            "11      1.0       13.75  1.73               2.41       16.0             89   \n",
            "12      1.0       14.75  1.73               2.39       11.4             91   \n",
            "13      1.0       14.38  1.87               2.38       12.0            102   \n",
            "14      1.0       13.63  1.81               2.70       17.2            112   \n",
            "\n",
            "    Flavanoids  Nonflavanoid phenols  Proanthocyanins  Color intensity  Hue  \\\n",
            "10        2.20                  2.43             0.26             1.57  5.0   \n",
            "11        2.60                  2.76             0.29             1.81  5.6   \n",
            "12        3.10                  3.69             0.43             2.81  5.4   \n",
            "13        3.30                  3.64             0.29             2.96  7.5   \n",
            "14        2.85                  2.91             0.30             1.46  7.3   \n",
            "\n",
            "    OD280/OD315 of diluted wines  Proline        \n",
            "10                          1.17     2.82  1280  \n",
            "11                          1.15     2.90  1320  \n",
            "12                          1.25     2.73  1150  \n",
            "13                          1.20     3.00  1547  \n",
            "14                          1.28     2.88  1310  \n"
          ],
          "name": "stdout"
        }
      ]
    },
    {
      "metadata": {
        "id": "Y_ZVdtl6Or9q",
        "colab_type": "text"
      },
      "cell_type": "markdown",
      "source": [
        "### **Basic Pandas.ipynb**"
      ]
    },
    {
      "metadata": {
        "id": "E5Zd8vRgO3Wz",
        "colab_type": "text"
      },
      "cell_type": "markdown",
      "source": [
        "Import numpy and Pandas"
      ]
    },
    {
      "metadata": {
        "id": "PvQxMmoCO2sr",
        "colab_type": "code",
        "colab": {
          "base_uri": "https://localhost:8080/",
          "height": 139
        },
        "outputId": "5fae78d7-fa61-4a49-ac7e-87f7698e100b"
      },
      "cell_type": "code",
      "source": [
        "import pandas as pd\n",
        "import numpy as np\n",
        "\n",
        "\n",
        "a_ascii = ord('A')\n",
        "z_ascii = ord('Z')\n",
        "alphabets = [chr(i) for i in range(a_ascii, z_ascii+1)]\n",
        "\n",
        "print(alphabets)\n",
        "\n",
        "numbers = np.arange(26)\n",
        "\n",
        "print(numbers)\n",
        "\n",
        "print(type(alphabets), type(numbers))\n",
        "\n",
        "alpha_numbers = dict(zip(alphabets, numbers))\n",
        "\n",
        "print(alpha_numbers)\n",
        "\n",
        "print(type(alpha_numbers))"
      ],
      "execution_count": 12,
      "outputs": [
        {
          "output_type": "stream",
          "text": [
            "['A', 'B', 'C', 'D', 'E', 'F', 'G', 'H', 'I', 'J', 'K', 'L', 'M', 'N', 'O', 'P', 'Q', 'R', 'S', 'T', 'U', 'V', 'W', 'X', 'Y', 'Z']\n",
            "[ 0  1  2  3  4  5  6  7  8  9 10 11 12 13 14 15 16 17 18 19 20 21 22 23\n",
            " 24 25]\n",
            "<class 'list'> <class 'numpy.ndarray'>\n",
            "{'A': 0, 'B': 1, 'C': 2, 'D': 3, 'E': 4, 'F': 5, 'G': 6, 'H': 7, 'I': 8, 'J': 9, 'K': 10, 'L': 11, 'M': 12, 'N': 13, 'O': 14, 'P': 15, 'Q': 16, 'R': 17, 'S': 18, 'T': 19, 'U': 20, 'V': 21, 'W': 22, 'X': 23, 'Y': 24, 'Z': 25}\n",
            "<class 'dict'>\n"
          ],
          "name": "stdout"
        }
      ]
    },
    {
      "metadata": {
        "id": "Ic6eMHInPP5f",
        "colab_type": "code",
        "colab": {
          "base_uri": "https://localhost:8080/",
          "height": 476
        },
        "outputId": "4da4c70e-68d6-4475-d701-60e7f7352159"
      },
      "cell_type": "code",
      "source": [
        "series1 = pd.Series(alphabets)\n",
        "print(series1)"
      ],
      "execution_count": 13,
      "outputs": [
        {
          "output_type": "stream",
          "text": [
            "0     A\n",
            "1     B\n",
            "2     C\n",
            "3     D\n",
            "4     E\n",
            "5     F\n",
            "6     G\n",
            "7     H\n",
            "8     I\n",
            "9     J\n",
            "10    K\n",
            "11    L\n",
            "12    M\n",
            "13    N\n",
            "14    O\n",
            "15    P\n",
            "16    Q\n",
            "17    R\n",
            "18    S\n",
            "19    T\n",
            "20    U\n",
            "21    V\n",
            "22    W\n",
            "23    X\n",
            "24    Y\n",
            "25    Z\n",
            "dtype: object\n"
          ],
          "name": "stdout"
        }
      ]
    },
    {
      "metadata": {
        "id": "lSMSAtMVPSht",
        "colab_type": "code",
        "colab": {
          "base_uri": "https://localhost:8080/",
          "height": 476
        },
        "outputId": "f9d7f01e-11f9-4018-f1de-4ee7d19985c8"
      },
      "cell_type": "code",
      "source": [
        "series2 = pd.Series(numbers)\n",
        "print(series2)"
      ],
      "execution_count": 14,
      "outputs": [
        {
          "output_type": "stream",
          "text": [
            "0      0\n",
            "1      1\n",
            "2      2\n",
            "3      3\n",
            "4      4\n",
            "5      5\n",
            "6      6\n",
            "7      7\n",
            "8      8\n",
            "9      9\n",
            "10    10\n",
            "11    11\n",
            "12    12\n",
            "13    13\n",
            "14    14\n",
            "15    15\n",
            "16    16\n",
            "17    17\n",
            "18    18\n",
            "19    19\n",
            "20    20\n",
            "21    21\n",
            "22    22\n",
            "23    23\n",
            "24    24\n",
            "25    25\n",
            "dtype: int64\n"
          ],
          "name": "stdout"
        }
      ]
    },
    {
      "metadata": {
        "id": "ivliiKjmPX1r",
        "colab_type": "code",
        "colab": {
          "base_uri": "https://localhost:8080/",
          "height": 476
        },
        "outputId": "52522f10-5d7a-42bd-ea96-2d0884e280ab"
      },
      "cell_type": "code",
      "source": [
        "series3 = pd.Series(alpha_numbers)\n",
        "print(series3)"
      ],
      "execution_count": 15,
      "outputs": [
        {
          "output_type": "stream",
          "text": [
            "A     0\n",
            "B     1\n",
            "C     2\n",
            "D     3\n",
            "E     4\n",
            "F     5\n",
            "G     6\n",
            "H     7\n",
            "I     8\n",
            "J     9\n",
            "K    10\n",
            "L    11\n",
            "M    12\n",
            "N    13\n",
            "O    14\n",
            "P    15\n",
            "Q    16\n",
            "R    17\n",
            "S    18\n",
            "T    19\n",
            "U    20\n",
            "V    21\n",
            "W    22\n",
            "X    23\n",
            "Y    24\n",
            "Z    25\n",
            "dtype: int64\n"
          ],
          "name": "stdout"
        }
      ]
    },
    {
      "metadata": {
        "id": "v2TG9o2JPbly",
        "colab_type": "code",
        "colab": {
          "base_uri": "https://localhost:8080/",
          "height": 6426
        },
        "outputId": "ecea4dd0-ee5d-478a-af9d-0c5507c5b386"
      },
      "cell_type": "code",
      "source": [
        "for i in range(26):\n",
        "  print(\"For head(\",i,\")\")\n",
        "  print(series3.head(i),end=\"\\n\")"
      ],
      "execution_count": 16,
      "outputs": [
        {
          "output_type": "stream",
          "text": [
            "For head( 0 )\n",
            "Series([], dtype: int64)\n",
            "For head( 1 )\n",
            "A    0\n",
            "dtype: int64\n",
            "For head( 2 )\n",
            "A    0\n",
            "B    1\n",
            "dtype: int64\n",
            "For head( 3 )\n",
            "A    0\n",
            "B    1\n",
            "C    2\n",
            "dtype: int64\n",
            "For head( 4 )\n",
            "A    0\n",
            "B    1\n",
            "C    2\n",
            "D    3\n",
            "dtype: int64\n",
            "For head( 5 )\n",
            "A    0\n",
            "B    1\n",
            "C    2\n",
            "D    3\n",
            "E    4\n",
            "dtype: int64\n",
            "For head( 6 )\n",
            "A    0\n",
            "B    1\n",
            "C    2\n",
            "D    3\n",
            "E    4\n",
            "F    5\n",
            "dtype: int64\n",
            "For head( 7 )\n",
            "A    0\n",
            "B    1\n",
            "C    2\n",
            "D    3\n",
            "E    4\n",
            "F    5\n",
            "G    6\n",
            "dtype: int64\n",
            "For head( 8 )\n",
            "A    0\n",
            "B    1\n",
            "C    2\n",
            "D    3\n",
            "E    4\n",
            "F    5\n",
            "G    6\n",
            "H    7\n",
            "dtype: int64\n",
            "For head( 9 )\n",
            "A    0\n",
            "B    1\n",
            "C    2\n",
            "D    3\n",
            "E    4\n",
            "F    5\n",
            "G    6\n",
            "H    7\n",
            "I    8\n",
            "dtype: int64\n",
            "For head( 10 )\n",
            "A    0\n",
            "B    1\n",
            "C    2\n",
            "D    3\n",
            "E    4\n",
            "F    5\n",
            "G    6\n",
            "H    7\n",
            "I    8\n",
            "J    9\n",
            "dtype: int64\n",
            "For head( 11 )\n",
            "A     0\n",
            "B     1\n",
            "C     2\n",
            "D     3\n",
            "E     4\n",
            "F     5\n",
            "G     6\n",
            "H     7\n",
            "I     8\n",
            "J     9\n",
            "K    10\n",
            "dtype: int64\n",
            "For head( 12 )\n",
            "A     0\n",
            "B     1\n",
            "C     2\n",
            "D     3\n",
            "E     4\n",
            "F     5\n",
            "G     6\n",
            "H     7\n",
            "I     8\n",
            "J     9\n",
            "K    10\n",
            "L    11\n",
            "dtype: int64\n",
            "For head( 13 )\n",
            "A     0\n",
            "B     1\n",
            "C     2\n",
            "D     3\n",
            "E     4\n",
            "F     5\n",
            "G     6\n",
            "H     7\n",
            "I     8\n",
            "J     9\n",
            "K    10\n",
            "L    11\n",
            "M    12\n",
            "dtype: int64\n",
            "For head( 14 )\n",
            "A     0\n",
            "B     1\n",
            "C     2\n",
            "D     3\n",
            "E     4\n",
            "F     5\n",
            "G     6\n",
            "H     7\n",
            "I     8\n",
            "J     9\n",
            "K    10\n",
            "L    11\n",
            "M    12\n",
            "N    13\n",
            "dtype: int64\n",
            "For head( 15 )\n",
            "A     0\n",
            "B     1\n",
            "C     2\n",
            "D     3\n",
            "E     4\n",
            "F     5\n",
            "G     6\n",
            "H     7\n",
            "I     8\n",
            "J     9\n",
            "K    10\n",
            "L    11\n",
            "M    12\n",
            "N    13\n",
            "O    14\n",
            "dtype: int64\n",
            "For head( 16 )\n",
            "A     0\n",
            "B     1\n",
            "C     2\n",
            "D     3\n",
            "E     4\n",
            "F     5\n",
            "G     6\n",
            "H     7\n",
            "I     8\n",
            "J     9\n",
            "K    10\n",
            "L    11\n",
            "M    12\n",
            "N    13\n",
            "O    14\n",
            "P    15\n",
            "dtype: int64\n",
            "For head( 17 )\n",
            "A     0\n",
            "B     1\n",
            "C     2\n",
            "D     3\n",
            "E     4\n",
            "F     5\n",
            "G     6\n",
            "H     7\n",
            "I     8\n",
            "J     9\n",
            "K    10\n",
            "L    11\n",
            "M    12\n",
            "N    13\n",
            "O    14\n",
            "P    15\n",
            "Q    16\n",
            "dtype: int64\n",
            "For head( 18 )\n",
            "A     0\n",
            "B     1\n",
            "C     2\n",
            "D     3\n",
            "E     4\n",
            "F     5\n",
            "G     6\n",
            "H     7\n",
            "I     8\n",
            "J     9\n",
            "K    10\n",
            "L    11\n",
            "M    12\n",
            "N    13\n",
            "O    14\n",
            "P    15\n",
            "Q    16\n",
            "R    17\n",
            "dtype: int64\n",
            "For head( 19 )\n",
            "A     0\n",
            "B     1\n",
            "C     2\n",
            "D     3\n",
            "E     4\n",
            "F     5\n",
            "G     6\n",
            "H     7\n",
            "I     8\n",
            "J     9\n",
            "K    10\n",
            "L    11\n",
            "M    12\n",
            "N    13\n",
            "O    14\n",
            "P    15\n",
            "Q    16\n",
            "R    17\n",
            "S    18\n",
            "dtype: int64\n",
            "For head( 20 )\n",
            "A     0\n",
            "B     1\n",
            "C     2\n",
            "D     3\n",
            "E     4\n",
            "F     5\n",
            "G     6\n",
            "H     7\n",
            "I     8\n",
            "J     9\n",
            "K    10\n",
            "L    11\n",
            "M    12\n",
            "N    13\n",
            "O    14\n",
            "P    15\n",
            "Q    16\n",
            "R    17\n",
            "S    18\n",
            "T    19\n",
            "dtype: int64\n",
            "For head( 21 )\n",
            "A     0\n",
            "B     1\n",
            "C     2\n",
            "D     3\n",
            "E     4\n",
            "F     5\n",
            "G     6\n",
            "H     7\n",
            "I     8\n",
            "J     9\n",
            "K    10\n",
            "L    11\n",
            "M    12\n",
            "N    13\n",
            "O    14\n",
            "P    15\n",
            "Q    16\n",
            "R    17\n",
            "S    18\n",
            "T    19\n",
            "U    20\n",
            "dtype: int64\n",
            "For head( 22 )\n",
            "A     0\n",
            "B     1\n",
            "C     2\n",
            "D     3\n",
            "E     4\n",
            "F     5\n",
            "G     6\n",
            "H     7\n",
            "I     8\n",
            "J     9\n",
            "K    10\n",
            "L    11\n",
            "M    12\n",
            "N    13\n",
            "O    14\n",
            "P    15\n",
            "Q    16\n",
            "R    17\n",
            "S    18\n",
            "T    19\n",
            "U    20\n",
            "V    21\n",
            "dtype: int64\n",
            "For head( 23 )\n",
            "A     0\n",
            "B     1\n",
            "C     2\n",
            "D     3\n",
            "E     4\n",
            "F     5\n",
            "G     6\n",
            "H     7\n",
            "I     8\n",
            "J     9\n",
            "K    10\n",
            "L    11\n",
            "M    12\n",
            "N    13\n",
            "O    14\n",
            "P    15\n",
            "Q    16\n",
            "R    17\n",
            "S    18\n",
            "T    19\n",
            "U    20\n",
            "V    21\n",
            "W    22\n",
            "dtype: int64\n",
            "For head( 24 )\n",
            "A     0\n",
            "B     1\n",
            "C     2\n",
            "D     3\n",
            "E     4\n",
            "F     5\n",
            "G     6\n",
            "H     7\n",
            "I     8\n",
            "J     9\n",
            "K    10\n",
            "L    11\n",
            "M    12\n",
            "N    13\n",
            "O    14\n",
            "P    15\n",
            "Q    16\n",
            "R    17\n",
            "S    18\n",
            "T    19\n",
            "U    20\n",
            "V    21\n",
            "W    22\n",
            "X    23\n",
            "dtype: int64\n",
            "For head( 25 )\n",
            "A     0\n",
            "B     1\n",
            "C     2\n",
            "D     3\n",
            "E     4\n",
            "F     5\n",
            "G     6\n",
            "H     7\n",
            "I     8\n",
            "J     9\n",
            "K    10\n",
            "L    11\n",
            "M    12\n",
            "N    13\n",
            "O    14\n",
            "P    15\n",
            "Q    16\n",
            "R    17\n",
            "S    18\n",
            "T    19\n",
            "U    20\n",
            "V    21\n",
            "W    22\n",
            "X    23\n",
            "Y    24\n",
            "dtype: int64\n"
          ],
          "name": "stdout"
        }
      ]
    },
    {
      "metadata": {
        "id": "zl-J62RTP9Nl",
        "colab_type": "code",
        "colab": {
          "base_uri": "https://localhost:8080/",
          "height": 119
        },
        "outputId": "54819038-a706-49ac-e564-5bfb5bd40b58"
      },
      "cell_type": "code",
      "source": [
        "data = {'alphabets': alphabets, 'values': numbers}\n",
        "\n",
        "df = pd.DataFrame(data)\n",
        "\n",
        "#Lets Change the column `values` to `alpha_numbers`\n",
        "\n",
        "df.columns = ['alphabets', 'alpha_numbers']\n",
        "\n",
        "print(df.head())"
      ],
      "execution_count": 17,
      "outputs": [
        {
          "output_type": "stream",
          "text": [
            "  alphabets  alpha_numbers\n",
            "0         A              0\n",
            "1         B              1\n",
            "2         C              2\n",
            "3         D              3\n",
            "4         E              4\n"
          ],
          "name": "stdout"
        }
      ]
    },
    {
      "metadata": {
        "id": "N71nQvfxQYlT",
        "colab_type": "code",
        "colab": {
          "base_uri": "https://localhost:8080/",
          "height": 629
        },
        "outputId": "aafbad29-a039-483a-cce9-fa5f59a52bf8"
      },
      "cell_type": "code",
      "source": [
        "print(df)\n",
        "print(df.T)"
      ],
      "execution_count": 18,
      "outputs": [
        {
          "output_type": "stream",
          "text": [
            "   alphabets  alpha_numbers\n",
            "0          A              0\n",
            "1          B              1\n",
            "2          C              2\n",
            "3          D              3\n",
            "4          E              4\n",
            "5          F              5\n",
            "6          G              6\n",
            "7          H              7\n",
            "8          I              8\n",
            "9          J              9\n",
            "10         K             10\n",
            "11         L             11\n",
            "12         M             12\n",
            "13         N             13\n",
            "14         O             14\n",
            "15         P             15\n",
            "16         Q             16\n",
            "17         R             17\n",
            "18         S             18\n",
            "19         T             19\n",
            "20         U             20\n",
            "21         V             21\n",
            "22         W             22\n",
            "23         X             23\n",
            "24         Y             24\n",
            "25         Z             25\n",
            "              0  1  2  3  4  5  6  7  8  9  ...  16  17  18  19  20  21  22  \\\n",
            "alphabets      A  B  C  D  E  F  G  H  I  J ...   Q   R   S   T   U   V   W   \n",
            "alpha_numbers  0  1  2  3  4  5  6  7  8  9 ...  16  17  18  19  20  21  22   \n",
            "\n",
            "               23  24  25  \n",
            "alphabets       X   Y   Z  \n",
            "alpha_numbers  23  24  25  \n",
            "\n",
            "[2 rows x 26 columns]\n"
          ],
          "name": "stdout"
        }
      ]
    },
    {
      "metadata": {
        "id": "2Q7ZQvbMQiFM",
        "colab_type": "code",
        "colab": {
          "base_uri": "https://localhost:8080/",
          "height": 119
        },
        "outputId": "135777ba-f790-4e0d-85be-1749777df0ef"
      },
      "cell_type": "code",
      "source": [
        "ser = pd.Series(list('abcdefghijklmnopqrstuvwxyz'))\n",
        "pos = [0, 4, 8, 14, 20]\n",
        "\n",
        "vowels = ser.take(pos)\n",
        "\n",
        "df = pd.DataFrame(vowels, columns=['vowels'])\n",
        "\n",
        "df.columns = ['vowels']\n",
        "\n",
        "df.index = [0, 1, 2, 3, 4]\n",
        "\n",
        "print(df)"
      ],
      "execution_count": 19,
      "outputs": [
        {
          "output_type": "stream",
          "text": [
            "  vowels\n",
            "0      a\n",
            "1      e\n",
            "2      i\n",
            "3      o\n",
            "4      u\n"
          ],
          "name": "stdout"
        }
      ]
    },
    {
      "metadata": {
        "id": "VK6JUkQgQuSB",
        "colab_type": "code",
        "colab": {
          "base_uri": "https://localhost:8080/",
          "height": 34
        },
        "outputId": "670f8ad2-2507-402d-939e-7f745aed20d8"
      },
      "cell_type": "code",
      "source": [
        "ser = pd.Series(['we', 'are', 'learning', 'pandas'])\n",
        "\n",
        "ser.map(lambda x : x.title())\n",
        "\n",
        "titles = [i.title() for i in ser]\n",
        "\n",
        "titles"
      ],
      "execution_count": 20,
      "outputs": [
        {
          "output_type": "execute_result",
          "data": {
            "text/plain": [
              "['We', 'Are', 'Learning', 'Pandas']"
            ]
          },
          "metadata": {
            "tags": []
          },
          "execution_count": 20
        }
      ]
    },
    {
      "metadata": {
        "id": "3SuQ2XMAsBRj",
        "colab_type": "code",
        "colab": {
          "base_uri": "https://localhost:8080/",
          "height": 204
        },
        "outputId": "38c1c399-161e-4830-fa7b-4b8b7837acb3"
      },
      "cell_type": "code",
      "source": [
        "my_index = [1, 2, 3, 4, 5]\n",
        "\n",
        "df1 = pd.DataFrame({'upper values': ['A', 'B', 'C', 'D', 'E'],\n",
        "                   'lower values': ['a', 'b', 'c', 'd', 'e']},\n",
        "                  index = my_index)\n",
        "\n",
        "df1"
      ],
      "execution_count": 21,
      "outputs": [
        {
          "output_type": "execute_result",
          "data": {
            "text/html": [
              "<div>\n",
              "<style scoped>\n",
              "    .dataframe tbody tr th:only-of-type {\n",
              "        vertical-align: middle;\n",
              "    }\n",
              "\n",
              "    .dataframe tbody tr th {\n",
              "        vertical-align: top;\n",
              "    }\n",
              "\n",
              "    .dataframe thead th {\n",
              "        text-align: right;\n",
              "    }\n",
              "</style>\n",
              "<table border=\"1\" class=\"dataframe\">\n",
              "  <thead>\n",
              "    <tr style=\"text-align: right;\">\n",
              "      <th></th>\n",
              "      <th>lower values</th>\n",
              "      <th>upper values</th>\n",
              "    </tr>\n",
              "  </thead>\n",
              "  <tbody>\n",
              "    <tr>\n",
              "      <th>1</th>\n",
              "      <td>a</td>\n",
              "      <td>A</td>\n",
              "    </tr>\n",
              "    <tr>\n",
              "      <th>2</th>\n",
              "      <td>b</td>\n",
              "      <td>B</td>\n",
              "    </tr>\n",
              "    <tr>\n",
              "      <th>3</th>\n",
              "      <td>c</td>\n",
              "      <td>C</td>\n",
              "    </tr>\n",
              "    <tr>\n",
              "      <th>4</th>\n",
              "      <td>d</td>\n",
              "      <td>D</td>\n",
              "    </tr>\n",
              "    <tr>\n",
              "      <th>5</th>\n",
              "      <td>e</td>\n",
              "      <td>E</td>\n",
              "    </tr>\n",
              "  </tbody>\n",
              "</table>\n",
              "</div>"
            ],
            "text/plain": [
              "  lower values upper values\n",
              "1            a            A\n",
              "2            b            B\n",
              "3            c            C\n",
              "4            d            D\n",
              "5            e            E"
            ]
          },
          "metadata": {
            "tags": []
          },
          "execution_count": 21
        }
      ]
    },
    {
      "metadata": {
        "id": "KjIn86ossN1g",
        "colab_type": "code",
        "colab": {
          "base_uri": "https://localhost:8080/",
          "height": 204
        },
        "outputId": "44b61f34-d342-4eb0-c234-663e9c79c7ad"
      },
      "cell_type": "code",
      "source": [
        "new_index = [2, 5, 4, 3, 1]\n",
        "\n",
        "df1.reindex(index = new_index)\n"
      ],
      "execution_count": 22,
      "outputs": [
        {
          "output_type": "execute_result",
          "data": {
            "text/html": [
              "<div>\n",
              "<style scoped>\n",
              "    .dataframe tbody tr th:only-of-type {\n",
              "        vertical-align: middle;\n",
              "    }\n",
              "\n",
              "    .dataframe tbody tr th {\n",
              "        vertical-align: top;\n",
              "    }\n",
              "\n",
              "    .dataframe thead th {\n",
              "        text-align: right;\n",
              "    }\n",
              "</style>\n",
              "<table border=\"1\" class=\"dataframe\">\n",
              "  <thead>\n",
              "    <tr style=\"text-align: right;\">\n",
              "      <th></th>\n",
              "      <th>lower values</th>\n",
              "      <th>upper values</th>\n",
              "    </tr>\n",
              "  </thead>\n",
              "  <tbody>\n",
              "    <tr>\n",
              "      <th>2</th>\n",
              "      <td>b</td>\n",
              "      <td>B</td>\n",
              "    </tr>\n",
              "    <tr>\n",
              "      <th>5</th>\n",
              "      <td>e</td>\n",
              "      <td>E</td>\n",
              "    </tr>\n",
              "    <tr>\n",
              "      <th>4</th>\n",
              "      <td>d</td>\n",
              "      <td>D</td>\n",
              "    </tr>\n",
              "    <tr>\n",
              "      <th>3</th>\n",
              "      <td>c</td>\n",
              "      <td>C</td>\n",
              "    </tr>\n",
              "    <tr>\n",
              "      <th>1</th>\n",
              "      <td>a</td>\n",
              "      <td>A</td>\n",
              "    </tr>\n",
              "  </tbody>\n",
              "</table>\n",
              "</div>"
            ],
            "text/plain": [
              "  lower values upper values\n",
              "2            b            B\n",
              "5            e            E\n",
              "4            d            D\n",
              "3            c            C\n",
              "1            a            A"
            ]
          },
          "metadata": {
            "tags": []
          },
          "execution_count": 22
        }
      ]
    },
    {
      "metadata": {
        "id": "yIR-rsomsXmq",
        "colab_type": "text"
      },
      "cell_type": "markdown",
      "source": [
        "### **Get to know your Data.ipynb**"
      ]
    },
    {
      "metadata": {
        "id": "RuFwccs-tJiF",
        "colab_type": "code",
        "colab": {}
      },
      "cell_type": "code",
      "source": [
        "iris_df = pd.read_csv('https://raw.githubusercontent.com/uiuc-cse/data-fa14/gh-pages/data/iris.csv')"
      ],
      "execution_count": 0,
      "outputs": []
    },
    {
      "metadata": {
        "id": "7JA7XBVmtWnC",
        "colab_type": "code",
        "colab": {
          "base_uri": "https://localhost:8080/",
          "height": 119
        },
        "outputId": "8d6bdb90-042b-403d-cb6f-3be95da5fdcb"
      },
      "cell_type": "code",
      "source": [
        "print(iris_df.head())"
      ],
      "execution_count": 24,
      "outputs": [
        {
          "output_type": "stream",
          "text": [
            "   sepal_length  sepal_width  petal_length  petal_width species\n",
            "0           5.1          3.5           1.4          0.2  setosa\n",
            "1           4.9          3.0           1.4          0.2  setosa\n",
            "2           4.7          3.2           1.3          0.2  setosa\n",
            "3           4.6          3.1           1.5          0.2  setosa\n",
            "4           5.0          3.6           1.4          0.2  setosa\n"
          ],
          "name": "stdout"
        }
      ]
    },
    {
      "metadata": {
        "id": "wwGBSiw-tkj0",
        "colab_type": "code",
        "colab": {
          "base_uri": "https://localhost:8080/",
          "height": 68
        },
        "outputId": "d16ace9a-c9e9-4cc2-e580-fed56acf32b5"
      },
      "cell_type": "code",
      "source": [
        "print(iris_df.shape)\n",
        "print(iris_df.shape[0])\n",
        "print(iris_df.shape[1])"
      ],
      "execution_count": 25,
      "outputs": [
        {
          "output_type": "stream",
          "text": [
            "(150, 5)\n",
            "150\n",
            "5\n"
          ],
          "name": "stdout"
        }
      ]
    },
    {
      "metadata": {
        "id": "gQSmurAhtts2",
        "colab_type": "code",
        "colab": {
          "base_uri": "https://localhost:8080/",
          "height": 68
        },
        "outputId": "a4918984-a84a-4532-f3fb-9fad617056a0"
      },
      "cell_type": "code",
      "source": [
        "print(iris_df.columns) # print all columns"
      ],
      "execution_count": 26,
      "outputs": [
        {
          "output_type": "stream",
          "text": [
            "Index(['sepal_length', 'sepal_width', 'petal_length', 'petal_width',\n",
            "       'species'],\n",
            "      dtype='object')\n"
          ],
          "name": "stdout"
        }
      ]
    },
    {
      "metadata": {
        "id": "RPyKsmNUtyid",
        "colab_type": "code",
        "colab": {
          "base_uri": "https://localhost:8080/",
          "height": 34
        },
        "outputId": "1ff27b04-f1d8-4a29-a5c0-9cb56c497f38"
      },
      "cell_type": "code",
      "source": [
        "print(iris_df.index) #print index and check"
      ],
      "execution_count": 27,
      "outputs": [
        {
          "output_type": "stream",
          "text": [
            "RangeIndex(start=0, stop=150, step=1)\n"
          ],
          "name": "stdout"
        }
      ]
    },
    {
      "metadata": {
        "id": "ON7WOJDdt7bl",
        "colab_type": "code",
        "colab": {
          "base_uri": "https://localhost:8080/",
          "height": 221
        },
        "outputId": "6c1785c5-cc31-4782-f2f1-ec9caa9c62be"
      },
      "cell_type": "code",
      "source": [
        "print(iris_df.head())\n",
        "\n",
        "new_index = np.random.permutation(iris_df.index) #reshuffle the index \n",
        "iris_df = iris_df.reindex(index = new_index) #reindex the dataframe to new index\n",
        "\n",
        "print(iris_df.head())"
      ],
      "execution_count": 28,
      "outputs": [
        {
          "output_type": "stream",
          "text": [
            "   sepal_length  sepal_width  petal_length  petal_width species\n",
            "0           5.1          3.5           1.4          0.2  setosa\n",
            "1           4.9          3.0           1.4          0.2  setosa\n",
            "2           4.7          3.2           1.3          0.2  setosa\n",
            "3           4.6          3.1           1.5          0.2  setosa\n",
            "4           5.0          3.6           1.4          0.2  setosa\n",
            "     sepal_length  sepal_width  petal_length  petal_width     species\n",
            "116           6.5          3.0           5.5          1.8   virginica\n",
            "140           6.7          3.1           5.6          2.4   virginica\n",
            "21            5.1          3.7           1.5          0.4      setosa\n",
            "143           6.8          3.2           5.9          2.3   virginica\n",
            "67            5.8          2.7           4.1          1.0  versicolor\n"
          ],
          "name": "stdout"
        }
      ]
    },
    {
      "metadata": {
        "id": "N1YXXfCVuFJj",
        "colab_type": "code",
        "colab": {
          "base_uri": "https://localhost:8080/",
          "height": 323
        },
        "outputId": "245e9b65-8915-459a-bf9a-2a1ddfe35ca2"
      },
      "cell_type": "code",
      "source": [
        "print(iris_df.head()) #original\n",
        "iris_df['sepal_width'] *= 5  #Change the sepal_width column\n",
        "\n",
        "print(iris_df.head()) # changed data\n",
        "\n",
        "iris_df['sepal_width'] /= 10#undo the operation\n",
        "\n",
        "print(iris_df.head()) # old value"
      ],
      "execution_count": 29,
      "outputs": [
        {
          "output_type": "stream",
          "text": [
            "     sepal_length  sepal_width  petal_length  petal_width     species\n",
            "116           6.5          3.0           5.5          1.8   virginica\n",
            "140           6.7          3.1           5.6          2.4   virginica\n",
            "21            5.1          3.7           1.5          0.4      setosa\n",
            "143           6.8          3.2           5.9          2.3   virginica\n",
            "67            5.8          2.7           4.1          1.0  versicolor\n",
            "     sepal_length  sepal_width  petal_length  petal_width     species\n",
            "116           6.5         15.0           5.5          1.8   virginica\n",
            "140           6.7         15.5           5.6          2.4   virginica\n",
            "21            5.1         18.5           1.5          0.4      setosa\n",
            "143           6.8         16.0           5.9          2.3   virginica\n",
            "67            5.8         13.5           4.1          1.0  versicolor\n",
            "     sepal_length  sepal_width  petal_length  petal_width     species\n",
            "116           6.5         1.50           5.5          1.8   virginica\n",
            "140           6.7         1.55           5.6          2.4   virginica\n",
            "21            5.1         1.85           1.5          0.4      setosa\n",
            "143           6.8         1.60           5.9          2.3   virginica\n",
            "67            5.8         1.35           4.1          1.0  versicolor\n"
          ],
          "name": "stdout"
        }
      ]
    },
    {
      "metadata": {
        "id": "Dj500h6AuffM",
        "colab_type": "code",
        "colab": {
          "base_uri": "https://localhost:8080/",
          "height": 68
        },
        "outputId": "3f22ecea-3c16-4934-c40e-8e6ee3b6310f"
      },
      "cell_type": "code",
      "source": [
        "print(iris_df[iris_df['sepal_width']>3.3])"
      ],
      "execution_count": 30,
      "outputs": [
        {
          "output_type": "stream",
          "text": [
            "Empty DataFrame\n",
            "Columns: [sepal_length, sepal_width, petal_length, petal_width, species]\n",
            "Index: []\n"
          ],
          "name": "stdout"
        }
      ]
    },
    {
      "metadata": {
        "id": "wh8-dje0vhYc",
        "colab_type": "code",
        "colab": {
          "base_uri": "https://localhost:8080/",
          "height": 49
        },
        "outputId": "f50cc1b2-2aae-48b4-e2f2-068812736a1a"
      },
      "cell_type": "code",
      "source": [
        "iris_df[(iris_df['sepal_width']>3.3) & (iris_df['species'] == 'versicolor')]"
      ],
      "execution_count": 31,
      "outputs": [
        {
          "output_type": "execute_result",
          "data": {
            "text/html": [
              "<div>\n",
              "<style scoped>\n",
              "    .dataframe tbody tr th:only-of-type {\n",
              "        vertical-align: middle;\n",
              "    }\n",
              "\n",
              "    .dataframe tbody tr th {\n",
              "        vertical-align: top;\n",
              "    }\n",
              "\n",
              "    .dataframe thead th {\n",
              "        text-align: right;\n",
              "    }\n",
              "</style>\n",
              "<table border=\"1\" class=\"dataframe\">\n",
              "  <thead>\n",
              "    <tr style=\"text-align: right;\">\n",
              "      <th></th>\n",
              "      <th>sepal_length</th>\n",
              "      <th>sepal_width</th>\n",
              "      <th>petal_length</th>\n",
              "      <th>petal_width</th>\n",
              "      <th>species</th>\n",
              "    </tr>\n",
              "  </thead>\n",
              "  <tbody>\n",
              "  </tbody>\n",
              "</table>\n",
              "</div>"
            ],
            "text/plain": [
              "Empty DataFrame\n",
              "Columns: [sepal_length, sepal_width, petal_length, petal_width, species]\n",
              "Index: []"
            ]
          },
          "metadata": {
            "tags": []
          },
          "execution_count": 31
        }
      ]
    },
    {
      "metadata": {
        "id": "C78lA89qvp11",
        "colab_type": "code",
        "colab": {
          "base_uri": "https://localhost:8080/",
          "height": 1969
        },
        "outputId": "1116b226-3ea3-4be8-bf20-87013198865a"
      },
      "cell_type": "code",
      "source": [
        "iris_df.sort_values(by='sepal_width', ascending = False)\n",
        "#pass ascending = False for descending order"
      ],
      "execution_count": 32,
      "outputs": [
        {
          "output_type": "execute_result",
          "data": {
            "text/html": [
              "<div>\n",
              "<style scoped>\n",
              "    .dataframe tbody tr th:only-of-type {\n",
              "        vertical-align: middle;\n",
              "    }\n",
              "\n",
              "    .dataframe tbody tr th {\n",
              "        vertical-align: top;\n",
              "    }\n",
              "\n",
              "    .dataframe thead th {\n",
              "        text-align: right;\n",
              "    }\n",
              "</style>\n",
              "<table border=\"1\" class=\"dataframe\">\n",
              "  <thead>\n",
              "    <tr style=\"text-align: right;\">\n",
              "      <th></th>\n",
              "      <th>sepal_length</th>\n",
              "      <th>sepal_width</th>\n",
              "      <th>petal_length</th>\n",
              "      <th>petal_width</th>\n",
              "      <th>species</th>\n",
              "    </tr>\n",
              "  </thead>\n",
              "  <tbody>\n",
              "    <tr>\n",
              "      <th>15</th>\n",
              "      <td>5.7</td>\n",
              "      <td>2.20</td>\n",
              "      <td>1.5</td>\n",
              "      <td>0.4</td>\n",
              "      <td>setosa</td>\n",
              "    </tr>\n",
              "    <tr>\n",
              "      <th>33</th>\n",
              "      <td>5.5</td>\n",
              "      <td>2.10</td>\n",
              "      <td>1.4</td>\n",
              "      <td>0.2</td>\n",
              "      <td>setosa</td>\n",
              "    </tr>\n",
              "    <tr>\n",
              "      <th>32</th>\n",
              "      <td>5.2</td>\n",
              "      <td>2.05</td>\n",
              "      <td>1.5</td>\n",
              "      <td>0.1</td>\n",
              "      <td>setosa</td>\n",
              "    </tr>\n",
              "    <tr>\n",
              "      <th>14</th>\n",
              "      <td>5.8</td>\n",
              "      <td>2.00</td>\n",
              "      <td>1.2</td>\n",
              "      <td>0.2</td>\n",
              "      <td>setosa</td>\n",
              "    </tr>\n",
              "    <tr>\n",
              "      <th>16</th>\n",
              "      <td>5.4</td>\n",
              "      <td>1.95</td>\n",
              "      <td>1.3</td>\n",
              "      <td>0.4</td>\n",
              "      <td>setosa</td>\n",
              "    </tr>\n",
              "    <tr>\n",
              "      <th>5</th>\n",
              "      <td>5.4</td>\n",
              "      <td>1.95</td>\n",
              "      <td>1.7</td>\n",
              "      <td>0.4</td>\n",
              "      <td>setosa</td>\n",
              "    </tr>\n",
              "    <tr>\n",
              "      <th>18</th>\n",
              "      <td>5.7</td>\n",
              "      <td>1.90</td>\n",
              "      <td>1.7</td>\n",
              "      <td>0.3</td>\n",
              "      <td>setosa</td>\n",
              "    </tr>\n",
              "    <tr>\n",
              "      <th>19</th>\n",
              "      <td>5.1</td>\n",
              "      <td>1.90</td>\n",
              "      <td>1.5</td>\n",
              "      <td>0.3</td>\n",
              "      <td>setosa</td>\n",
              "    </tr>\n",
              "    <tr>\n",
              "      <th>46</th>\n",
              "      <td>5.1</td>\n",
              "      <td>1.90</td>\n",
              "      <td>1.6</td>\n",
              "      <td>0.2</td>\n",
              "      <td>setosa</td>\n",
              "    </tr>\n",
              "    <tr>\n",
              "      <th>131</th>\n",
              "      <td>7.9</td>\n",
              "      <td>1.90</td>\n",
              "      <td>6.4</td>\n",
              "      <td>2.0</td>\n",
              "      <td>virginica</td>\n",
              "    </tr>\n",
              "    <tr>\n",
              "      <th>117</th>\n",
              "      <td>7.7</td>\n",
              "      <td>1.90</td>\n",
              "      <td>6.7</td>\n",
              "      <td>2.2</td>\n",
              "      <td>virginica</td>\n",
              "    </tr>\n",
              "    <tr>\n",
              "      <th>44</th>\n",
              "      <td>5.1</td>\n",
              "      <td>1.90</td>\n",
              "      <td>1.9</td>\n",
              "      <td>0.4</td>\n",
              "      <td>setosa</td>\n",
              "    </tr>\n",
              "    <tr>\n",
              "      <th>10</th>\n",
              "      <td>5.4</td>\n",
              "      <td>1.85</td>\n",
              "      <td>1.5</td>\n",
              "      <td>0.2</td>\n",
              "      <td>setosa</td>\n",
              "    </tr>\n",
              "    <tr>\n",
              "      <th>48</th>\n",
              "      <td>5.3</td>\n",
              "      <td>1.85</td>\n",
              "      <td>1.5</td>\n",
              "      <td>0.2</td>\n",
              "      <td>setosa</td>\n",
              "    </tr>\n",
              "    <tr>\n",
              "      <th>21</th>\n",
              "      <td>5.1</td>\n",
              "      <td>1.85</td>\n",
              "      <td>1.5</td>\n",
              "      <td>0.4</td>\n",
              "      <td>setosa</td>\n",
              "    </tr>\n",
              "    <tr>\n",
              "      <th>22</th>\n",
              "      <td>4.6</td>\n",
              "      <td>1.80</td>\n",
              "      <td>1.0</td>\n",
              "      <td>0.2</td>\n",
              "      <td>setosa</td>\n",
              "    </tr>\n",
              "    <tr>\n",
              "      <th>4</th>\n",
              "      <td>5.0</td>\n",
              "      <td>1.80</td>\n",
              "      <td>1.4</td>\n",
              "      <td>0.2</td>\n",
              "      <td>setosa</td>\n",
              "    </tr>\n",
              "    <tr>\n",
              "      <th>109</th>\n",
              "      <td>7.2</td>\n",
              "      <td>1.80</td>\n",
              "      <td>6.1</td>\n",
              "      <td>2.5</td>\n",
              "      <td>virginica</td>\n",
              "    </tr>\n",
              "    <tr>\n",
              "      <th>40</th>\n",
              "      <td>5.0</td>\n",
              "      <td>1.75</td>\n",
              "      <td>1.3</td>\n",
              "      <td>0.3</td>\n",
              "      <td>setosa</td>\n",
              "    </tr>\n",
              "    <tr>\n",
              "      <th>0</th>\n",
              "      <td>5.1</td>\n",
              "      <td>1.75</td>\n",
              "      <td>1.4</td>\n",
              "      <td>0.2</td>\n",
              "      <td>setosa</td>\n",
              "    </tr>\n",
              "    <tr>\n",
              "      <th>27</th>\n",
              "      <td>5.2</td>\n",
              "      <td>1.75</td>\n",
              "      <td>1.5</td>\n",
              "      <td>0.2</td>\n",
              "      <td>setosa</td>\n",
              "    </tr>\n",
              "    <tr>\n",
              "      <th>36</th>\n",
              "      <td>5.5</td>\n",
              "      <td>1.75</td>\n",
              "      <td>1.3</td>\n",
              "      <td>0.2</td>\n",
              "      <td>setosa</td>\n",
              "    </tr>\n",
              "    <tr>\n",
              "      <th>17</th>\n",
              "      <td>5.1</td>\n",
              "      <td>1.75</td>\n",
              "      <td>1.4</td>\n",
              "      <td>0.3</td>\n",
              "      <td>setosa</td>\n",
              "    </tr>\n",
              "    <tr>\n",
              "      <th>43</th>\n",
              "      <td>5.0</td>\n",
              "      <td>1.75</td>\n",
              "      <td>1.6</td>\n",
              "      <td>0.6</td>\n",
              "      <td>setosa</td>\n",
              "    </tr>\n",
              "    <tr>\n",
              "      <th>39</th>\n",
              "      <td>5.1</td>\n",
              "      <td>1.70</td>\n",
              "      <td>1.5</td>\n",
              "      <td>0.2</td>\n",
              "      <td>setosa</td>\n",
              "    </tr>\n",
              "    <tr>\n",
              "      <th>28</th>\n",
              "      <td>5.2</td>\n",
              "      <td>1.70</td>\n",
              "      <td>1.4</td>\n",
              "      <td>0.2</td>\n",
              "      <td>setosa</td>\n",
              "    </tr>\n",
              "    <tr>\n",
              "      <th>11</th>\n",
              "      <td>4.8</td>\n",
              "      <td>1.70</td>\n",
              "      <td>1.6</td>\n",
              "      <td>0.2</td>\n",
              "      <td>setosa</td>\n",
              "    </tr>\n",
              "    <tr>\n",
              "      <th>136</th>\n",
              "      <td>6.3</td>\n",
              "      <td>1.70</td>\n",
              "      <td>5.6</td>\n",
              "      <td>2.4</td>\n",
              "      <td>virginica</td>\n",
              "    </tr>\n",
              "    <tr>\n",
              "      <th>31</th>\n",
              "      <td>5.4</td>\n",
              "      <td>1.70</td>\n",
              "      <td>1.5</td>\n",
              "      <td>0.4</td>\n",
              "      <td>setosa</td>\n",
              "    </tr>\n",
              "    <tr>\n",
              "      <th>26</th>\n",
              "      <td>5.0</td>\n",
              "      <td>1.70</td>\n",
              "      <td>1.6</td>\n",
              "      <td>0.4</td>\n",
              "      <td>setosa</td>\n",
              "    </tr>\n",
              "    <tr>\n",
              "      <th>...</th>\n",
              "      <td>...</td>\n",
              "      <td>...</td>\n",
              "      <td>...</td>\n",
              "      <td>...</td>\n",
              "      <td>...</td>\n",
              "    </tr>\n",
              "    <tr>\n",
              "      <th>111</th>\n",
              "      <td>6.4</td>\n",
              "      <td>1.35</td>\n",
              "      <td>5.3</td>\n",
              "      <td>1.9</td>\n",
              "      <td>virginica</td>\n",
              "    </tr>\n",
              "    <tr>\n",
              "      <th>83</th>\n",
              "      <td>6.0</td>\n",
              "      <td>1.35</td>\n",
              "      <td>5.1</td>\n",
              "      <td>1.6</td>\n",
              "      <td>versicolor</td>\n",
              "    </tr>\n",
              "    <tr>\n",
              "      <th>94</th>\n",
              "      <td>5.6</td>\n",
              "      <td>1.35</td>\n",
              "      <td>4.2</td>\n",
              "      <td>1.3</td>\n",
              "      <td>versicolor</td>\n",
              "    </tr>\n",
              "    <tr>\n",
              "      <th>142</th>\n",
              "      <td>5.8</td>\n",
              "      <td>1.35</td>\n",
              "      <td>5.1</td>\n",
              "      <td>1.9</td>\n",
              "      <td>virginica</td>\n",
              "    </tr>\n",
              "    <tr>\n",
              "      <th>123</th>\n",
              "      <td>6.3</td>\n",
              "      <td>1.35</td>\n",
              "      <td>4.9</td>\n",
              "      <td>1.8</td>\n",
              "      <td>virginica</td>\n",
              "    </tr>\n",
              "    <tr>\n",
              "      <th>59</th>\n",
              "      <td>5.2</td>\n",
              "      <td>1.35</td>\n",
              "      <td>3.9</td>\n",
              "      <td>1.4</td>\n",
              "      <td>versicolor</td>\n",
              "    </tr>\n",
              "    <tr>\n",
              "      <th>90</th>\n",
              "      <td>5.5</td>\n",
              "      <td>1.30</td>\n",
              "      <td>4.4</td>\n",
              "      <td>1.2</td>\n",
              "      <td>versicolor</td>\n",
              "    </tr>\n",
              "    <tr>\n",
              "      <th>92</th>\n",
              "      <td>5.8</td>\n",
              "      <td>1.30</td>\n",
              "      <td>4.0</td>\n",
              "      <td>1.2</td>\n",
              "      <td>versicolor</td>\n",
              "    </tr>\n",
              "    <tr>\n",
              "      <th>134</th>\n",
              "      <td>6.1</td>\n",
              "      <td>1.30</td>\n",
              "      <td>5.6</td>\n",
              "      <td>1.4</td>\n",
              "      <td>virginica</td>\n",
              "    </tr>\n",
              "    <tr>\n",
              "      <th>118</th>\n",
              "      <td>7.7</td>\n",
              "      <td>1.30</td>\n",
              "      <td>6.9</td>\n",
              "      <td>2.3</td>\n",
              "      <td>virginica</td>\n",
              "    </tr>\n",
              "    <tr>\n",
              "      <th>79</th>\n",
              "      <td>5.7</td>\n",
              "      <td>1.30</td>\n",
              "      <td>3.5</td>\n",
              "      <td>1.0</td>\n",
              "      <td>versicolor</td>\n",
              "    </tr>\n",
              "    <tr>\n",
              "      <th>98</th>\n",
              "      <td>5.1</td>\n",
              "      <td>1.25</td>\n",
              "      <td>3.0</td>\n",
              "      <td>1.1</td>\n",
              "      <td>versicolor</td>\n",
              "    </tr>\n",
              "    <tr>\n",
              "      <th>72</th>\n",
              "      <td>6.3</td>\n",
              "      <td>1.25</td>\n",
              "      <td>4.9</td>\n",
              "      <td>1.5</td>\n",
              "      <td>versicolor</td>\n",
              "    </tr>\n",
              "    <tr>\n",
              "      <th>146</th>\n",
              "      <td>6.3</td>\n",
              "      <td>1.25</td>\n",
              "      <td>5.0</td>\n",
              "      <td>1.9</td>\n",
              "      <td>virginica</td>\n",
              "    </tr>\n",
              "    <tr>\n",
              "      <th>69</th>\n",
              "      <td>5.6</td>\n",
              "      <td>1.25</td>\n",
              "      <td>3.9</td>\n",
              "      <td>1.1</td>\n",
              "      <td>versicolor</td>\n",
              "    </tr>\n",
              "    <tr>\n",
              "      <th>108</th>\n",
              "      <td>6.7</td>\n",
              "      <td>1.25</td>\n",
              "      <td>5.8</td>\n",
              "      <td>1.8</td>\n",
              "      <td>virginica</td>\n",
              "    </tr>\n",
              "    <tr>\n",
              "      <th>113</th>\n",
              "      <td>5.7</td>\n",
              "      <td>1.25</td>\n",
              "      <td>5.0</td>\n",
              "      <td>2.0</td>\n",
              "      <td>virginica</td>\n",
              "    </tr>\n",
              "    <tr>\n",
              "      <th>89</th>\n",
              "      <td>5.5</td>\n",
              "      <td>1.25</td>\n",
              "      <td>4.0</td>\n",
              "      <td>1.3</td>\n",
              "      <td>versicolor</td>\n",
              "    </tr>\n",
              "    <tr>\n",
              "      <th>106</th>\n",
              "      <td>4.9</td>\n",
              "      <td>1.25</td>\n",
              "      <td>4.5</td>\n",
              "      <td>1.7</td>\n",
              "      <td>virginica</td>\n",
              "    </tr>\n",
              "    <tr>\n",
              "      <th>57</th>\n",
              "      <td>4.9</td>\n",
              "      <td>1.20</td>\n",
              "      <td>3.3</td>\n",
              "      <td>1.0</td>\n",
              "      <td>versicolor</td>\n",
              "    </tr>\n",
              "    <tr>\n",
              "      <th>80</th>\n",
              "      <td>5.5</td>\n",
              "      <td>1.20</td>\n",
              "      <td>3.8</td>\n",
              "      <td>1.1</td>\n",
              "      <td>versicolor</td>\n",
              "    </tr>\n",
              "    <tr>\n",
              "      <th>81</th>\n",
              "      <td>5.5</td>\n",
              "      <td>1.20</td>\n",
              "      <td>3.7</td>\n",
              "      <td>1.0</td>\n",
              "      <td>versicolor</td>\n",
              "    </tr>\n",
              "    <tr>\n",
              "      <th>53</th>\n",
              "      <td>5.5</td>\n",
              "      <td>1.15</td>\n",
              "      <td>4.0</td>\n",
              "      <td>1.3</td>\n",
              "      <td>versicolor</td>\n",
              "    </tr>\n",
              "    <tr>\n",
              "      <th>87</th>\n",
              "      <td>6.3</td>\n",
              "      <td>1.15</td>\n",
              "      <td>4.4</td>\n",
              "      <td>1.3</td>\n",
              "      <td>versicolor</td>\n",
              "    </tr>\n",
              "    <tr>\n",
              "      <th>41</th>\n",
              "      <td>4.5</td>\n",
              "      <td>1.15</td>\n",
              "      <td>1.3</td>\n",
              "      <td>0.3</td>\n",
              "      <td>setosa</td>\n",
              "    </tr>\n",
              "    <tr>\n",
              "      <th>93</th>\n",
              "      <td>5.0</td>\n",
              "      <td>1.15</td>\n",
              "      <td>3.3</td>\n",
              "      <td>1.0</td>\n",
              "      <td>versicolor</td>\n",
              "    </tr>\n",
              "    <tr>\n",
              "      <th>62</th>\n",
              "      <td>6.0</td>\n",
              "      <td>1.10</td>\n",
              "      <td>4.0</td>\n",
              "      <td>1.0</td>\n",
              "      <td>versicolor</td>\n",
              "    </tr>\n",
              "    <tr>\n",
              "      <th>68</th>\n",
              "      <td>6.2</td>\n",
              "      <td>1.10</td>\n",
              "      <td>4.5</td>\n",
              "      <td>1.5</td>\n",
              "      <td>versicolor</td>\n",
              "    </tr>\n",
              "    <tr>\n",
              "      <th>119</th>\n",
              "      <td>6.0</td>\n",
              "      <td>1.10</td>\n",
              "      <td>5.0</td>\n",
              "      <td>1.5</td>\n",
              "      <td>virginica</td>\n",
              "    </tr>\n",
              "    <tr>\n",
              "      <th>60</th>\n",
              "      <td>5.0</td>\n",
              "      <td>1.00</td>\n",
              "      <td>3.5</td>\n",
              "      <td>1.0</td>\n",
              "      <td>versicolor</td>\n",
              "    </tr>\n",
              "  </tbody>\n",
              "</table>\n",
              "<p>150 rows × 5 columns</p>\n",
              "</div>"
            ],
            "text/plain": [
              "     sepal_length  sepal_width  petal_length  petal_width     species\n",
              "15            5.7         2.20           1.5          0.4      setosa\n",
              "33            5.5         2.10           1.4          0.2      setosa\n",
              "32            5.2         2.05           1.5          0.1      setosa\n",
              "14            5.8         2.00           1.2          0.2      setosa\n",
              "16            5.4         1.95           1.3          0.4      setosa\n",
              "5             5.4         1.95           1.7          0.4      setosa\n",
              "18            5.7         1.90           1.7          0.3      setosa\n",
              "19            5.1         1.90           1.5          0.3      setosa\n",
              "46            5.1         1.90           1.6          0.2      setosa\n",
              "131           7.9         1.90           6.4          2.0   virginica\n",
              "117           7.7         1.90           6.7          2.2   virginica\n",
              "44            5.1         1.90           1.9          0.4      setosa\n",
              "10            5.4         1.85           1.5          0.2      setosa\n",
              "48            5.3         1.85           1.5          0.2      setosa\n",
              "21            5.1         1.85           1.5          0.4      setosa\n",
              "22            4.6         1.80           1.0          0.2      setosa\n",
              "4             5.0         1.80           1.4          0.2      setosa\n",
              "109           7.2         1.80           6.1          2.5   virginica\n",
              "40            5.0         1.75           1.3          0.3      setosa\n",
              "0             5.1         1.75           1.4          0.2      setosa\n",
              "27            5.2         1.75           1.5          0.2      setosa\n",
              "36            5.5         1.75           1.3          0.2      setosa\n",
              "17            5.1         1.75           1.4          0.3      setosa\n",
              "43            5.0         1.75           1.6          0.6      setosa\n",
              "39            5.1         1.70           1.5          0.2      setosa\n",
              "28            5.2         1.70           1.4          0.2      setosa\n",
              "11            4.8         1.70           1.6          0.2      setosa\n",
              "136           6.3         1.70           5.6          2.4   virginica\n",
              "31            5.4         1.70           1.5          0.4      setosa\n",
              "26            5.0         1.70           1.6          0.4      setosa\n",
              "..            ...          ...           ...          ...         ...\n",
              "111           6.4         1.35           5.3          1.9   virginica\n",
              "83            6.0         1.35           5.1          1.6  versicolor\n",
              "94            5.6         1.35           4.2          1.3  versicolor\n",
              "142           5.8         1.35           5.1          1.9   virginica\n",
              "123           6.3         1.35           4.9          1.8   virginica\n",
              "59            5.2         1.35           3.9          1.4  versicolor\n",
              "90            5.5         1.30           4.4          1.2  versicolor\n",
              "92            5.8         1.30           4.0          1.2  versicolor\n",
              "134           6.1         1.30           5.6          1.4   virginica\n",
              "118           7.7         1.30           6.9          2.3   virginica\n",
              "79            5.7         1.30           3.5          1.0  versicolor\n",
              "98            5.1         1.25           3.0          1.1  versicolor\n",
              "72            6.3         1.25           4.9          1.5  versicolor\n",
              "146           6.3         1.25           5.0          1.9   virginica\n",
              "69            5.6         1.25           3.9          1.1  versicolor\n",
              "108           6.7         1.25           5.8          1.8   virginica\n",
              "113           5.7         1.25           5.0          2.0   virginica\n",
              "89            5.5         1.25           4.0          1.3  versicolor\n",
              "106           4.9         1.25           4.5          1.7   virginica\n",
              "57            4.9         1.20           3.3          1.0  versicolor\n",
              "80            5.5         1.20           3.8          1.1  versicolor\n",
              "81            5.5         1.20           3.7          1.0  versicolor\n",
              "53            5.5         1.15           4.0          1.3  versicolor\n",
              "87            6.3         1.15           4.4          1.3  versicolor\n",
              "41            4.5         1.15           1.3          0.3      setosa\n",
              "93            5.0         1.15           3.3          1.0  versicolor\n",
              "62            6.0         1.10           4.0          1.0  versicolor\n",
              "68            6.2         1.10           4.5          1.5  versicolor\n",
              "119           6.0         1.10           5.0          1.5   virginica\n",
              "60            5.0         1.00           3.5          1.0  versicolor\n",
              "\n",
              "[150 rows x 5 columns]"
            ]
          },
          "metadata": {
            "tags": []
          },
          "execution_count": 32
        }
      ]
    },
    {
      "metadata": {
        "id": "vnBm4YP7vzTu",
        "colab_type": "code",
        "colab": {
          "base_uri": "https://localhost:8080/",
          "height": 34
        },
        "outputId": "968e791b-5fef-4f67-946d-635e432eb1d7"
      },
      "cell_type": "code",
      "source": [
        "species = iris_df['species'].unique()\n",
        "\n",
        "print(species) #set of unique species"
      ],
      "execution_count": 33,
      "outputs": [
        {
          "output_type": "stream",
          "text": [
            "['virginica' 'setosa' 'versicolor']\n"
          ],
          "name": "stdout"
        }
      ]
    },
    {
      "metadata": {
        "id": "B4ILhIGjv-PN",
        "colab_type": "code",
        "colab": {
          "base_uri": "https://localhost:8080/",
          "height": 204
        },
        "outputId": "1a540184-d75f-4496-d72b-e93ee76b9ecf"
      },
      "cell_type": "code",
      "source": [
        "setosa = iris_df[iris_df['species'] == species[1]]\n",
        "\n",
        "setosa.head()"
      ],
      "execution_count": 35,
      "outputs": [
        {
          "output_type": "execute_result",
          "data": {
            "text/html": [
              "<div>\n",
              "<style scoped>\n",
              "    .dataframe tbody tr th:only-of-type {\n",
              "        vertical-align: middle;\n",
              "    }\n",
              "\n",
              "    .dataframe tbody tr th {\n",
              "        vertical-align: top;\n",
              "    }\n",
              "\n",
              "    .dataframe thead th {\n",
              "        text-align: right;\n",
              "    }\n",
              "</style>\n",
              "<table border=\"1\" class=\"dataframe\">\n",
              "  <thead>\n",
              "    <tr style=\"text-align: right;\">\n",
              "      <th></th>\n",
              "      <th>sepal_length</th>\n",
              "      <th>sepal_width</th>\n",
              "      <th>petal_length</th>\n",
              "      <th>petal_width</th>\n",
              "      <th>species</th>\n",
              "    </tr>\n",
              "  </thead>\n",
              "  <tbody>\n",
              "    <tr>\n",
              "      <th>21</th>\n",
              "      <td>5.1</td>\n",
              "      <td>1.85</td>\n",
              "      <td>1.5</td>\n",
              "      <td>0.4</td>\n",
              "      <td>setosa</td>\n",
              "    </tr>\n",
              "    <tr>\n",
              "      <th>24</th>\n",
              "      <td>4.8</td>\n",
              "      <td>1.70</td>\n",
              "      <td>1.9</td>\n",
              "      <td>0.2</td>\n",
              "      <td>setosa</td>\n",
              "    </tr>\n",
              "    <tr>\n",
              "      <th>17</th>\n",
              "      <td>5.1</td>\n",
              "      <td>1.75</td>\n",
              "      <td>1.4</td>\n",
              "      <td>0.3</td>\n",
              "      <td>setosa</td>\n",
              "    </tr>\n",
              "    <tr>\n",
              "      <th>41</th>\n",
              "      <td>4.5</td>\n",
              "      <td>1.15</td>\n",
              "      <td>1.3</td>\n",
              "      <td>0.3</td>\n",
              "      <td>setosa</td>\n",
              "    </tr>\n",
              "    <tr>\n",
              "      <th>45</th>\n",
              "      <td>4.8</td>\n",
              "      <td>1.50</td>\n",
              "      <td>1.4</td>\n",
              "      <td>0.3</td>\n",
              "      <td>setosa</td>\n",
              "    </tr>\n",
              "  </tbody>\n",
              "</table>\n",
              "</div>"
            ],
            "text/plain": [
              "    sepal_length  sepal_width  petal_length  petal_width species\n",
              "21           5.1         1.85           1.5          0.4  setosa\n",
              "24           4.8         1.70           1.9          0.2  setosa\n",
              "17           5.1         1.75           1.4          0.3  setosa\n",
              "41           4.5         1.15           1.3          0.3  setosa\n",
              "45           4.8         1.50           1.4          0.3  setosa"
            ]
          },
          "metadata": {
            "tags": []
          },
          "execution_count": 35
        }
      ]
    },
    {
      "metadata": {
        "id": "sP4sIPxsv_xY",
        "colab_type": "code",
        "colab": {
          "base_uri": "https://localhost:8080/",
          "height": 204
        },
        "outputId": "5bdd8470-027e-4170-cc04-62c9d0173700"
      },
      "cell_type": "code",
      "source": [
        "virginica = iris_df[iris_df['species'] == species[0]]\n",
        "\n",
        "virginica.head()"
      ],
      "execution_count": 36,
      "outputs": [
        {
          "output_type": "execute_result",
          "data": {
            "text/html": [
              "<div>\n",
              "<style scoped>\n",
              "    .dataframe tbody tr th:only-of-type {\n",
              "        vertical-align: middle;\n",
              "    }\n",
              "\n",
              "    .dataframe tbody tr th {\n",
              "        vertical-align: top;\n",
              "    }\n",
              "\n",
              "    .dataframe thead th {\n",
              "        text-align: right;\n",
              "    }\n",
              "</style>\n",
              "<table border=\"1\" class=\"dataframe\">\n",
              "  <thead>\n",
              "    <tr style=\"text-align: right;\">\n",
              "      <th></th>\n",
              "      <th>sepal_length</th>\n",
              "      <th>sepal_width</th>\n",
              "      <th>petal_length</th>\n",
              "      <th>petal_width</th>\n",
              "      <th>species</th>\n",
              "    </tr>\n",
              "  </thead>\n",
              "  <tbody>\n",
              "    <tr>\n",
              "      <th>116</th>\n",
              "      <td>6.5</td>\n",
              "      <td>1.50</td>\n",
              "      <td>5.5</td>\n",
              "      <td>1.8</td>\n",
              "      <td>virginica</td>\n",
              "    </tr>\n",
              "    <tr>\n",
              "      <th>140</th>\n",
              "      <td>6.7</td>\n",
              "      <td>1.55</td>\n",
              "      <td>5.6</td>\n",
              "      <td>2.4</td>\n",
              "      <td>virginica</td>\n",
              "    </tr>\n",
              "    <tr>\n",
              "      <th>143</th>\n",
              "      <td>6.8</td>\n",
              "      <td>1.60</td>\n",
              "      <td>5.9</td>\n",
              "      <td>2.3</td>\n",
              "      <td>virginica</td>\n",
              "    </tr>\n",
              "    <tr>\n",
              "      <th>112</th>\n",
              "      <td>6.8</td>\n",
              "      <td>1.50</td>\n",
              "      <td>5.5</td>\n",
              "      <td>2.1</td>\n",
              "      <td>virginica</td>\n",
              "    </tr>\n",
              "    <tr>\n",
              "      <th>126</th>\n",
              "      <td>6.2</td>\n",
              "      <td>1.40</td>\n",
              "      <td>4.8</td>\n",
              "      <td>1.8</td>\n",
              "      <td>virginica</td>\n",
              "    </tr>\n",
              "  </tbody>\n",
              "</table>\n",
              "</div>"
            ],
            "text/plain": [
              "     sepal_length  sepal_width  petal_length  petal_width    species\n",
              "116           6.5         1.50           5.5          1.8  virginica\n",
              "140           6.7         1.55           5.6          2.4  virginica\n",
              "143           6.8         1.60           5.9          2.3  virginica\n",
              "112           6.8         1.50           5.5          2.1  virginica\n",
              "126           6.2         1.40           4.8          1.8  virginica"
            ]
          },
          "metadata": {
            "tags": []
          },
          "execution_count": 36
        }
      ]
    },
    {
      "metadata": {
        "id": "byUBwyd9wLtb",
        "colab_type": "code",
        "colab": {
          "base_uri": "https://localhost:8080/",
          "height": 204
        },
        "outputId": "5d7d7573-c207-4c79-c8af-cae80e258822"
      },
      "cell_type": "code",
      "source": [
        "versicolor = iris_df[iris_df['species'] == species[2]]\n",
        "\n",
        "versicolor.head()"
      ],
      "execution_count": 37,
      "outputs": [
        {
          "output_type": "execute_result",
          "data": {
            "text/html": [
              "<div>\n",
              "<style scoped>\n",
              "    .dataframe tbody tr th:only-of-type {\n",
              "        vertical-align: middle;\n",
              "    }\n",
              "\n",
              "    .dataframe tbody tr th {\n",
              "        vertical-align: top;\n",
              "    }\n",
              "\n",
              "    .dataframe thead th {\n",
              "        text-align: right;\n",
              "    }\n",
              "</style>\n",
              "<table border=\"1\" class=\"dataframe\">\n",
              "  <thead>\n",
              "    <tr style=\"text-align: right;\">\n",
              "      <th></th>\n",
              "      <th>sepal_length</th>\n",
              "      <th>sepal_width</th>\n",
              "      <th>petal_length</th>\n",
              "      <th>petal_width</th>\n",
              "      <th>species</th>\n",
              "    </tr>\n",
              "  </thead>\n",
              "  <tbody>\n",
              "    <tr>\n",
              "      <th>67</th>\n",
              "      <td>5.8</td>\n",
              "      <td>1.35</td>\n",
              "      <td>4.1</td>\n",
              "      <td>1.0</td>\n",
              "      <td>versicolor</td>\n",
              "    </tr>\n",
              "    <tr>\n",
              "      <th>76</th>\n",
              "      <td>6.8</td>\n",
              "      <td>1.40</td>\n",
              "      <td>4.8</td>\n",
              "      <td>1.4</td>\n",
              "      <td>versicolor</td>\n",
              "    </tr>\n",
              "    <tr>\n",
              "      <th>93</th>\n",
              "      <td>5.0</td>\n",
              "      <td>1.15</td>\n",
              "      <td>3.3</td>\n",
              "      <td>1.0</td>\n",
              "      <td>versicolor</td>\n",
              "    </tr>\n",
              "    <tr>\n",
              "      <th>66</th>\n",
              "      <td>5.6</td>\n",
              "      <td>1.50</td>\n",
              "      <td>4.5</td>\n",
              "      <td>1.5</td>\n",
              "      <td>versicolor</td>\n",
              "    </tr>\n",
              "    <tr>\n",
              "      <th>69</th>\n",
              "      <td>5.6</td>\n",
              "      <td>1.25</td>\n",
              "      <td>3.9</td>\n",
              "      <td>1.1</td>\n",
              "      <td>versicolor</td>\n",
              "    </tr>\n",
              "  </tbody>\n",
              "</table>\n",
              "</div>"
            ],
            "text/plain": [
              "    sepal_length  sepal_width  petal_length  petal_width     species\n",
              "67           5.8         1.35           4.1          1.0  versicolor\n",
              "76           6.8         1.40           4.8          1.4  versicolor\n",
              "93           5.0         1.15           3.3          1.0  versicolor\n",
              "66           5.6         1.50           4.5          1.5  versicolor\n",
              "69           5.6         1.25           3.9          1.1  versicolor"
            ]
          },
          "metadata": {
            "tags": []
          },
          "execution_count": 37
        }
      ]
    },
    {
      "metadata": {
        "id": "RHG7eG0EwYxX",
        "colab_type": "code",
        "colab": {
          "base_uri": "https://localhost:8080/",
          "height": 476
        },
        "outputId": "8730de79-7d33-40dd-bd71-58d793336987"
      },
      "cell_type": "code",
      "source": [
        "print(setosa.describe())\n",
        "print(virginica.describe())\n",
        "print(versicolor.describe())"
      ],
      "execution_count": 39,
      "outputs": [
        {
          "output_type": "stream",
          "text": [
            "       sepal_length  sepal_width  petal_length  petal_width\n",
            "count      50.00000    50.000000     50.000000     50.00000\n",
            "mean        5.00600     1.709000      1.464000      0.24400\n",
            "std         0.35249     0.190512      0.173511      0.10721\n",
            "min         4.30000     1.150000      1.000000      0.10000\n",
            "25%         4.80000     1.562500      1.400000      0.20000\n",
            "50%         5.00000     1.700000      1.500000      0.20000\n",
            "75%         5.20000     1.837500      1.575000      0.30000\n",
            "max         5.80000     2.200000      1.900000      0.60000\n",
            "       sepal_length  sepal_width  petal_length  petal_width\n",
            "count      50.00000    50.000000     50.000000     50.00000\n",
            "mean        6.58800     1.487000      5.552000      2.02600\n",
            "std         0.63588     0.161248      0.551895      0.27465\n",
            "min         4.90000     1.100000      4.500000      1.40000\n",
            "25%         6.22500     1.400000      5.100000      1.80000\n",
            "50%         6.50000     1.500000      5.550000      2.00000\n",
            "75%         6.90000     1.587500      5.875000      2.30000\n",
            "max         7.90000     1.900000      6.900000      2.50000\n",
            "       sepal_length  sepal_width  petal_length  petal_width\n",
            "count     50.000000    50.000000     50.000000    50.000000\n",
            "mean       5.936000     1.385000      4.260000     1.326000\n",
            "std        0.516171     0.156899      0.469911     0.197753\n",
            "min        4.900000     1.000000      3.000000     1.000000\n",
            "25%        5.600000     1.262500      4.000000     1.200000\n",
            "50%        5.900000     1.400000      4.350000     1.300000\n",
            "75%        6.300000     1.500000      4.600000     1.500000\n",
            "max        7.000000     1.700000      5.100000     1.800000\n"
          ],
          "name": "stdout"
        }
      ]
    },
    {
      "metadata": {
        "id": "IaHnoNx9wrde",
        "colab_type": "code",
        "colab": {
          "base_uri": "https://localhost:8080/",
          "height": 398
        },
        "outputId": "2793c3c3-fa21-4a62-cfae-2b2922b7b2a0"
      },
      "cell_type": "code",
      "source": [
        "import matplotlib.pyplot as plt\n",
        "\n",
        "#hist creates a histogram there are many more plots(see the documentation) you can play with it.\n",
        "\n",
        "plt.hist(setosa['sepal_length'])\n",
        "plt.hist(versicolor['sepal_length'])\n",
        "plt.hist(virginica['sepal_length'])"
      ],
      "execution_count": 41,
      "outputs": [
        {
          "output_type": "execute_result",
          "data": {
            "text/plain": [
              "(array([ 1.,  0.,  5.,  5.,  8.,  9., 10.,  5.,  1.,  6.]),\n",
              " array([4.9, 5.2, 5.5, 5.8, 6.1, 6.4, 6.7, 7. , 7.3, 7.6, 7.9]),\n",
              " <a list of 10 Patch objects>)"
            ]
          },
          "metadata": {
            "tags": []
          },
          "execution_count": 41
        },
        {
          "output_type": "display_data",
          "data": {
            "image/png": "[encoded data removed]",
            "text/plain": [
              "<matplotlib.figure.Figure at 0x7f5380512e48>"
            ]
          },
          "metadata": {
            "tags": []
          }
        }
      ]
    }
  ]
}