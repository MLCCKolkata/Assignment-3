{
  "nbformat": 4,
  "nbformat_minor": 0,
  "metadata": {
    "colab": {
      "name": "VicktorKrum.ipynb",
      "version": "0.3.2",
      "provenance": []
    },
    "kernelspec": {
      "display_name": "Python 3",
      "language": "python",
      "name": "python3"
    }
  },
  "cells": [
    {
      "metadata": {
        "id": "dFtMe0863qR0",
        "colab_type": "text"
      },
      "cell_type": "markdown",
      "source": [
        "**PANDAS EXERCISE:**\n",
        "\n",
        "1) Import necessary modules:-"
      ]
    },
    {
      "metadata": {
        "id": "rbPXtHYN34lq",
        "colab_type": "code",
        "colab": {}
      },
      "cell_type": "code",
      "source": [
        "import numpy as np\n",
        "import pandas as pd"
      ],
      "execution_count": 0,
      "outputs": []
    },
    {
      "metadata": {
        "id": "Zp3YP6bx3_hv",
        "colab_type": "text"
      },
      "cell_type": "markdown",
      "source": [
        "2) Load url = \"https://archive.ics.uci.edu/ml/machine-learning-databases/wine/wine.data\" to a dataframe named wine_df\n",
        "This is a wine dataset"
      ]
    },
    {
      "metadata": {
        "id": "WbKHbokT4FW5",
        "colab_type": "code",
        "colab": {}
      },
      "cell_type": "code",
      "source": [
        "#wine_df =  pd.read_csv('https://archive.ics.uci.edu/ml/machine-learning-databases/wine/wine.data',header=None)\n",
        "wine_dtf =  pd.read_csv('https://archive.ics.uci.edu/ml/machine-learning-databases/wine/wine.data')\n",
        "#df = pd.DataFrame(wine_dtf.values,columns=['Alcohol','MAlic Acid',\t'Ash',\t\"Alcalinity of Ash\",\t\"MAgnesium\",\t\"Total phenols\",\t\"Flavanoids\",\t\"NF phenols\",\t\"Proanthocyanin\",\t\"Color intensity\",\t\"Hue\",\t\"code\",\t\"Proline\"])     \n",
        "#names=None)\n",
        "df = pd.DataFrame(wine_dtf.values)"
      ],
      "execution_count": 0,
      "outputs": []
    },
    {
      "metadata": {
        "id": "NKglIQplNphw",
        "colab_type": "code",
        "colab": {}
      },
      "cell_type": "code",
      "source": [
        "wine_df =  pd.read_csv('https://archive.ics.uci.edu/ml/machine-learning-databases/wine/wine.data',header=None)"
      ],
      "execution_count": 0,
      "outputs": []
    },
    {
      "metadata": {
        "id": "JRi2audv4YDD",
        "colab_type": "text"
      },
      "cell_type": "markdown",
      "source": [
        "3) Print first five rows:"
      ]
    },
    {
      "metadata": {
        "id": "igX8FhZo4fPS",
        "colab_type": "code",
        "colab": {
          "base_uri": "https://localhost:8080/",
          "height": 408
        },
        "outputId": "c3908515-0574-4634-cbab-1b8f32116073"
      },
      "cell_type": "code",
      "source": [
        "#print(wine_df.head())\n",
        "\n",
        "#wine_df.head(5)\n",
        "\n",
        "print(fr.head(10))"
      ],
      "execution_count": 0,
      "outputs": [
        {
          "output_type": "stream",
          "text": [
            "    0      1     2     3     4      5     6     7     8     9     10    11  \\\n",
            "0  1.0  13.20  1.78  2.14  11.2  100.0  2.65  2.76  0.26  1.28  4.38  1.05   \n",
            "1  1.0  13.16  2.36  2.67  18.6  101.0  2.80  3.24  0.30  2.81  5.68  1.03   \n",
            "2  1.0  14.37  1.95  2.50  16.8  113.0  3.85  3.49  0.24  2.18  7.80  0.86   \n",
            "3  1.0  13.24  2.59  2.87  21.0  118.0  2.80  2.69  0.39  1.82  4.32  1.04   \n",
            "4  1.0  14.20  1.76  2.45  15.2  112.0  3.27  3.39  0.34  1.97  6.75  1.05   \n",
            "5  1.0  14.39  1.87  2.45  14.6   96.0  2.50  2.52  0.30  1.98  5.25  1.02   \n",
            "6  1.0  14.06  2.15  2.61  17.6  121.0  2.60  2.51  0.31  1.25  5.05  1.06   \n",
            "7  1.0  14.83  1.64  2.17  14.0   97.0  2.80  2.98  0.29  1.98  5.20  1.08   \n",
            "8  1.0  13.86  1.35  2.27  16.0   98.0  2.98  3.15  0.22  1.85  7.22  1.01   \n",
            "9  1.0  14.10  2.16  2.30  18.0  105.0  2.95  3.32  0.22  2.38  5.75  1.25   \n",
            "\n",
            "     12      13  \n",
            "0  3.40  1050.0  \n",
            "1  3.17  1185.0  \n",
            "2  3.45  1480.0  \n",
            "3  2.93   735.0  \n",
            "4  2.85  1450.0  \n",
            "5  3.58  1290.0  \n",
            "6  3.58  1295.0  \n",
            "7  2.85  1045.0  \n",
            "8  3.55  1045.0  \n",
            "9  3.17  1510.0  \n"
          ],
          "name": "stdout"
        }
      ]
    },
    {
      "metadata": {
        "id": "AiuO5hkiNeHb",
        "colab_type": "code",
        "colab": {
          "base_uri": "https://localhost:8080/",
          "height": 425
        },
        "outputId": "9d463944-c3e3-493f-97e8-7c305b2c5a35"
      },
      "cell_type": "code",
      "source": [
        "print(wine_df.head())\n",
        "\n",
        "wine_df.head(5)"
      ],
      "execution_count": 0,
      "outputs": [
        {
          "output_type": "stream",
          "text": [
            "   0      1     2     3     4    5     6     7     8     9     10    11    12  \\\n",
            "0   1  14.23  1.71  2.43  15.6  127  2.80  3.06  0.28  2.29  5.64  1.04  3.92   \n",
            "1   1  13.20  1.78  2.14  11.2  100  2.65  2.76  0.26  1.28  4.38  1.05  3.40   \n",
            "2   1  13.16  2.36  2.67  18.6  101  2.80  3.24  0.30  2.81  5.68  1.03  3.17   \n",
            "3   1  14.37  1.95  2.50  16.8  113  3.85  3.49  0.24  2.18  7.80  0.86  3.45   \n",
            "4   1  13.24  2.59  2.87  21.0  118  2.80  2.69  0.39  1.82  4.32  1.04  2.93   \n",
            "\n",
            "     13  \n",
            "0  1065  \n",
            "1  1050  \n",
            "2  1185  \n",
            "3  1480  \n",
            "4   735  \n"
          ],
          "name": "stdout"
        },
        {
          "output_type": "execute_result",
          "data": {
            "text/html": [
              "<div>\n",
              "<style scoped>\n",
              "    .dataframe tbody tr th:only-of-type {\n",
              "        vertical-align: middle;\n",
              "    }\n",
              "\n",
              "    .dataframe tbody tr th {\n",
              "        vertical-align: top;\n",
              "    }\n",
              "\n",
              "    .dataframe thead th {\n",
              "        text-align: right;\n",
              "    }\n",
              "</style>\n",
              "<table border=\"1\" class=\"dataframe\">\n",
              "  <thead>\n",
              "    <tr style=\"text-align: right;\">\n",
              "      <th></th>\n",
              "      <th>0</th>\n",
              "      <th>1</th>\n",
              "      <th>2</th>\n",
              "      <th>3</th>\n",
              "      <th>4</th>\n",
              "      <th>5</th>\n",
              "      <th>6</th>\n",
              "      <th>7</th>\n",
              "      <th>8</th>\n",
              "      <th>9</th>\n",
              "      <th>10</th>\n",
              "      <th>11</th>\n",
              "      <th>12</th>\n",
              "      <th>13</th>\n",
              "    </tr>\n",
              "  </thead>\n",
              "  <tbody>\n",
              "    <tr>\n",
              "      <th>0</th>\n",
              "      <td>1</td>\n",
              "      <td>14.23</td>\n",
              "      <td>1.71</td>\n",
              "      <td>2.43</td>\n",
              "      <td>15.6</td>\n",
              "      <td>127</td>\n",
              "      <td>2.80</td>\n",
              "      <td>3.06</td>\n",
              "      <td>0.28</td>\n",
              "      <td>2.29</td>\n",
              "      <td>5.64</td>\n",
              "      <td>1.04</td>\n",
              "      <td>3.92</td>\n",
              "      <td>1065</td>\n",
              "    </tr>\n",
              "    <tr>\n",
              "      <th>1</th>\n",
              "      <td>1</td>\n",
              "      <td>13.20</td>\n",
              "      <td>1.78</td>\n",
              "      <td>2.14</td>\n",
              "      <td>11.2</td>\n",
              "      <td>100</td>\n",
              "      <td>2.65</td>\n",
              "      <td>2.76</td>\n",
              "      <td>0.26</td>\n",
              "      <td>1.28</td>\n",
              "      <td>4.38</td>\n",
              "      <td>1.05</td>\n",
              "      <td>3.40</td>\n",
              "      <td>1050</td>\n",
              "    </tr>\n",
              "    <tr>\n",
              "      <th>2</th>\n",
              "      <td>1</td>\n",
              "      <td>13.16</td>\n",
              "      <td>2.36</td>\n",
              "      <td>2.67</td>\n",
              "      <td>18.6</td>\n",
              "      <td>101</td>\n",
              "      <td>2.80</td>\n",
              "      <td>3.24</td>\n",
              "      <td>0.30</td>\n",
              "      <td>2.81</td>\n",
              "      <td>5.68</td>\n",
              "      <td>1.03</td>\n",
              "      <td>3.17</td>\n",
              "      <td>1185</td>\n",
              "    </tr>\n",
              "    <tr>\n",
              "      <th>3</th>\n",
              "      <td>1</td>\n",
              "      <td>14.37</td>\n",
              "      <td>1.95</td>\n",
              "      <td>2.50</td>\n",
              "      <td>16.8</td>\n",
              "      <td>113</td>\n",
              "      <td>3.85</td>\n",
              "      <td>3.49</td>\n",
              "      <td>0.24</td>\n",
              "      <td>2.18</td>\n",
              "      <td>7.80</td>\n",
              "      <td>0.86</td>\n",
              "      <td>3.45</td>\n",
              "      <td>1480</td>\n",
              "    </tr>\n",
              "    <tr>\n",
              "      <th>4</th>\n",
              "      <td>1</td>\n",
              "      <td>13.24</td>\n",
              "      <td>2.59</td>\n",
              "      <td>2.87</td>\n",
              "      <td>21.0</td>\n",
              "      <td>118</td>\n",
              "      <td>2.80</td>\n",
              "      <td>2.69</td>\n",
              "      <td>0.39</td>\n",
              "      <td>1.82</td>\n",
              "      <td>4.32</td>\n",
              "      <td>1.04</td>\n",
              "      <td>2.93</td>\n",
              "      <td>735</td>\n",
              "    </tr>\n",
              "  </tbody>\n",
              "</table>\n",
              "</div>"
            ],
            "text/plain": [
              "   0      1     2     3     4    5     6     7     8     9     10    11    12  \\\n",
              "0   1  14.23  1.71  2.43  15.6  127  2.80  3.06  0.28  2.29  5.64  1.04  3.92   \n",
              "1   1  13.20  1.78  2.14  11.2  100  2.65  2.76  0.26  1.28  4.38  1.05  3.40   \n",
              "2   1  13.16  2.36  2.67  18.6  101  2.80  3.24  0.30  2.81  5.68  1.03  3.17   \n",
              "3   1  14.37  1.95  2.50  16.8  113  3.85  3.49  0.24  2.18  7.80  0.86  3.45   \n",
              "4   1  13.24  2.59  2.87  21.0  118  2.80  2.69  0.39  1.82  4.32  1.04  2.93   \n",
              "\n",
              "     13  \n",
              "0  1065  \n",
              "1  1050  \n",
              "2  1185  \n",
              "3  1480  \n",
              "4   735  "
            ]
          },
          "metadata": {
            "tags": []
          },
          "execution_count": 24
        }
      ]
    },
    {
      "metadata": {
        "id": "wGfevgFx4lMc",
        "colab_type": "text"
      },
      "cell_type": "markdown",
      "source": [
        "4) Assign wine_df to a different variable wine_df_copy and then delete all odd rows of wine_df_copy"
      ]
    },
    {
      "metadata": {
        "id": "KFF1anSx50eQ",
        "colab_type": "code",
        "colab": {
          "base_uri": "https://localhost:8080/",
          "height": 238
        },
        "outputId": "20e3a2e1-d9f7-4d2e-8ed2-ddf87df22f83"
      },
      "cell_type": "code",
      "source": [
        "wine_df_copy = wine_df\n",
        "print(wine_df_copy.head()) #to check if earlier assignment operation worked\n",
        "#for i in range(0,180):\n",
        " # if (i%2!=0):\n",
        "  #  wine_df_copy.drop(wine_df_copy.index[i],axis=1)\n",
        "#print(wine_df_copy)    \n",
        "\n",
        "#wine_df_copy.drop((0,1))\n",
        "    #wine_df_copy.drop(i,axis=0)\n",
        "#wine_df_copy"
      ],
      "execution_count": 0,
      "outputs": [
        {
          "output_type": "stream",
          "text": [
            "   0      1     2     3     4    5     6     7     8     9     10    11    12  \\\n",
            "0   1  14.23  1.71  2.43  15.6  127  2.80  3.06  0.28  2.29  5.64  1.04  3.92   \n",
            "1   1  13.20  1.78  2.14  11.2  100  2.65  2.76  0.26  1.28  4.38  1.05  3.40   \n",
            "2   1  13.16  2.36  2.67  18.6  101  2.80  3.24  0.30  2.81  5.68  1.03  3.17   \n",
            "3   1  14.37  1.95  2.50  16.8  113  3.85  3.49  0.24  2.18  7.80  0.86  3.45   \n",
            "4   1  13.24  2.59  2.87  21.0  118  2.80  2.69  0.39  1.82  4.32  1.04  2.93   \n",
            "\n",
            "     13  \n",
            "0  1065  \n",
            "1  1050  \n",
            "2  1185  \n",
            "3  1480  \n",
            "4   735  \n"
          ],
          "name": "stdout"
        }
      ]
    },
    {
      "metadata": {
        "id": "6rnNUut0Q1bD",
        "colab_type": "code",
        "colab": {
          "base_uri": "https://localhost:8080/",
          "height": 408
        },
        "outputId": "8d48f6a6-1a5f-49f3-f53d-da03086fcd49"
      },
      "cell_type": "code",
      "source": [
        "wine_df_copy.iloc[::2]\n",
        "print(wine_df_copy.head(10))"
      ],
      "execution_count": 0,
      "outputs": [
        {
          "output_type": "stream",
          "text": [
            "   0      1     2     3     4    5     6     7     8     9     10    11    12  \\\n",
            "0   1  14.23  1.71  2.43  15.6  127  2.80  3.06  0.28  2.29  5.64  1.04  3.92   \n",
            "1   1  13.20  1.78  2.14  11.2  100  2.65  2.76  0.26  1.28  4.38  1.05  3.40   \n",
            "2   1  13.16  2.36  2.67  18.6  101  2.80  3.24  0.30  2.81  5.68  1.03  3.17   \n",
            "3   1  14.37  1.95  2.50  16.8  113  3.85  3.49  0.24  2.18  7.80  0.86  3.45   \n",
            "4   1  13.24  2.59  2.87  21.0  118  2.80  2.69  0.39  1.82  4.32  1.04  2.93   \n",
            "5   1  14.20  1.76  2.45  15.2  112  3.27  3.39  0.34  1.97  6.75  1.05  2.85   \n",
            "6   1  14.39  1.87  2.45  14.6   96  2.50  2.52  0.30  1.98  5.25  1.02  3.58   \n",
            "7   1  14.06  2.15  2.61  17.6  121  2.60  2.51  0.31  1.25  5.05  1.06  3.58   \n",
            "8   1  14.83  1.64  2.17  14.0   97  2.80  2.98  0.29  1.98  5.20  1.08  2.85   \n",
            "9   1  13.86  1.35  2.27  16.0   98  2.98  3.15  0.22  1.85  7.22  1.01  3.55   \n",
            "\n",
            "     13  \n",
            "0  1065  \n",
            "1  1050  \n",
            "2  1185  \n",
            "3  1480  \n",
            "4   735  \n",
            "5  1450  \n",
            "6  1290  \n",
            "7  1295  \n",
            "8  1045  \n",
            "9  1045  \n"
          ],
          "name": "stdout"
        }
      ]
    },
    {
      "metadata": {
        "id": "FP3_46VqPLhP",
        "colab_type": "code",
        "colab": {
          "base_uri": "https://localhost:8080/",
          "height": 34
        },
        "outputId": "5f8a99a6-70a8-4e7f-a4bd-3243bad37d38"
      },
      "cell_type": "code",
      "source": [
        "'''#wine_df_copy.drop(1)\n",
        "for i in range(0,180):\n",
        "  if (i%2!=0):\n",
        "    wine_df_copy.drop(i,axis=0)\n",
        "wine_df_copy'''"
      ],
      "execution_count": 0,
      "outputs": [
        {
          "output_type": "execute_result",
          "data": {
            "text/plain": [
              "'#wine_df_copy.drop(1)\\nfor i in range(0,180):\\n  if (i%2!=0):\\n    wine_df_copy.drop(i,axis=0)\\nwine_df_copy'"
            ]
          },
          "metadata": {
            "tags": []
          },
          "execution_count": 39
        }
      ]
    },
    {
      "metadata": {
        "id": "-jD3yUaqREOt",
        "colab_type": "code",
        "colab": {}
      },
      "cell_type": "code",
      "source": [
        "#iris_df[(iris_df['sepal_width']>3.3)\n",
        "#wine_df_copy.index.name='m' #this is working\n",
        "#wine_df_copy[(wine_df_copy[m])%2!=0] #please help with this"
      ],
      "execution_count": 0,
      "outputs": []
    },
    {
      "metadata": {
        "id": "tKICJ_EOQnZV",
        "colab_type": "text"
      },
      "cell_type": "markdown",
      "source": [
        "5) Assign the columns as below:\n",
        "The attributes are (dontated by Riccardo Leardi, riclea '@' anchem.unige.it):\n",
        "1) Alcohol\n",
        "2) Malic acid\n",
        "3) Ash\n",
        "4) Alcalinity of ash\n",
        "5) Magnesium\n",
        "6) Total phenols\n",
        "7) Flavanoids\n",
        "8) Nonflavanoid phenols\n",
        "9) Proanthocyanins\n",
        "10)Color intensity\n",
        "11)Hue\n",
        "12)OD280/OD315 of diluted wines\n",
        "13)Proline"
      ]
    },
    {
      "metadata": {
        "id": "l8BbKWnCQxmo",
        "colab_type": "code",
        "colab": {
          "base_uri": "https://localhost:8080/",
          "height": 425
        },
        "outputId": "81d3ca81-1302-467d-fefb-666dfb767815"
      },
      "cell_type": "code",
      "source": [
        "wine_df = wine_df.rename({'0':'Alcohol',\t'1':'MAlic Acid',\t'2':'Ash',\t'3':'Alcalinity of Ash',\t'4':'MAgnesium',\t'5':'Total phenols',\t'6':'Flavanoids',\t'7':'NF phenols',\t'8':'Proanthocyanin',\t'9':'Color intensity',\t'10':'Hue',\t'11':'code',\t'12':'Proline', '13':'alryt'}, axis=1)\n",
        "#wine_df = wine_df.rename(columns={'Alcohol','MAlic Acid',\t'Ash',\t'Alcalinity of Ash',\t'MAgnesium',\t'Total phenols',\t'Flavanoids',\t'NF phenols',\t'Proanthocyanin',\t'Color intensity',\t'Hue',\t'code',\t'Proline'}\n",
        "print(wine_df.head(5))\n",
        "#wine_df.columns(\"Alcohol\",\"MAlic Acid\",\t'Ash',\t'Alcalinity of Ash',\t'MAgnesium',\t'Total phenols',\t'Flavanoids',\t'NF phenols',\t'Proanthocyanin',\t'Color intensity',\t'Hue',\t'code',\t'Proliny\n",
        "#wine_df = wine_df.rename(columns = {\"0\":\"Alcohol\",\t'1':'MAlic Acid',\t'2':'Ash',\t'3':'Alcalinity of Ash',\t'4':'MAgnesium',\t'5':'Total phenols',\t'6':'Flavanoids',\t'7':'NF phenols',\t'8':'Proanthocyanin',\t'9':'Color intensity',\t'10':'Hue',\t'11':'code',\t'12':'Proline'}, axis='columns')\n",
        "\"\"\"No idea what's happening here, please mail if you get it.\"\"\""
      ],
      "execution_count": 0,
      "outputs": [
        {
          "output_type": "stream",
          "text": [
            "   ok  Alcohol  MAlic Acid   Ash  Alcalinity of Ash  MAgnesium  Total phenols  \\\n",
            "m                                                                               \n",
            "0   1    14.23        1.71  2.43               15.6        127           2.80   \n",
            "1   1    13.20        1.78  2.14               11.2        100           2.65   \n",
            "2   1    13.16        2.36  2.67               18.6        101           2.80   \n",
            "3   1    14.37        1.95  2.50               16.8        113           3.85   \n",
            "4   1    13.24        2.59  2.87               21.0        118           2.80   \n",
            "\n",
            "   Flavanoids  NF phenols  Proanthocyanin  Color intensity   Hue  code  \\\n",
            "m                                                                        \n",
            "0        3.06        0.28            2.29             5.64  1.04  3.92   \n",
            "1        2.76        0.26            1.28             4.38  1.05  3.40   \n",
            "2        3.24        0.30            2.81             5.68  1.03  3.17   \n",
            "3        3.49        0.24            2.18             7.80  0.86  3.45   \n",
            "4        2.69        0.39            1.82             4.32  1.04  2.93   \n",
            "\n",
            "   Proline  \n",
            "m           \n",
            "0     1065  \n",
            "1     1050  \n",
            "2     1185  \n",
            "3     1480  \n",
            "4      735  \n"
          ],
          "name": "stdout"
        },
        {
          "output_type": "execute_result",
          "data": {
            "text/plain": [
              "\"No idea what's happening here, please mail if you get it.\""
            ]
          },
          "metadata": {
            "tags": []
          },
          "execution_count": 85
        }
      ]
    },
    {
      "metadata": {
        "id": "rPXQEGOscHbH",
        "colab_type": "code",
        "colab": {
          "base_uri": "https://localhost:8080/",
          "height": 357
        },
        "outputId": "9251cd7c-5f49-43a9-ab04-ce5765ab0484"
      },
      "cell_type": "code",
      "source": [
        "wine_df.set_axis(['ok','Alcohol','MAlic Acid',\t'Ash',\t'Alcalinity of Ash',\t'MAgnesium',\t'Total phenols',\t'Flavanoids',\t'NF phenols',\t'Proanthocyanin',\t'Color intensity',\t'Hue',\t'code',\t'Proline'], axis=1, inplace=True)\n",
        "print(wine_df.head(4))"
      ],
      "execution_count": 0,
      "outputs": [
        {
          "output_type": "stream",
          "text": [
            "   ok  Alcohol  MAlic Acid   Ash  Alcalinity of Ash  MAgnesium  Total phenols  \\\n",
            "m                                                                               \n",
            "0   1    14.23        1.71  2.43               15.6        127           2.80   \n",
            "1   1    13.20        1.78  2.14               11.2        100           2.65   \n",
            "2   1    13.16        2.36  2.67               18.6        101           2.80   \n",
            "3   1    14.37        1.95  2.50               16.8        113           3.85   \n",
            "\n",
            "   Flavanoids  NF phenols  Proanthocyanin  Color intensity   Hue  code  \\\n",
            "m                                                                        \n",
            "0        3.06        0.28            2.29             5.64  1.04  3.92   \n",
            "1        2.76        0.26            1.28             4.38  1.05  3.40   \n",
            "2        3.24        0.30            2.81             5.68  1.03  3.17   \n",
            "3        3.49        0.24            2.18             7.80  0.86  3.45   \n",
            "\n",
            "   Proline  \n",
            "m           \n",
            "0     1065  \n",
            "1     1050  \n",
            "2     1185  \n",
            "3     1480  \n"
          ],
          "name": "stdout"
        }
      ]
    },
    {
      "metadata": {
        "id": "osW4FRrtWBpJ",
        "colab_type": "code",
        "colab": {
          "base_uri": "https://localhost:8080/",
          "height": 765
        },
        "outputId": "15a3aa74-3801-49ae-b60b-101e344c0c44"
      },
      "cell_type": "code",
      "source": [
        "print(wine_df.head(12))"
      ],
      "execution_count": 0,
      "outputs": [
        {
          "output_type": "stream",
          "text": [
            "    ok  Alcohol  MAlic Acid   Ash  Alcalinity of Ash  MAgnesium  \\\n",
            "m                                                                 \n",
            "0    1    14.23        1.71  2.43               15.6        127   \n",
            "1    1    13.20        1.78  2.14               11.2        100   \n",
            "2    1    13.16        2.36  2.67               18.6        101   \n",
            "3    1    14.37        1.95  2.50               16.8        113   \n",
            "4    1    13.24        2.59  2.87               21.0        118   \n",
            "5    1    14.20        1.76  2.45               15.2        112   \n",
            "6    1    14.39        1.87  2.45               14.6         96   \n",
            "7    1    14.06        2.15  2.61               17.6        121   \n",
            "8    1    14.83        1.64  2.17               14.0         97   \n",
            "9    1    13.86        1.35  2.27               16.0         98   \n",
            "10   1    14.10        2.16  2.30               18.0        105   \n",
            "11   1    14.12        1.48  2.32               16.8         95   \n",
            "\n",
            "    Total phenols  Flavanoids  NF phenols  Proanthocyanin  Color intensity  \\\n",
            "m                                                                            \n",
            "0            2.80        3.06        0.28            2.29             5.64   \n",
            "1            2.65        2.76        0.26            1.28             4.38   \n",
            "2            2.80        3.24        0.30            2.81             5.68   \n",
            "3            3.85        3.49        0.24            2.18             7.80   \n",
            "4            2.80        2.69        0.39            1.82             4.32   \n",
            "5            3.27        3.39        0.34            1.97             6.75   \n",
            "6            2.50        2.52        0.30            1.98             5.25   \n",
            "7            2.60        2.51        0.31            1.25             5.05   \n",
            "8            2.80        2.98        0.29            1.98             5.20   \n",
            "9            2.98        3.15        0.22            1.85             7.22   \n",
            "10           2.95        3.32        0.22            2.38             5.75   \n",
            "11           2.20        2.43        0.26            1.57             5.00   \n",
            "\n",
            "     Hue  code  Proline  \n",
            "m                        \n",
            "0   1.04  3.92     1065  \n",
            "1   1.05  3.40     1050  \n",
            "2   1.03  3.17     1185  \n",
            "3   0.86  3.45     1480  \n",
            "4   1.04  2.93      735  \n",
            "5   1.05  2.85     1450  \n",
            "6   1.02  3.58     1290  \n",
            "7   1.06  3.58     1295  \n",
            "8   1.08  2.85     1045  \n",
            "9   1.01  3.55     1045  \n",
            "10  1.25  3.17     1510  \n",
            "11  1.17  2.82     1280  \n"
          ],
          "name": "stdout"
        }
      ]
    },
    {
      "metadata": {
        "id": "JdaN3hvpT1-q",
        "colab_type": "text"
      },
      "cell_type": "markdown",
      "source": [
        "6)Set the values of the first 3 rows from alcohol as NaN\n",
        "Hint- Use iloc to select 3 rows of wine_df"
      ]
    },
    {
      "metadata": {
        "id": "GCkAz_MBdtm4",
        "colab_type": "code",
        "colab": {
          "base_uri": "https://localhost:8080/",
          "height": 34
        },
        "outputId": "3bbbf708-c6f4-49f0-c67c-d6841ab69a70"
      },
      "cell_type": "code",
      "source": [
        "'''have tried:'''\n",
        "#wine_df.Alcohol.iloc[[1,2,3]]='NaN'\n",
        "#wine_df.Alcohol.iloc[0:3]='NaN'\n",
        "'''several other ways but failed, hence, below:-'''"
      ],
      "execution_count": 0,
      "outputs": [
        {
          "output_type": "execute_result",
          "data": {
            "text/plain": [
              "'several other ways but failed, hence, below:-'"
            ]
          },
          "metadata": {
            "tags": []
          },
          "execution_count": 99
        }
      ]
    },
    {
      "metadata": {
        "id": "_bn0ZqqBT7hN",
        "colab_type": "code",
        "colab": {
          "base_uri": "https://localhost:8080/",
          "height": 357
        },
        "outputId": "fa787b60-9fd5-4cf2-90fd-367738786037"
      },
      "cell_type": "code",
      "source": [
        "wine_df.iloc[0,0] = np.NaN\n",
        "wine_df.iloc[1,0] = np.NaN\n",
        "wine_df.iloc[2,0] = np.NaN\n",
        "print(wine_df.head(4))\n",
        "#please suggest a better  way"
      ],
      "execution_count": 0,
      "outputs": [
        {
          "output_type": "stream",
          "text": [
            "    ok  Alcohol  MAlic Acid   Ash  Alcalinity of Ash MAgnesium  Total phenols  \\\n",
            "m                                                                               \n",
            "0  NaN    14.23        1.71  2.43               15.6       127           2.80   \n",
            "1  NaN    13.20        1.78  2.14               11.2       100           2.65   \n",
            "2  NaN    13.16        2.36  2.67               18.6       101           2.80   \n",
            "3    1    14.37        1.95  2.50               16.8       113           3.85   \n",
            "\n",
            "   Flavanoids  NF phenols  Proanthocyanin  Color intensity   Hue  code  \\\n",
            "m                                                                        \n",
            "0        3.06        0.28            2.29             5.64  1.04  3.92   \n",
            "1        2.76        0.26            1.28             4.38  1.05   NaN   \n",
            "2        3.24        0.30            2.81             5.68  1.03  3.17   \n",
            "3        3.49        0.24            2.18             7.80  0.86  3.45   \n",
            "\n",
            "   Proline  \n",
            "m           \n",
            "0     1065  \n",
            "1     1050  \n",
            "2     1185  \n",
            "3     1480  \n"
          ],
          "name": "stdout"
        }
      ]
    },
    {
      "metadata": {
        "id": "0PbSpmTbU0cD",
        "colab_type": "text"
      },
      "cell_type": "markdown",
      "source": [
        "7)Create an array of 10 random numbers uptill 10 and assign it to a variable named random"
      ]
    },
    {
      "metadata": {
        "id": "dBjhRfasU-t4",
        "colab_type": "code",
        "colab": {
          "base_uri": "https://localhost:8080/",
          "height": 51
        },
        "outputId": "18c7c315-fe03-43b7-b739-4c6face720cd"
      },
      "cell_type": "code",
      "source": [
        "random=np.arange(11)\n",
        "print(random)\n",
        "x = [i for i in range(10)]\n",
        "print(x)"
      ],
      "execution_count": 0,
      "outputs": [
        {
          "output_type": "stream",
          "text": [
            "[ 0  1  2  3  4  5  6  7  8  9 10]\n",
            "[0, 1, 2, 3, 4, 5, 6, 7, 8, 9]\n"
          ],
          "name": "stdout"
        }
      ]
    },
    {
      "metadata": {
        "id": "3M5e46cuePkg",
        "colab_type": "text"
      },
      "cell_type": "markdown",
      "source": [
        "8)Use random numbers you generated as an index and assign NaN value to each of cell of the column alcohol\n"
      ]
    },
    {
      "metadata": {
        "id": "bJYyzGn8eZ8K",
        "colab_type": "code",
        "colab": {
          "base_uri": "https://localhost:8080/",
          "height": 867
        },
        "outputId": "3b1ebd73-d762-4416-c50a-51457050807b"
      },
      "cell_type": "code",
      "source": [
        "import random\n",
        "a = random.randint(1,12)\n",
        "b = random.randint(3,12)\n",
        "wine_df.iloc[a,b] = np.NaN\n",
        "print(wine_df.head(14))\n",
        "#at 4,MAgnesium"
      ],
      "execution_count": 0,
      "outputs": [
        {
          "output_type": "stream",
          "text": [
            "     ok  Alcohol  MAlic Acid   Ash  Alcalinity of Ash MAgnesium  \\\n",
            "m                                                                 \n",
            "0   NaN    14.23        1.71  2.43               15.6       127   \n",
            "1   NaN    13.20        1.78  2.14               11.2       100   \n",
            "2   NaN    13.16        2.36  2.67               18.6       101   \n",
            "3     1    14.37        1.95  2.50               16.8       113   \n",
            "4     1    13.24        2.59  2.87               21.0       NaN   \n",
            "5     1    14.20        1.76  2.45               15.2       112   \n",
            "6     1    14.39        1.87  2.45               14.6        96   \n",
            "7     1    14.06        2.15  2.61               17.6       121   \n",
            "8     1    14.83        1.64  2.17               14.0        97   \n",
            "9     1    13.86        1.35  2.27               16.0        98   \n",
            "10    1    14.10        2.16  2.30               18.0       105   \n",
            "11    1    14.12        1.48  2.32               16.8        95   \n",
            "12    1    13.75        1.73  2.41               16.0        89   \n",
            "13    1    14.75        1.73  2.39               11.4        91   \n",
            "\n",
            "    Total phenols  Flavanoids  NF phenols  Proanthocyanin  Color intensity  \\\n",
            "m                                                                            \n",
            "0            2.80        3.06        0.28            2.29             5.64   \n",
            "1            2.65        2.76        0.26            1.28             4.38   \n",
            "2            2.80        3.24        0.30            2.81             5.68   \n",
            "3            3.85        3.49         NaN            2.18             7.80   \n",
            "4            2.80        2.69        0.39            1.82             4.32   \n",
            "5            3.27        3.39        0.34            1.97             6.75   \n",
            "6            2.50        2.52        0.30            1.98             5.25   \n",
            "7            2.60        2.51        0.31            1.25             5.05   \n",
            "8            2.80        2.98        0.29            1.98             5.20   \n",
            "9            2.98        3.15        0.22            1.85             7.22   \n",
            "10           2.95        3.32        0.22            2.38             5.75   \n",
            "11           2.20        2.43        0.26            1.57             5.00   \n",
            "12           2.60        2.76        0.29            1.81             5.60   \n",
            "13           3.10        3.69        0.43            2.81             5.40   \n",
            "\n",
            "     Hue  code  Proline  \n",
            "m                        \n",
            "0   1.04  3.92     1065  \n",
            "1   1.05   NaN     1050  \n",
            "2   1.03  3.17     1185  \n",
            "3   0.86  3.45     1480  \n",
            "4   1.04  2.93      735  \n",
            "5   1.05  2.85     1450  \n",
            "6   1.02  3.58     1290  \n",
            "7   1.06  3.58     1295  \n",
            "8   1.08  2.85     1045  \n",
            "9   1.01  3.55     1045  \n",
            "10  1.25  3.17     1510  \n",
            "11  1.17  2.82     1280  \n",
            "12  1.15   2.9     1320  \n",
            "13  1.25  2.73     1150  \n"
          ],
          "name": "stdout"
        }
      ]
    },
    {
      "metadata": {
        "id": "uwYAryTufVvq",
        "colab_type": "text"
      },
      "cell_type": "markdown",
      "source": [
        "9) How many missing values do we have?\n",
        "     Hint: you can use isnull() and sum()"
      ]
    },
    {
      "metadata": {
        "id": "mmppRXWwfcmn",
        "colab_type": "code",
        "colab": {
          "base_uri": "https://localhost:8080/",
          "height": 697
        },
        "outputId": "b8a28e15-819a-4d91-b467-9694094ac78a"
      },
      "cell_type": "code",
      "source": [
        "print(wine_df.isnull().values.any())\n",
        "print(wine_df.isnull().any())\n",
        "\"\"\"'''---'''\"\"\"\n",
        "print(wine_df.isnull().any().any())\n",
        "print(wine_df.head(5).isnull())"
      ],
      "execution_count": 0,
      "outputs": [
        {
          "output_type": "stream",
          "text": [
            "True\n",
            "ok                    True\n",
            "Alcohol              False\n",
            "MAlic Acid           False\n",
            "Ash                  False\n",
            "Alcalinity of Ash    False\n",
            "MAgnesium            False\n",
            "Total phenols        False\n",
            "Flavanoids           False\n",
            "NF phenols            True\n",
            "Proanthocyanin       False\n",
            "Color intensity      False\n",
            "Hue                  False\n",
            "code                 False\n",
            "Proline              False\n",
            "dtype: bool\n",
            "True\n",
            "      ok  Alcohol  MAlic Acid    Ash  Alcalinity of Ash  MAgnesium  \\\n",
            "m                                                                    \n",
            "0   True    False       False  False              False      False   \n",
            "1   True    False       False  False              False      False   \n",
            "2   True    False       False  False              False      False   \n",
            "3  False    False       False  False              False      False   \n",
            "4  False    False       False  False              False      False   \n",
            "\n",
            "   Total phenols  Flavanoids  NF phenols  Proanthocyanin  Color intensity  \\\n",
            "m                                                                           \n",
            "0          False       False       False           False            False   \n",
            "1          False       False       False           False            False   \n",
            "2          False       False       False           False            False   \n",
            "3          False       False        True           False            False   \n",
            "4          False       False       False           False            False   \n",
            "\n",
            "     Hue   code  Proline  \n",
            "m                         \n",
            "0  False  False    False  \n",
            "1  False  False    False  \n",
            "2  False  False    False  \n",
            "3  False  False    False  \n",
            "4  False  False    False  \n"
          ],
          "name": "stdout"
        }
      ]
    },
    {
      "metadata": {
        "id": "zqpvRz14kReW",
        "colab_type": "code",
        "colab": {
          "base_uri": "https://localhost:8080/",
          "height": 289
        },
        "outputId": "96ba45ff-5e8f-4702-e262-3527a1f01dee"
      },
      "cell_type": "code",
      "source": [
        "print(wine_df.isnull().sum())\n",
        "i=wine_df.isnull().sum().sum()\n",
        "print('total sum:'+str(i))"
      ],
      "execution_count": 0,
      "outputs": [
        {
          "output_type": "stream",
          "text": [
            "ok                   3\n",
            "Alcohol              0\n",
            "MAlic Acid           0\n",
            "Ash                  0\n",
            "Alcalinity of Ash    0\n",
            "MAgnesium            0\n",
            "Total phenols        0\n",
            "Flavanoids           0\n",
            "NF phenols           1\n",
            "Proanthocyanin       0\n",
            "Color intensity      0\n",
            "Hue                  0\n",
            "code                 0\n",
            "Proline              0\n",
            "dtype: int64\n",
            "total sum:4\n"
          ],
          "name": "stdout"
        }
      ]
    },
    {
      "metadata": {
        "id": "wuMkNXnQlBiH",
        "colab_type": "text"
      },
      "cell_type": "markdown",
      "source": [
        "10) Delete the rows that contain missing values:"
      ]
    },
    {
      "metadata": {
        "id": "I3ffb6bylGWi",
        "colab_type": "code",
        "colab": {
          "base_uri": "https://localhost:8080/",
          "height": 3689
        },
        "outputId": "a4d135e9-074f-4e1a-eff2-c576ab61d437"
      },
      "cell_type": "code",
      "source": [
        "#renaming the new frame as ok2\n",
        "ok2 = wine_df[['ok','Alcohol','MAlic Acid',\t'Ash',\t'Alcalinity of Ash',\t'MAgnesium',\t'Total phenols',\t'Flavanoids',\t'NF phenols',\t'Proanthocyanin',\t'Color intensity',\t'Hue',\t'code',\t'Proline']].notnull()\n",
        "print(ok2.head(5))\n",
        "print(wine_df.dropna(subset=['ok','Alcohol','MAlic Acid',\t'Ash',\t'Alcalinity of Ash',\t'MAgnesium',\t'Total phenols',\t'Flavanoids',\t'NF phenols',\t'Proanthocyanin',\t'Color intensity',\t'Hue',\t'code',\t'Proline']))"
      ],
      "execution_count": 0,
      "outputs": [
        {
          "output_type": "stream",
          "text": [
            "      ok  Alcohol  MAlic Acid   Ash  Alcalinity of Ash  MAgnesium  \\\n",
            "m                                                                   \n",
            "0  False     True        True  True               True       True   \n",
            "1  False     True        True  True               True       True   \n",
            "2  False     True        True  True               True       True   \n",
            "3   True     True        True  True               True       True   \n",
            "4   True     True        True  True               True       True   \n",
            "\n",
            "   Total phenols  Flavanoids  NF phenols  Proanthocyanin  Color intensity  \\\n",
            "m                                                                           \n",
            "0           True        True        True            True             True   \n",
            "1           True        True        True            True             True   \n",
            "2           True        True        True            True             True   \n",
            "3           True        True       False            True             True   \n",
            "4           True        True        True            True             True   \n",
            "\n",
            "    Hue  code  Proline  \n",
            "m                       \n",
            "0  True  True     True  \n",
            "1  True  True     True  \n",
            "2  True  True     True  \n",
            "3  True  True     True  \n",
            "4  True  True     True  \n",
            "    ok  Alcohol  MAlic Acid   Ash  Alcalinity of Ash MAgnesium  Total phenols  \\\n",
            "m                                                                               \n",
            "4    1    13.24        2.59  2.87               21.0       NaN           2.80   \n",
            "5    1    14.20        1.76  2.45               15.2       112           3.27   \n",
            "6    1    14.39        1.87  2.45               14.6        96           2.50   \n",
            "7    1    14.06        2.15  2.61               17.6       121           2.60   \n",
            "8    1    14.83        1.64  2.17               14.0        97           2.80   \n",
            "9    1    13.86        1.35  2.27               16.0        98           2.98   \n",
            "10   1    14.10        2.16  2.30               18.0       105           2.95   \n",
            "11   1    14.12        1.48  2.32               16.8        95           2.20   \n",
            "12   1    13.75        1.73  2.41               16.0        89           2.60   \n",
            "13   1    14.75        1.73  2.39               11.4        91           3.10   \n",
            "14   1    14.38        1.87  2.38               12.0       102           3.30   \n",
            "15   1    13.63        1.81  2.70               17.2       112           2.85   \n",
            "16   1    14.30        1.92  2.72               20.0       120           2.80   \n",
            "17   1    13.83        1.57  2.62               20.0       115           2.95   \n",
            "18   1    14.19        1.59  2.48               16.5       108           3.30   \n",
            "19   1    13.64        3.10  2.56               15.2       116           2.70   \n",
            "20   1    14.06        1.63  2.28               16.0       126           3.00   \n",
            "21   1    12.93        3.80  2.65               18.6       102           2.41   \n",
            "22   1    13.71        1.86  2.36               16.6       101           2.61   \n",
            "23   1    12.85        1.60  2.52               17.8        95           2.48   \n",
            "24   1    13.50        1.81  2.61               20.0        96           2.53   \n",
            "25   1    13.05        2.05  3.22               25.0       124           2.63   \n",
            "26   1    13.39        1.77  2.62               16.1        93           2.85   \n",
            "27   1    13.30        1.72  2.14               17.0        94           2.40   \n",
            "28   1    13.87        1.90  2.80               19.4       107           2.95   \n",
            "29   1    14.02        1.68  2.21               16.0        96           2.65   \n",
            "30   1    13.73        1.50  2.70               22.5       101           3.00   \n",
            "31   1    13.58        1.66  2.36               19.1       106           2.86   \n",
            "32   1    13.68        1.83  2.36               17.2       104           2.42   \n",
            "33   1    13.76        1.53  2.70               19.5       132           2.95   \n",
            "..  ..      ...         ...   ...                ...       ...            ...   \n",
            "148  3    13.32        3.24  2.38               21.5        92           1.93   \n",
            "149  3    13.08        3.90  2.36               21.5       113           1.41   \n",
            "150  3    13.50        3.12  2.62               24.0       123           1.40   \n",
            "151  3    12.79        2.67  2.48               22.0       112           1.48   \n",
            "152  3    13.11        1.90  2.75               25.5       116           2.20   \n",
            "153  3    13.23        3.30  2.28               18.5        98           1.80   \n",
            "154  3    12.58        1.29  2.10               20.0       103           1.48   \n",
            "155  3    13.17        5.19  2.32               22.0        93           1.74   \n",
            "156  3    13.84        4.12  2.38               19.5        89           1.80   \n",
            "157  3    12.45        3.03  2.64               27.0        97           1.90   \n",
            "158  3    14.34        1.68  2.70               25.0        98           2.80   \n",
            "159  3    13.48        1.67  2.64               22.5        89           2.60   \n",
            "160  3    12.36        3.83  2.38               21.0        88           2.30   \n",
            "161  3    13.69        3.26  2.54               20.0       107           1.83   \n",
            "162  3    12.85        3.27  2.58               22.0       106           1.65   \n",
            "163  3    12.96        3.45  2.35               18.5       106           1.39   \n",
            "164  3    13.78        2.76  2.30               22.0        90           1.35   \n",
            "165  3    13.73        4.36  2.26               22.5        88           1.28   \n",
            "166  3    13.45        3.70  2.60               23.0       111           1.70   \n",
            "167  3    12.82        3.37  2.30               19.5        88           1.48   \n",
            "168  3    13.58        2.58  2.69               24.5       105           1.55   \n",
            "169  3    13.40        4.60  2.86               25.0       112           1.98   \n",
            "170  3    12.20        3.03  2.32               19.0        96           1.25   \n",
            "171  3    12.77        2.39  2.28               19.5        86           1.39   \n",
            "172  3    14.16        2.51  2.48               20.0        91           1.68   \n",
            "173  3    13.71        5.65  2.45               20.5        95           1.68   \n",
            "174  3    13.40        3.91  2.48               23.0       102           1.80   \n",
            "175  3    13.27        4.28  2.26               20.0       120           1.59   \n",
            "176  3    13.17        2.59  2.37               20.0       120           1.65   \n",
            "177  3    14.13        4.10  2.74               24.5        96           2.05   \n",
            "\n",
            "     Flavanoids  NF phenols  Proanthocyanin  Color intensity   Hue  code  \\\n",
            "m                                                                          \n",
            "4          2.69        0.39            1.82         4.320000  1.04  2.93   \n",
            "5          3.39        0.34            1.97         6.750000  1.05  2.85   \n",
            "6          2.52        0.30            1.98         5.250000  1.02  3.58   \n",
            "7          2.51        0.31            1.25         5.050000  1.06  3.58   \n",
            "8          2.98        0.29            1.98         5.200000  1.08  2.85   \n",
            "9          3.15        0.22            1.85         7.220000  1.01  3.55   \n",
            "10         3.32        0.22            2.38         5.750000  1.25  3.17   \n",
            "11         2.43        0.26            1.57         5.000000  1.17  2.82   \n",
            "12         2.76        0.29            1.81         5.600000  1.15   2.9   \n",
            "13         3.69        0.43            2.81         5.400000  1.25  2.73   \n",
            "14         3.64        0.29            2.96         7.500000  1.20     3   \n",
            "15         2.91        0.30            1.46         7.300000  1.28  2.88   \n",
            "16         3.14        0.33            1.97         6.200000  1.07  2.65   \n",
            "17         3.40        0.40            1.72         6.600000  1.13  2.57   \n",
            "18         3.93        0.32            1.86         8.700000  1.23  2.82   \n",
            "19         3.03        0.17            1.66         5.100000  0.96  3.36   \n",
            "20         3.17        0.24            2.10         5.650000  1.09  3.71   \n",
            "21         2.41        0.25            1.98         4.500000  1.03  3.52   \n",
            "22         2.88        0.27            1.69         3.800000  1.11     4   \n",
            "23         2.37        0.26            1.46         3.930000  1.09  3.63   \n",
            "24         2.61        0.28            1.66         3.520000  1.12  3.82   \n",
            "25         2.68        0.47            1.92         3.580000  1.13   3.2   \n",
            "26         2.94        0.34            1.45         4.800000  0.92  3.22   \n",
            "27         2.19        0.27            1.35         3.950000  1.02  2.77   \n",
            "28         2.97        0.37            1.76         4.500000  1.25   3.4   \n",
            "29         2.33        0.26            1.98         4.700000  1.04  3.59   \n",
            "30         3.25        0.29            2.38         5.700000  1.19  2.71   \n",
            "31         3.19        0.22            1.95         6.900000  1.09  2.88   \n",
            "32         2.69        0.42            1.97         3.840000  1.23  2.87   \n",
            "33         2.74        0.50            1.35         5.400000  1.25     3   \n",
            "..          ...         ...             ...              ...   ...   ...   \n",
            "148        0.76        0.45            1.25         8.420000  0.55  1.62   \n",
            "149        1.39        0.34            1.14         9.400000  0.57  1.33   \n",
            "150        1.57        0.22            1.25         8.600000  0.59   1.3   \n",
            "151        1.36        0.24            1.26        10.800000  0.48  1.47   \n",
            "152        1.28        0.26            1.56         7.100000  0.61  1.33   \n",
            "153        0.83        0.61            1.87        10.520000  0.56  1.51   \n",
            "154        0.58        0.53            1.40         7.600000  0.58  1.55   \n",
            "155        0.63        0.61            1.55         7.900000  0.60  1.48   \n",
            "156        0.83        0.48            1.56         9.010000  0.57  1.64   \n",
            "157        0.58        0.63            1.14         7.500000  0.67  1.73   \n",
            "158        1.31        0.53            2.70        13.000000  0.57  1.96   \n",
            "159        1.10        0.52            2.29        11.750000  0.57  1.78   \n",
            "160        0.92        0.50            1.04         7.650000  0.56  1.58   \n",
            "161        0.56        0.50            0.80         5.880000  0.96  1.82   \n",
            "162        0.60        0.60            0.96         5.580000  0.87  2.11   \n",
            "163        0.70        0.40            0.94         5.280000  0.68  1.75   \n",
            "164        0.68        0.41            1.03         9.580000  0.70  1.68   \n",
            "165        0.47        0.52            1.15         6.620000  0.78  1.75   \n",
            "166        0.92        0.43            1.46        10.680000  0.85  1.56   \n",
            "167        0.66        0.40            0.97        10.260000  0.72  1.75   \n",
            "168        0.84        0.39            1.54         8.660000  0.74   1.8   \n",
            "169        0.96        0.27            1.11         8.500000  0.67  1.92   \n",
            "170        0.49        0.40            0.73         5.500000  0.66  1.83   \n",
            "171        0.51        0.48            0.64         9.899999  0.57  1.63   \n",
            "172        0.70        0.44            1.24         9.700000  0.62  1.71   \n",
            "173        0.61        0.52            1.06         7.700000  0.64  1.74   \n",
            "174        0.75        0.43            1.41         7.300000  0.70  1.56   \n",
            "175        0.69        0.43            1.35        10.200000  0.59  1.56   \n",
            "176        0.68        0.53            1.46         9.300000  0.60  1.62   \n",
            "177        0.76        0.56            1.35         9.200000  0.61   1.6   \n",
            "\n",
            "     Proline  \n",
            "m             \n",
            "4        735  \n",
            "5       1450  \n",
            "6       1290  \n",
            "7       1295  \n",
            "8       1045  \n",
            "9       1045  \n",
            "10      1510  \n",
            "11      1280  \n",
            "12      1320  \n",
            "13      1150  \n",
            "14      1547  \n",
            "15      1310  \n",
            "16      1280  \n",
            "17      1130  \n",
            "18      1680  \n",
            "19       845  \n",
            "20       780  \n",
            "21       770  \n",
            "22      1035  \n",
            "23      1015  \n",
            "24       845  \n",
            "25       830  \n",
            "26      1195  \n",
            "27      1285  \n",
            "28       915  \n",
            "29      1035  \n",
            "30      1285  \n",
            "31      1515  \n",
            "32       990  \n",
            "33      1235  \n",
            "..       ...  \n",
            "148      650  \n",
            "149      550  \n",
            "150      500  \n",
            "151      480  \n",
            "152      425  \n",
            "153      675  \n",
            "154      640  \n",
            "155      725  \n",
            "156      480  \n",
            "157      880  \n",
            "158      660  \n",
            "159      620  \n",
            "160      520  \n",
            "161      680  \n",
            "162      570  \n",
            "163      675  \n",
            "164      615  \n",
            "165      520  \n",
            "166      695  \n",
            "167      685  \n",
            "168      750  \n",
            "169      630  \n",
            "170      510  \n",
            "171      470  \n",
            "172      660  \n",
            "173      740  \n",
            "174      750  \n",
            "175      835  \n",
            "176      840  \n",
            "177      560  \n",
            "\n",
            "[174 rows x 14 columns]\n"
          ],
          "name": "stdout"
        }
      ]
    },
    {
      "metadata": {
        "id": "xF-wdUUDoTxW",
        "colab_type": "text"
      },
      "cell_type": "markdown",
      "source": [
        "11) BONUS: Play with the data set below"
      ]
    },
    {
      "metadata": {
        "id": "B0wJ6x7uoZ2b",
        "colab_type": "code",
        "colab": {
          "base_uri": "https://localhost:8080/",
          "height": 297
        },
        "outputId": "730fc093-768a-4c98-9ca5-9c910ddcc4a4"
      },
      "cell_type": "code",
      "source": [
        "wine_df.describe()"
      ],
      "execution_count": 0,
      "outputs": [
        {
          "output_type": "execute_result",
          "data": {
            "text/html": [
              "<div>\n",
              "<style scoped>\n",
              "    .dataframe tbody tr th:only-of-type {\n",
              "        vertical-align: middle;\n",
              "    }\n",
              "\n",
              "    .dataframe tbody tr th {\n",
              "        vertical-align: top;\n",
              "    }\n",
              "\n",
              "    .dataframe thead th {\n",
              "        text-align: right;\n",
              "    }\n",
              "</style>\n",
              "<table border=\"1\" class=\"dataframe\">\n",
              "  <thead>\n",
              "    <tr style=\"text-align: right;\">\n",
              "      <th></th>\n",
              "      <th>Alcohol</th>\n",
              "      <th>MAlic Acid</th>\n",
              "      <th>Ash</th>\n",
              "      <th>Alcalinity of Ash</th>\n",
              "      <th>Total phenols</th>\n",
              "      <th>Flavanoids</th>\n",
              "      <th>NF phenols</th>\n",
              "      <th>Proanthocyanin</th>\n",
              "      <th>Color intensity</th>\n",
              "      <th>Hue</th>\n",
              "      <th>Proline</th>\n",
              "    </tr>\n",
              "  </thead>\n",
              "  <tbody>\n",
              "    <tr>\n",
              "      <th>count</th>\n",
              "      <td>178.000000</td>\n",
              "      <td>178.000000</td>\n",
              "      <td>178.000000</td>\n",
              "      <td>178.000000</td>\n",
              "      <td>178.000000</td>\n",
              "      <td>178.000000</td>\n",
              "      <td>177.000000</td>\n",
              "      <td>178.000000</td>\n",
              "      <td>178.000000</td>\n",
              "      <td>178.000000</td>\n",
              "      <td>178.000000</td>\n",
              "    </tr>\n",
              "    <tr>\n",
              "      <th>mean</th>\n",
              "      <td>13.000618</td>\n",
              "      <td>2.336348</td>\n",
              "      <td>2.366517</td>\n",
              "      <td>19.494944</td>\n",
              "      <td>2.295112</td>\n",
              "      <td>2.029270</td>\n",
              "      <td>0.362542</td>\n",
              "      <td>1.590899</td>\n",
              "      <td>5.058090</td>\n",
              "      <td>0.957449</td>\n",
              "      <td>746.893258</td>\n",
              "    </tr>\n",
              "    <tr>\n",
              "      <th>std</th>\n",
              "      <td>0.811827</td>\n",
              "      <td>1.117146</td>\n",
              "      <td>0.274344</td>\n",
              "      <td>3.339564</td>\n",
              "      <td>0.625851</td>\n",
              "      <td>0.998859</td>\n",
              "      <td>0.124466</td>\n",
              "      <td>0.572359</td>\n",
              "      <td>2.318286</td>\n",
              "      <td>0.228572</td>\n",
              "      <td>314.907474</td>\n",
              "    </tr>\n",
              "    <tr>\n",
              "      <th>min</th>\n",
              "      <td>11.030000</td>\n",
              "      <td>0.740000</td>\n",
              "      <td>1.360000</td>\n",
              "      <td>10.600000</td>\n",
              "      <td>0.980000</td>\n",
              "      <td>0.340000</td>\n",
              "      <td>0.130000</td>\n",
              "      <td>0.410000</td>\n",
              "      <td>1.280000</td>\n",
              "      <td>0.480000</td>\n",
              "      <td>278.000000</td>\n",
              "    </tr>\n",
              "    <tr>\n",
              "      <th>25%</th>\n",
              "      <td>12.362500</td>\n",
              "      <td>1.602500</td>\n",
              "      <td>2.210000</td>\n",
              "      <td>17.200000</td>\n",
              "      <td>1.742500</td>\n",
              "      <td>1.205000</td>\n",
              "      <td>0.270000</td>\n",
              "      <td>1.250000</td>\n",
              "      <td>3.220000</td>\n",
              "      <td>0.782500</td>\n",
              "      <td>500.500000</td>\n",
              "    </tr>\n",
              "    <tr>\n",
              "      <th>50%</th>\n",
              "      <td>13.050000</td>\n",
              "      <td>1.865000</td>\n",
              "      <td>2.360000</td>\n",
              "      <td>19.500000</td>\n",
              "      <td>2.355000</td>\n",
              "      <td>2.135000</td>\n",
              "      <td>0.340000</td>\n",
              "      <td>1.555000</td>\n",
              "      <td>4.690000</td>\n",
              "      <td>0.965000</td>\n",
              "      <td>673.500000</td>\n",
              "    </tr>\n",
              "    <tr>\n",
              "      <th>75%</th>\n",
              "      <td>13.677500</td>\n",
              "      <td>3.082500</td>\n",
              "      <td>2.557500</td>\n",
              "      <td>21.500000</td>\n",
              "      <td>2.800000</td>\n",
              "      <td>2.875000</td>\n",
              "      <td>0.440000</td>\n",
              "      <td>1.950000</td>\n",
              "      <td>6.200000</td>\n",
              "      <td>1.120000</td>\n",
              "      <td>985.000000</td>\n",
              "    </tr>\n",
              "    <tr>\n",
              "      <th>max</th>\n",
              "      <td>14.830000</td>\n",
              "      <td>5.800000</td>\n",
              "      <td>3.230000</td>\n",
              "      <td>30.000000</td>\n",
              "      <td>3.880000</td>\n",
              "      <td>5.080000</td>\n",
              "      <td>0.660000</td>\n",
              "      <td>3.580000</td>\n",
              "      <td>13.000000</td>\n",
              "      <td>1.710000</td>\n",
              "      <td>1680.000000</td>\n",
              "    </tr>\n",
              "  </tbody>\n",
              "</table>\n",
              "</div>"
            ],
            "text/plain": [
              "          Alcohol  MAlic Acid         Ash  Alcalinity of Ash  Total phenols  \\\n",
              "count  178.000000  178.000000  178.000000         178.000000     178.000000   \n",
              "mean    13.000618    2.336348    2.366517          19.494944       2.295112   \n",
              "std      0.811827    1.117146    0.274344           3.339564       0.625851   \n",
              "min     11.030000    0.740000    1.360000          10.600000       0.980000   \n",
              "25%     12.362500    1.602500    2.210000          17.200000       1.742500   \n",
              "50%     13.050000    1.865000    2.360000          19.500000       2.355000   \n",
              "75%     13.677500    3.082500    2.557500          21.500000       2.800000   \n",
              "max     14.830000    5.800000    3.230000          30.000000       3.880000   \n",
              "\n",
              "       Flavanoids  NF phenols  Proanthocyanin  Color intensity         Hue  \\\n",
              "count  178.000000  177.000000      178.000000       178.000000  178.000000   \n",
              "mean     2.029270    0.362542        1.590899         5.058090    0.957449   \n",
              "std      0.998859    0.124466        0.572359         2.318286    0.228572   \n",
              "min      0.340000    0.130000        0.410000         1.280000    0.480000   \n",
              "25%      1.205000    0.270000        1.250000         3.220000    0.782500   \n",
              "50%      2.135000    0.340000        1.555000         4.690000    0.965000   \n",
              "75%      2.875000    0.440000        1.950000         6.200000    1.120000   \n",
              "max      5.080000    0.660000        3.580000        13.000000    1.710000   \n",
              "\n",
              "           Proline  \n",
              "count   178.000000  \n",
              "mean    746.893258  \n",
              "std     314.907474  \n",
              "min     278.000000  \n",
              "25%     500.500000  \n",
              "50%     673.500000  \n",
              "75%     985.000000  \n",
              "max    1680.000000  "
            ]
          },
          "metadata": {
            "tags": []
          },
          "execution_count": 145
        }
      ]
    },
    {
      "metadata": {
        "id": "IdAqqin4ooVG",
        "colab_type": "code",
        "colab": {
          "base_uri": "https://localhost:8080/",
          "height": 80
        },
        "outputId": "81694a79-b2e2-4778-bcf3-a3b83d6e08b6"
      },
      "cell_type": "code",
      "source": [
        "wine_df.head(4).dropna(subset=['ok','Alcohol','MAlic Acid',\t'Ash',\t'Alcalinity of Ash',\t'MAgnesium',\t'Total phenols',\t'Flavanoids',\t'NF phenols',\t'Proanthocyanin',\t'Color intensity',\t'Hue',\t'code',\t'Proline'])"
      ],
      "execution_count": 0,
      "outputs": [
        {
          "output_type": "execute_result",
          "data": {
            "text/html": [
              "<div>\n",
              "<style scoped>\n",
              "    .dataframe tbody tr th:only-of-type {\n",
              "        vertical-align: middle;\n",
              "    }\n",
              "\n",
              "    .dataframe tbody tr th {\n",
              "        vertical-align: top;\n",
              "    }\n",
              "\n",
              "    .dataframe thead th {\n",
              "        text-align: right;\n",
              "    }\n",
              "</style>\n",
              "<table border=\"1\" class=\"dataframe\">\n",
              "  <thead>\n",
              "    <tr style=\"text-align: right;\">\n",
              "      <th></th>\n",
              "      <th>ok</th>\n",
              "      <th>Alcohol</th>\n",
              "      <th>MAlic Acid</th>\n",
              "      <th>Ash</th>\n",
              "      <th>Alcalinity of Ash</th>\n",
              "      <th>MAgnesium</th>\n",
              "      <th>Total phenols</th>\n",
              "      <th>Flavanoids</th>\n",
              "      <th>NF phenols</th>\n",
              "      <th>Proanthocyanin</th>\n",
              "      <th>Color intensity</th>\n",
              "      <th>Hue</th>\n",
              "      <th>code</th>\n",
              "      <th>Proline</th>\n",
              "    </tr>\n",
              "    <tr>\n",
              "      <th>m</th>\n",
              "      <th></th>\n",
              "      <th></th>\n",
              "      <th></th>\n",
              "      <th></th>\n",
              "      <th></th>\n",
              "      <th></th>\n",
              "      <th></th>\n",
              "      <th></th>\n",
              "      <th></th>\n",
              "      <th></th>\n",
              "      <th></th>\n",
              "      <th></th>\n",
              "      <th></th>\n",
              "      <th></th>\n",
              "    </tr>\n",
              "  </thead>\n",
              "  <tbody>\n",
              "  </tbody>\n",
              "</table>\n",
              "</div>"
            ],
            "text/plain": [
              "Empty DataFrame\n",
              "Columns: [ok, Alcohol, MAlic Acid, Ash, Alcalinity of Ash, MAgnesium, Total phenols, Flavanoids, NF phenols, Proanthocyanin, Color intensity, Hue, code, Proline]\n",
              "Index: []"
            ]
          },
          "metadata": {
            "tags": []
          },
          "execution_count": 147
        }
      ]
    },
    {
      "metadata": {
        "id": "mnENeFjcpZWs",
        "colab_type": "code",
        "colab": {
          "base_uri": "https://localhost:8080/",
          "height": 173
        },
        "outputId": "29995afe-3f63-47c8-cc5e-d5a0edd79fc6"
      },
      "cell_type": "code",
      "source": [
        "wine_df.head(7).dropna(subset=['ok','Alcohol','MAlic Acid',\t'Ash',\t'Alcalinity of Ash',\t'MAgnesium',\t'Total phenols',\t'Flavanoids',\t'NF phenols',\t'Proanthocyanin',\t'Color intensity',\t'Hue',\t'code',\t'Proline'])"
      ],
      "execution_count": 0,
      "outputs": [
        {
          "output_type": "execute_result",
          "data": {
            "text/html": [
              "<div>\n",
              "<style scoped>\n",
              "    .dataframe tbody tr th:only-of-type {\n",
              "        vertical-align: middle;\n",
              "    }\n",
              "\n",
              "    .dataframe tbody tr th {\n",
              "        vertical-align: top;\n",
              "    }\n",
              "\n",
              "    .dataframe thead th {\n",
              "        text-align: right;\n",
              "    }\n",
              "</style>\n",
              "<table border=\"1\" class=\"dataframe\">\n",
              "  <thead>\n",
              "    <tr style=\"text-align: right;\">\n",
              "      <th></th>\n",
              "      <th>ok</th>\n",
              "      <th>Alcohol</th>\n",
              "      <th>MAlic Acid</th>\n",
              "      <th>Ash</th>\n",
              "      <th>Alcalinity of Ash</th>\n",
              "      <th>MAgnesium</th>\n",
              "      <th>Total phenols</th>\n",
              "      <th>Flavanoids</th>\n",
              "      <th>NF phenols</th>\n",
              "      <th>Proanthocyanin</th>\n",
              "      <th>Color intensity</th>\n",
              "      <th>Hue</th>\n",
              "      <th>code</th>\n",
              "      <th>Proline</th>\n",
              "    </tr>\n",
              "    <tr>\n",
              "      <th>m</th>\n",
              "      <th></th>\n",
              "      <th></th>\n",
              "      <th></th>\n",
              "      <th></th>\n",
              "      <th></th>\n",
              "      <th></th>\n",
              "      <th></th>\n",
              "      <th></th>\n",
              "      <th></th>\n",
              "      <th></th>\n",
              "      <th></th>\n",
              "      <th></th>\n",
              "      <th></th>\n",
              "      <th></th>\n",
              "    </tr>\n",
              "  </thead>\n",
              "  <tbody>\n",
              "    <tr>\n",
              "      <th>4</th>\n",
              "      <td>1</td>\n",
              "      <td>13.24</td>\n",
              "      <td>2.59</td>\n",
              "      <td>2.87</td>\n",
              "      <td>21.0</td>\n",
              "      <td>NaN</td>\n",
              "      <td>2.80</td>\n",
              "      <td>2.69</td>\n",
              "      <td>0.39</td>\n",
              "      <td>1.82</td>\n",
              "      <td>4.32</td>\n",
              "      <td>1.04</td>\n",
              "      <td>2.93</td>\n",
              "      <td>735</td>\n",
              "    </tr>\n",
              "    <tr>\n",
              "      <th>5</th>\n",
              "      <td>1</td>\n",
              "      <td>14.20</td>\n",
              "      <td>1.76</td>\n",
              "      <td>2.45</td>\n",
              "      <td>15.2</td>\n",
              "      <td>112</td>\n",
              "      <td>3.27</td>\n",
              "      <td>3.39</td>\n",
              "      <td>0.34</td>\n",
              "      <td>1.97</td>\n",
              "      <td>6.75</td>\n",
              "      <td>1.05</td>\n",
              "      <td>2.85</td>\n",
              "      <td>1450</td>\n",
              "    </tr>\n",
              "    <tr>\n",
              "      <th>6</th>\n",
              "      <td>1</td>\n",
              "      <td>14.39</td>\n",
              "      <td>1.87</td>\n",
              "      <td>2.45</td>\n",
              "      <td>14.6</td>\n",
              "      <td>96</td>\n",
              "      <td>2.50</td>\n",
              "      <td>2.52</td>\n",
              "      <td>0.30</td>\n",
              "      <td>1.98</td>\n",
              "      <td>5.25</td>\n",
              "      <td>1.02</td>\n",
              "      <td>3.58</td>\n",
              "      <td>1290</td>\n",
              "    </tr>\n",
              "  </tbody>\n",
              "</table>\n",
              "</div>"
            ],
            "text/plain": [
              "  ok  Alcohol  MAlic Acid   Ash  Alcalinity of Ash MAgnesium  Total phenols  \\\n",
              "m                                                                             \n",
              "4  1    13.24        2.59  2.87               21.0       NaN           2.80   \n",
              "5  1    14.20        1.76  2.45               15.2       112           3.27   \n",
              "6  1    14.39        1.87  2.45               14.6        96           2.50   \n",
              "\n",
              "   Flavanoids  NF phenols  Proanthocyanin  Color intensity   Hue  code  \\\n",
              "m                                                                        \n",
              "4        2.69        0.39            1.82             4.32  1.04  2.93   \n",
              "5        3.39        0.34            1.97             6.75  1.05  2.85   \n",
              "6        2.52        0.30            1.98             5.25  1.02  3.58   \n",
              "\n",
              "   Proline  \n",
              "m           \n",
              "4      735  \n",
              "5     1450  \n",
              "6     1290  "
            ]
          },
          "metadata": {
            "tags": []
          },
          "execution_count": 148
        }
      ]
    },
    {
      "metadata": {
        "id": "i1hfOdXdpW2Q",
        "colab_type": "code",
        "colab": {
          "base_uri": "https://localhost:8080/",
          "height": 85
        },
        "outputId": "ae114394-1bc0-4ea0-d5e8-44fa849a2133"
      },
      "cell_type": "code",
      "source": [
        "wine_df.columns.values"
      ],
      "execution_count": 0,
      "outputs": [
        {
          "output_type": "execute_result",
          "data": {
            "text/plain": [
              "array(['ok', 'Alcohol', 'MAlic Acid', 'Ash', 'Alcalinity of Ash',\n",
              "       'MAgnesium', 'Total phenols', 'Flavanoids', 'NF phenols',\n",
              "       'Proanthocyanin', 'Color intensity', 'Hue', 'code', 'Proline'],\n",
              "      dtype=object)"
            ]
          },
          "metadata": {
            "tags": []
          },
          "execution_count": 153
        }
      ]
    },
    {
      "metadata": {
        "id": "UoFlxSW4qHax",
        "colab_type": "code",
        "colab": {
          "base_uri": "https://localhost:8080/",
          "height": 85
        },
        "outputId": "369f7874-5f09-41f5-8ce1-81ada90e4a49"
      },
      "cell_type": "code",
      "source": [
        "wine_df.columns"
      ],
      "execution_count": 0,
      "outputs": [
        {
          "output_type": "execute_result",
          "data": {
            "text/plain": [
              "Index(['ok', 'Alcohol', 'MAlic Acid', 'Ash', 'Alcalinity of Ash', 'MAgnesium',\n",
              "       'Total phenols', 'Flavanoids', 'NF phenols', 'Proanthocyanin',\n",
              "       'Color intensity', 'Hue', 'code', 'Proline'],\n",
              "      dtype='object')"
            ]
          },
          "metadata": {
            "tags": []
          },
          "execution_count": 154
        }
      ]
    },
    {
      "metadata": {
        "id": "Kz4pccOnqKGZ",
        "colab_type": "code",
        "colab": {
          "base_uri": "https://localhost:8080/",
          "height": 85
        },
        "outputId": "f9ccb575-3a03-436d-b3ac-e88b0edd2df5"
      },
      "cell_type": "code",
      "source": [
        "arr=[]\n",
        "arr=wine_df.columns\n",
        "print(arr)"
      ],
      "execution_count": 0,
      "outputs": [
        {
          "output_type": "stream",
          "text": [
            "Index(['ok', 'Alcohol', 'MAlic Acid', 'Ash', 'Alcalinity of Ash', 'MAgnesium',\n",
            "       'Total phenols', 'Flavanoids', 'NF phenols', 'Proanthocyanin',\n",
            "       'Color intensity', 'Hue', 'code', 'Proline'],\n",
            "      dtype='object')\n"
          ],
          "name": "stdout"
        }
      ]
    },
    {
      "metadata": {
        "id": "dLopjAGIqZ-P",
        "colab_type": "code",
        "colab": {
          "base_uri": "https://localhost:8080/",
          "height": 68
        },
        "outputId": "15ab555d-fe7a-4c08-99b8-8cfd4cbad24c"
      },
      "cell_type": "code",
      "source": [
        "arr=[]\n",
        "arr=wine_df.columns.values\n",
        "print(arr)  #this one's better"
      ],
      "execution_count": 0,
      "outputs": [
        {
          "output_type": "stream",
          "text": [
            "['ok' 'Alcohol' 'MAlic Acid' 'Ash' 'Alcalinity of Ash' 'MAgnesium'\n",
            " 'Total phenols' 'Flavanoids' 'NF phenols' 'Proanthocyanin'\n",
            " 'Color intensity' 'Hue' 'code' 'Proline']\n"
          ],
          "name": "stdout"
        }
      ]
    },
    {
      "metadata": {
        "id": "1DmkP9bsqggt",
        "colab_type": "code",
        "colab": {}
      },
      "cell_type": "code",
      "source": [
        ""
      ],
      "execution_count": 0,
      "outputs": []
    },
    {
      "metadata": {
        "id": "hTekB-USV3ua",
        "colab_type": "text"
      },
      "cell_type": "markdown",
      "source": [
        "**COMPLETE**\n",
        "\n",
        "```\n",
        "*~COMPLETE~*\n",
        "```\n",
        "\n"
      ]
    },
    {
      "metadata": {
        "id": "xr7Tl4yFVsXv",
        "colab_type": "text"
      },
      "cell_type": "markdown",
      "source": [
        ""
      ]
    }
  ]
}