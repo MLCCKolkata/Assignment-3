{
  "nbformat": 4,
  "nbformat_minor": 0,
  "metadata": {
    "colab": {
      "name": "shuvankarroy.ipynb",
      "version": "0.3.2",
      "provenance": []
    },
    "kernelspec": {
      "display_name": "Python 3",
      "language": "python",
      "name": "python3"
    }
  },
  "cells": [
    {
      "metadata": {
        "id": "h0hMMTRmcUCd",
        "colab_type": "code",
        "colab": {}
      },
      "cell_type": "code",
      "source": [
        "#import necessary modules\n",
        "import numpy as np\n",
        "import pandas as pd\n",
        "#Load url = \"https://archive.ics.uci.edu/ml/machine-learning-databases/wine/wine.data\" to a dataframe named wine_df\n",
        "#This is a wine dataset\n",
        "wineData = pd.read_csv(\"https://archive.ics.uci.edu/ml/machine-learning-databases/wine/wine.data\")\n",
        "\n",
        "#print first five rows\n",
        "wineData.head(5)\n",
        "\n",
        "#assign wine_df to a different variable wine_df_copy and then delete all odd rows of wine_df_copy\n",
        "\n",
        "\"\"\"\n",
        "Assign the columns as below:\n",
        "The attributes are (dontated by Riccardo Leardi, riclea '@' anchem.unige.it):\n",
        "1) Alcohol\n",
        "2) Malic acid\n",
        "3) Ash\n",
        "4) Alcalinity of ash\n",
        "5) Magnesium\n",
        "6) Total phenols\n",
        "7) Flavanoids\n",
        "8) Nonflavanoid phenols\n",
        "9) Proanthocyanins\n",
        "10)Color intensity\n",
        "11)Hue\n",
        "12)OD280/OD315 of diluted wines\n",
        "13)Proline\n",
        "\"\"\"\n",
        "\n",
        "\n",
        "#Set the values of the first 3 rows from alcohol as NaN\n",
        "#Hint- Use iloc to select 3 rows of wine_df\n",
        "\n",
        "#Create an array of 10 random numbers uptill 10 and assign it to a variable named random\n",
        "\n",
        "#Use random numbers you generated as an index and assign NaN value to each of cell of the column alcohol\n",
        "\n",
        "#How many missing values do we have?\n",
        "#Hint: you can use isnull() and sum()\n",
        "\n",
        "#Delete the rows that contain missing values\n",
        "\n",
        "#BONUS: Play with the data set below\n",
        "\n",
        "\n"
      ],
      "execution_count": 0,
      "outputs": []
    }
  ]
}